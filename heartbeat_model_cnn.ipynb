{
  "nbformat": 4,
  "nbformat_minor": 0,
  "metadata": {
    "kernelspec": {
      "name": "python3",
      "display_name": "Python 3"
    },
    "language_info": {
      "codemirror_mode": {
        "name": "ipython",
        "version": 3
      },
      "file_extension": ".py",
      "mimetype": "text/x-python",
      "name": "python",
      "nbconvert_exporter": "python",
      "pygments_lexer": "ipython3",
      "version": "3.7.5"
    },
    "colab": {
      "name": "heartbeat_model_cnn.ipynb",
      "provenance": [],
      "collapsed_sections": [],
      "toc_visible": true,
      "include_colab_link": true
    },
    "accelerator": "GPU"
  },
  "cells": [
    {
      "cell_type": "markdown",
      "metadata": {
        "id": "view-in-github",
        "colab_type": "text"
      },
      "source": [
        "<a href=\"https://colab.research.google.com/github/lulmer/heartbeat_classifier/blob/master/heartbeat_model_cnn.ipynb\" target=\"_parent\"><img src=\"https://colab.research.google.com/assets/colab-badge.svg\" alt=\"Open In Colab\"/></a>"
      ]
    },
    {
      "cell_type": "markdown",
      "metadata": {
        "id": "I3HAHudZEtns",
        "colab_type": "text"
      },
      "source": [
        "# Projet EDTS | Classification de battements de cœur\n",
        "---\n",
        "\n",
        "### Arnaud QUILLENT et Louis ULMER"
      ]
    },
    {
      "cell_type": "markdown",
      "metadata": {
        "id": "Bb9wkBY9FJ_t",
        "colab_type": "text"
      },
      "source": [
        "# Architecture CNN"
      ]
    },
    {
      "cell_type": "code",
      "metadata": {
        "id": "-O7wI5a06nzy",
        "colab_type": "code",
        "outputId": "60c817a8-230d-44e1-8101-45b6160fbd00",
        "colab": {
          "base_uri": "https://localhost:8080/",
          "height": 34
        }
      },
      "source": [
        "# Montage du disque Google Drive sur le point /content/drive\n",
        "from google.colab import drive\n",
        "drive.mount(\"/content/drive\")"
      ],
      "execution_count": 0,
      "outputs": [
        {
          "output_type": "stream",
          "text": [
            "Drive already mounted at /content/drive; to attempt to forcibly remount, call drive.mount(\"/content/drive\", force_remount=True).\n"
          ],
          "name": "stdout"
        }
      ]
    },
    {
      "cell_type": "code",
      "metadata": {
        "id": "hzBEc6nz7ArN",
        "colab_type": "code",
        "colab": {}
      },
      "source": [
        "# Chemin d'accès au dataset\n",
        "path = \"drive/My Drive/INSA/ASI 5/EDTS/\""
      ],
      "execution_count": 0,
      "outputs": []
    },
    {
      "cell_type": "code",
      "metadata": {
        "id": "uQBfDLc96lod",
        "colab_type": "code",
        "colab": {}
      },
      "source": [
        "# Imports des utilitaires\n",
        "import scipy.io.wavfile\n",
        "import scipy.signal\n",
        "import matplotlib.pyplot as plt\n",
        "from pathlib import Path\n",
        "import numpy as np\n",
        "from sklearn.model_selection import train_test_split\n",
        "from sklearn.model_selection import StratifiedKFold\n",
        "import librosa\n",
        "import librosa.display\n",
        "from tqdm import tqdm"
      ],
      "execution_count": 0,
      "outputs": []
    },
    {
      "cell_type": "code",
      "metadata": {
        "id": "whHrFs3yUzTL",
        "colab_type": "code",
        "colab": {}
      },
      "source": [
        "np.random.seed(3581797089) # Fixation de la seed"
      ],
      "execution_count": 0,
      "outputs": []
    },
    {
      "cell_type": "code",
      "metadata": {
        "id": "kNALn7ZS6loh",
        "colab_type": "code",
        "colab": {}
      },
      "source": [
        "files = list(Path(path + \"dataset\").rglob(\"Btraining_*/*.wav\")) # Liste contenant le chemin d'accès aux fichiers du dataset"
      ],
      "execution_count": 0,
      "outputs": []
    },
    {
      "cell_type": "code",
      "metadata": {
        "id": "mKD1KU4g6lo1",
        "colab_type": "code",
        "colab": {}
      },
      "source": [
        "# Fonction retournant le label d'un fichier\n",
        "def labelling(cats, file):\n",
        "    for i, cat in enumerate(cats):\n",
        "        if cat in file.parts[6]:\n",
        "            return i"
      ],
      "execution_count": 0,
      "outputs": []
    },
    {
      "cell_type": "markdown",
      "metadata": {
        "id": "2sWYbSeJHbeT",
        "colab_type": "text"
      },
      "source": [
        "**Classes :**\n",
        "\n",
        "\n",
        "* `0` : Normal\n",
        "* `1` : Murmur\n",
        "* `2` : Extra-systole\n",
        "\n"
      ]
    },
    {
      "cell_type": "code",
      "metadata": {
        "id": "F1Xmuf7Z6lou",
        "colab_type": "code",
        "colab": {}
      },
      "source": [
        "cats = list(reversed(np.unique([file.parts[6] for file in files]))) # Noms des différentes classes"
      ],
      "execution_count": 0,
      "outputs": []
    },
    {
      "cell_type": "code",
      "metadata": {
        "id": "_CN_FnOTcRFv",
        "colab_type": "code",
        "colab": {}
      },
      "source": [
        "cats_files = [labelling(cats, file) for file in files] # Liste contenant tous les labels des fichiers du dataset"
      ],
      "execution_count": 0,
      "outputs": []
    },
    {
      "cell_type": "code",
      "metadata": {
        "id": "P7q9agmM6lol",
        "colab_type": "code",
        "colab": {}
      },
      "source": [
        "# Séparation en jeux d'apprentissage, validation et test\n",
        "# Utilisation de stratify = mêmes proportions de classes dans chacun des jeux créés\n",
        "idx_train, idx_val = train_test_split(range(len(files)), test_size=0.3, stratify=cats_files)\n",
        "idx_train, idx_test = train_test_split(idx_train, test_size=33, stratify=np.array(cats_files)[idx_train])"
      ],
      "execution_count": 0,
      "outputs": []
    },
    {
      "cell_type": "code",
      "metadata": {
        "id": "1ALZS_HGc8Eg",
        "colab_type": "code",
        "colab": {}
      },
      "source": [
        "# Récupération des chemins vers les fichiers suivant la répartition en jeux d'apprentissage, validation et test\n",
        "files_train = np.array(files)[idx_train]\n",
        "files_val = np.array(files)[idx_val]\n",
        "files_test = np.array(files)[idx_test]"
      ],
      "execution_count": 0,
      "outputs": []
    },
    {
      "cell_type": "code",
      "metadata": {
        "id": "CFNyyNs938ce",
        "colab_type": "code",
        "colab": {}
      },
      "source": [
        "# Récupération des labels des jeux d'apprentissage, validation et test\n",
        "y_train = np.array(cats_files)[idx_train]\n",
        "y_val = np.array(cats_files)[idx_val]\n",
        "y_test = np.array(cats_files)[idx_test]"
      ],
      "execution_count": 0,
      "outputs": []
    },
    {
      "cell_type": "code",
      "metadata": {
        "id": "Gj_uxEEp6lpJ",
        "colab_type": "code",
        "outputId": "19da3b8c-4d1c-4fcb-85d0-b9f3312e8f35",
        "colab": {
          "base_uri": "https://localhost:8080/",
          "height": 63
        }
      },
      "source": [
        "# Imports des modules de Deep Learning\n",
        "from tensorflow.keras.layers import InputLayer, Dense, Dropout, Softmax, Conv2D, MaxPool2D, Flatten, BatchNormalization\n",
        "from tensorflow.keras.models import Sequential\n",
        "from tensorflow.keras.utils import to_categorical\n",
        "from tensorflow.keras.optimizers import Adam\n",
        "from tensorflow.keras.callbacks import ModelCheckpoint, History, EarlyStopping\n",
        "from sklearn.metrics import classification_report"
      ],
      "execution_count": 0,
      "outputs": [
        {
          "output_type": "display_data",
          "data": {
            "text/html": [
              "<p style=\"color: red;\">\n",
              "The default version of TensorFlow in Colab will soon switch to TensorFlow 2.x.<br>\n",
              "We recommend you <a href=\"https://www.tensorflow.org/guide/migrate\" target=\"_blank\">upgrade</a> now \n",
              "or ensure your notebook will continue to use TensorFlow 1.x via the <code>%tensorflow_version 1.x</code> magic:\n",
              "<a href=\"https://colab.research.google.com/notebooks/tensorflow_version.ipynb\" target=\"_blank\">more info</a>.</p>\n"
            ],
            "text/plain": [
              "<IPython.core.display.HTML object>"
            ]
          },
          "metadata": {
            "tags": []
          }
        }
      ]
    },
    {
      "cell_type": "code",
      "metadata": {
        "id": "n452TQCyZ86i",
        "colab_type": "code",
        "colab": {}
      },
      "source": [
        "# Fonction convertissant une liste de fichiers en liste de spectrogrammes de Mel\n",
        "def to_spect(files):\n",
        "  x = np.empty((len(files), 128, 98)) # Initialisation de la matrice\n",
        "  for i, file in enumerate(tqdm(files)): # Pour chaque fichier de la liste (tqdm => affichage d'une barre de progression)\n",
        "    y, sr = librosa.load(file) # Ouverture du fichier, y = signal, sr = fréquence d'échantillonnage\n",
        "    # Pour que les spectrogrammes fassent tous la même taille, on fixe la longueur des signaux\n",
        "    if len(y) > 50000: # Si le signal est plus grand que 50000 valeurs\n",
        "      y = y[:50000] # On ne prend que les 50000 premières\n",
        "    elif len(y) < 50000: # Sinon\n",
        "      n_repet = int(np.ceil(50000/len(y))) # On calcule le nombre de répétitions du signal nécessaires\n",
        "      y = np.tile(y, n_repet)[:50000] # On répète le signal suivant ce nombre, et on en garde les 50000 premières valeurs\n",
        "    y = y/np.max(np.abs(y)) # Normalisation par le maximum\n",
        "    S = librosa.feature.melspectrogram(y, sr=sr, n_fft=2048, hop_length=512) # Calcul du spectrogramme de Mel\n",
        "    # (taille de fenêtre FFT = 2048, temps entre 2 frames = 512)(cf. papiers)\n",
        "    S_DB = librosa.power_to_db(S, ref=np.max) # Conversion en décibels\n",
        "    ss = (S_DB - np.mean(S_DB))/np.std(S_DB) # Réduction/centrage\n",
        "    ss = (ss - np.min(ss))/(np.max(ss)-np.min(ss)) # Normalisation min-max du spectrogramme => valeurs dans [0..1]\n",
        "    x[i,:,:] = ss # On ajoute le spectrogramme à la matrice\n",
        "  return x"
      ],
      "execution_count": 0,
      "outputs": []
    },
    {
      "cell_type": "code",
      "metadata": {
        "id": "41HOvbGjbHKC",
        "colab_type": "code",
        "outputId": "6e98386a-ed75-41af-b619-cc0e9a70db44",
        "colab": {
          "base_uri": "https://localhost:8080/",
          "height": 68
        }
      },
      "source": [
        "# Création des matrices d'apprentissage, validation et test\n",
        "x_train = to_spect(files_train)\n",
        "x_val = to_spect(files_val)\n",
        "x_test = to_spect(files_test)"
      ],
      "execution_count": 0,
      "outputs": [
        {
          "output_type": "stream",
          "text": [
            "100%|██████████| 289/289 [01:27<00:00,  3.16it/s]\n",
            "100%|██████████| 139/139 [00:43<00:00,  2.80it/s]\n",
            "100%|██████████| 33/33 [00:11<00:00,  3.60it/s]\n"
          ],
          "name": "stderr"
        }
      ]
    },
    {
      "cell_type": "code",
      "metadata": {
        "id": "u7JMSG-sgk5t",
        "colab_type": "code",
        "colab": {}
      },
      "source": [
        "# CNN attendent une entrée de taille (TAILLE_BATCH, HAUTEUR, LARGEUR, CANAUX) => on ajoute une dimension de 1 pour nos canaux\n",
        "x_train = np.expand_dims(x_train, 3)\n",
        "x_val = np.expand_dims(x_val, 3)\n",
        "x_test = np.expand_dims(x_test, 3)"
      ],
      "execution_count": 0,
      "outputs": []
    },
    {
      "cell_type": "code",
      "metadata": {
        "id": "vsbKTIeJstSm",
        "colab_type": "code",
        "colab": {}
      },
      "source": [
        "# Modèle de CNN\n",
        "def CNN():\n",
        "  cnn = Sequential()\n",
        "  cnn.add(InputLayer(input_shape=(128, 98, 1))) # Tous les spectrogrammes sont de taille (128, 98)\n",
        "  cnn.add(Conv2D(32, 3)) # 32 filtres, fenêtre de taille (3,3)\n",
        "  cnn.add(MaxPool2D(2))\n",
        "  cnn.add(Conv2D(64, 3)) # 64 filtres\n",
        "  cnn.add(MaxPool2D(2))\n",
        "  cnn.add(Conv2D(128, 3)) # 128 filtres\n",
        "  cnn.add(MaxPool2D(2))\n",
        "  cnn.add(Conv2D(256, 3)) # 256 filtres\n",
        "  cnn.add(MaxPool2D(2))\n",
        "  cnn.add(Flatten()) # Conversion en un long vecteur de taille 256*hauteur*largeur\n",
        "  cnn.add(Dense(3)) # Full connection vers 3 classes\n",
        "  cnn.add(Softmax()) # Prédiction de probabilités\n",
        "  return cnn"
      ],
      "execution_count": 0,
      "outputs": []
    },
    {
      "cell_type": "code",
      "metadata": {
        "id": "ath0uw2Usgnx",
        "colab_type": "code",
        "outputId": "56555d2f-a4fe-4252-8344-0979aae9e83a",
        "colab": {
          "base_uri": "https://localhost:8080/",
          "height": 527
        }
      },
      "source": [
        "# Affichage des couches, tailles et paramètres du modèle\n",
        "cnn = CNN()\n",
        "print(cnn.summary())"
      ],
      "execution_count": 0,
      "outputs": [
        {
          "output_type": "stream",
          "text": [
            "Model: \"sequential\"\n",
            "_________________________________________________________________\n",
            "Layer (type)                 Output Shape              Param #   \n",
            "=================================================================\n",
            "conv2d (Conv2D)              (None, 126, 96, 32)       320       \n",
            "_________________________________________________________________\n",
            "max_pooling2d (MaxPooling2D) (None, 63, 48, 32)        0         \n",
            "_________________________________________________________________\n",
            "conv2d_1 (Conv2D)            (None, 61, 46, 64)        18496     \n",
            "_________________________________________________________________\n",
            "max_pooling2d_1 (MaxPooling2 (None, 30, 23, 64)        0         \n",
            "_________________________________________________________________\n",
            "conv2d_2 (Conv2D)            (None, 28, 21, 128)       73856     \n",
            "_________________________________________________________________\n",
            "max_pooling2d_2 (MaxPooling2 (None, 14, 10, 128)       0         \n",
            "_________________________________________________________________\n",
            "conv2d_3 (Conv2D)            (None, 12, 8, 256)        295168    \n",
            "_________________________________________________________________\n",
            "max_pooling2d_3 (MaxPooling2 (None, 6, 4, 256)         0         \n",
            "_________________________________________________________________\n",
            "flatten (Flatten)            (None, 6144)              0         \n",
            "_________________________________________________________________\n",
            "dense (Dense)                (None, 3)                 18435     \n",
            "_________________________________________________________________\n",
            "softmax (Softmax)            (None, 3)                 0         \n",
            "=================================================================\n",
            "Total params: 406,275\n",
            "Trainable params: 406,275\n",
            "Non-trainable params: 0\n",
            "_________________________________________________________________\n"
          ],
          "name": "stdout"
        }
      ]
    },
    {
      "cell_type": "code",
      "metadata": {
        "id": "LEJEQG4M6lpU",
        "colab_type": "code",
        "colab": {}
      },
      "source": [
        "# Utilisation de l'optimiseur Adam, car propose un taux d'apprentissage adaptatif\n",
        "opti = Adam(lr=0.01)"
      ],
      "execution_count": 0,
      "outputs": []
    },
    {
      "cell_type": "code",
      "metadata": {
        "id": "xd9LtbnX6lpY",
        "colab_type": "code",
        "colab": {}
      },
      "source": [
        "# Compilation du graphe du modèle\n",
        "# Classification => Crossentropy\n",
        "# On cherche à maximiser la précision du modèle, en minimisant son entropie croisée\n",
        "cnn.compile(loss=\"categorical_crossentropy\", metrics=[\"acc\"], optimizer=opti)"
      ],
      "execution_count": 0,
      "outputs": []
    },
    {
      "cell_type": "code",
      "metadata": {
        "id": "MAernj9mIlrN",
        "colab_type": "code",
        "colab": {}
      },
      "source": [
        "# Callbacks Keras\n",
        "# Sauvegarde les poids du modèle à l'epoch où la précision est maximal\n",
        "chkpt_acc = ModelCheckpoint(filepath=path+\"best_acc.hdf5\", monitor=\"val_acc\", save_best_only=True, mode=\"max\", verbose=1)\n",
        "# Sauvegarde les poids du modèle à l'epoch où l'entropie est minimale\n",
        "chkpt_loss = ModelCheckpoint(filepath=path+\"best_loss.hdf5\", monitor=\"val_loss\", save_best_only=True, mode=\"min\", verbose=1)"
      ],
      "execution_count": 0,
      "outputs": []
    },
    {
      "cell_type": "code",
      "metadata": {
        "id": "qlOx9EZ56lpb",
        "colab_type": "code",
        "outputId": "037df842-ec9c-4e76-bbb9-facff95f6dc2",
        "colab": {
          "base_uri": "https://localhost:8080/",
          "height": 1000
        }
      },
      "source": [
        "# Apprentissage\n",
        "# Hyperparamètres choisis suite à plusieurs essais\n",
        "history = cnn.fit(x=x_train, y=to_categorical(y_train), epochs=40, batch_size=17, validation_data=(x_val, to_categorical(y_val)), callbacks=[chkpt_acc, chkpt_loss])"
      ],
      "execution_count": 0,
      "outputs": [
        {
          "output_type": "stream",
          "text": [
            "Train on 289 samples, validate on 139 samples\n",
            "Epoch 1/40\n",
            "238/289 [=======================>......] - ETA: 0s - loss: 83.5484 - acc: 0.4328\n",
            "Epoch 00001: val_acc improved from -inf to 0.62590, saving model to drive/My Drive/INSA/ASI 5/EDTS/best_acc.hdf5\n",
            "\n",
            "Epoch 00001: val_loss improved from inf to 8.77649, saving model to drive/My Drive/INSA/ASI 5/EDTS/best_loss.hdf5\n",
            "289/289 [==============================] - 3s 11ms/sample - loss: 85.6323 - acc: 0.4533 - val_loss: 8.7765 - val_acc: 0.6259\n",
            "Epoch 2/40\n",
            "255/289 [=========================>....] - ETA: 0s - loss: 39.0695 - acc: 0.5176\n",
            "Epoch 00002: val_acc improved from 0.62590 to 0.69065, saving model to drive/My Drive/INSA/ASI 5/EDTS/best_acc.hdf5\n",
            "\n",
            "Epoch 00002: val_loss did not improve from 8.77649\n",
            "289/289 [==============================] - 0s 1ms/sample - loss: 36.3646 - acc: 0.5087 - val_loss: 17.3348 - val_acc: 0.6906\n",
            "Epoch 3/40\n",
            "255/289 [=========================>....] - ETA: 0s - loss: 6.8621 - acc: 0.5490\n",
            "Epoch 00003: val_acc did not improve from 0.69065\n",
            "\n",
            "Epoch 00003: val_loss improved from 8.77649 to 2.89687, saving model to drive/My Drive/INSA/ASI 5/EDTS/best_loss.hdf5\n",
            "289/289 [==============================] - 0s 868us/sample - loss: 6.3828 - acc: 0.5121 - val_loss: 2.8969 - val_acc: 0.6906\n",
            "Epoch 4/40\n",
            "255/289 [=========================>....] - ETA: 0s - loss: 2.8180 - acc: 0.4588\n",
            "Epoch 00004: val_acc did not improve from 0.69065\n",
            "\n",
            "Epoch 00004: val_loss improved from 2.89687 to 1.33625, saving model to drive/My Drive/INSA/ASI 5/EDTS/best_loss.hdf5\n",
            "289/289 [==============================] - 0s 831us/sample - loss: 2.7947 - acc: 0.4913 - val_loss: 1.3363 - val_acc: 0.6906\n",
            "Epoch 5/40\n",
            "272/289 [===========================>..] - ETA: 0s - loss: 1.4203 - acc: 0.6140\n",
            "Epoch 00005: val_acc did not improve from 0.69065\n",
            "\n",
            "Epoch 00005: val_loss improved from 1.33625 to 1.27560, saving model to drive/My Drive/INSA/ASI 5/EDTS/best_loss.hdf5\n",
            "289/289 [==============================] - 0s 845us/sample - loss: 1.4546 - acc: 0.6090 - val_loss: 1.2756 - val_acc: 0.5755\n",
            "Epoch 6/40\n",
            "255/289 [=========================>....] - ETA: 0s - loss: 1.0803 - acc: 0.6314\n",
            "Epoch 00006: val_acc did not improve from 0.69065\n",
            "\n",
            "Epoch 00006: val_loss improved from 1.27560 to 0.90181, saving model to drive/My Drive/INSA/ASI 5/EDTS/best_loss.hdf5\n",
            "289/289 [==============================] - 0s 895us/sample - loss: 1.0420 - acc: 0.6436 - val_loss: 0.9018 - val_acc: 0.6906\n",
            "Epoch 7/40\n",
            "238/289 [=======================>......] - ETA: 0s - loss: 0.8318 - acc: 0.6933\n",
            "Epoch 00007: val_acc did not improve from 0.69065\n",
            "\n",
            "Epoch 00007: val_loss improved from 0.90181 to 0.81889, saving model to drive/My Drive/INSA/ASI 5/EDTS/best_loss.hdf5\n",
            "289/289 [==============================] - 0s 893us/sample - loss: 0.8366 - acc: 0.6920 - val_loss: 0.8189 - val_acc: 0.6906\n",
            "Epoch 8/40\n",
            "255/289 [=========================>....] - ETA: 0s - loss: 0.7769 - acc: 0.7059\n",
            "Epoch 00008: val_acc improved from 0.69065 to 0.69784, saving model to drive/My Drive/INSA/ASI 5/EDTS/best_acc.hdf5\n",
            "\n",
            "Epoch 00008: val_loss improved from 0.81889 to 0.77253, saving model to drive/My Drive/INSA/ASI 5/EDTS/best_loss.hdf5\n",
            "289/289 [==============================] - 0s 1ms/sample - loss: 0.7673 - acc: 0.7128 - val_loss: 0.7725 - val_acc: 0.6978\n",
            "Epoch 9/40\n",
            "272/289 [===========================>..] - ETA: 0s - loss: 0.7465 - acc: 0.7169\n",
            "Epoch 00009: val_acc improved from 0.69784 to 0.72662, saving model to drive/My Drive/INSA/ASI 5/EDTS/best_acc.hdf5\n",
            "\n",
            "Epoch 00009: val_loss improved from 0.77253 to 0.75355, saving model to drive/My Drive/INSA/ASI 5/EDTS/best_loss.hdf5\n",
            "289/289 [==============================] - 0s 1ms/sample - loss: 0.7407 - acc: 0.7232 - val_loss: 0.7536 - val_acc: 0.7266\n",
            "Epoch 10/40\n",
            "255/289 [=========================>....] - ETA: 0s - loss: 0.7284 - acc: 0.7294\n",
            "Epoch 00010: val_acc did not improve from 0.72662\n",
            "\n",
            "Epoch 00010: val_loss did not improve from 0.75355\n",
            "289/289 [==============================] - 0s 609us/sample - loss: 0.7252 - acc: 0.7266 - val_loss: 0.8749 - val_acc: 0.5540\n",
            "Epoch 11/40\n",
            "238/289 [=======================>......] - ETA: 0s - loss: 0.7635 - acc: 0.7017\n",
            "Epoch 00011: val_acc improved from 0.72662 to 0.74101, saving model to drive/My Drive/INSA/ASI 5/EDTS/best_acc.hdf5\n",
            "\n",
            "Epoch 00011: val_loss improved from 0.75355 to 0.73921, saving model to drive/My Drive/INSA/ASI 5/EDTS/best_loss.hdf5\n",
            "289/289 [==============================] - 0s 1ms/sample - loss: 0.7428 - acc: 0.7197 - val_loss: 0.7392 - val_acc: 0.7410\n",
            "Epoch 12/40\n",
            "255/289 [=========================>....] - ETA: 0s - loss: 0.6804 - acc: 0.7451\n",
            "Epoch 00012: val_acc did not improve from 0.74101\n",
            "\n",
            "Epoch 00012: val_loss improved from 0.73921 to 0.73485, saving model to drive/My Drive/INSA/ASI 5/EDTS/best_loss.hdf5\n",
            "289/289 [==============================] - 0s 828us/sample - loss: 0.6891 - acc: 0.7439 - val_loss: 0.7349 - val_acc: 0.7410\n",
            "Epoch 13/40\n",
            "255/289 [=========================>....] - ETA: 0s - loss: 0.6762 - acc: 0.7686\n",
            "Epoch 00013: val_acc did not improve from 0.74101\n",
            "\n",
            "Epoch 00013: val_loss did not improve from 0.73485\n",
            "289/289 [==============================] - 0s 586us/sample - loss: 0.6827 - acc: 0.7578 - val_loss: 0.7875 - val_acc: 0.6547\n",
            "Epoch 14/40\n",
            "255/289 [=========================>....] - ETA: 0s - loss: 0.7083 - acc: 0.7608\n",
            "Epoch 00014: val_acc did not improve from 0.74101\n",
            "\n",
            "Epoch 00014: val_loss did not improve from 0.73485\n",
            "289/289 [==============================] - 0s 581us/sample - loss: 0.7072 - acc: 0.7578 - val_loss: 0.7382 - val_acc: 0.7338\n",
            "Epoch 15/40\n",
            "272/289 [===========================>..] - ETA: 0s - loss: 0.6802 - acc: 0.7463\n",
            "Epoch 00015: val_acc did not improve from 0.74101\n",
            "\n",
            "Epoch 00015: val_loss improved from 0.73485 to 0.71929, saving model to drive/My Drive/INSA/ASI 5/EDTS/best_loss.hdf5\n",
            "289/289 [==============================] - 0s 834us/sample - loss: 0.6704 - acc: 0.7543 - val_loss: 0.7193 - val_acc: 0.7410\n",
            "Epoch 16/40\n",
            "255/289 [=========================>....] - ETA: 0s - loss: 0.6535 - acc: 0.7765\n",
            "Epoch 00016: val_acc improved from 0.74101 to 0.75540, saving model to drive/My Drive/INSA/ASI 5/EDTS/best_acc.hdf5\n",
            "\n",
            "Epoch 00016: val_loss improved from 0.71929 to 0.71306, saving model to drive/My Drive/INSA/ASI 5/EDTS/best_loss.hdf5\n",
            "289/289 [==============================] - 0s 1ms/sample - loss: 0.6412 - acc: 0.7855 - val_loss: 0.7131 - val_acc: 0.7554\n",
            "Epoch 17/40\n",
            "255/289 [=========================>....] - ETA: 0s - loss: 0.6400 - acc: 0.7725\n",
            "Epoch 00017: val_acc did not improve from 0.75540\n",
            "\n",
            "Epoch 00017: val_loss did not improve from 0.71306\n",
            "289/289 [==============================] - 0s 586us/sample - loss: 0.6297 - acc: 0.7785 - val_loss: 0.7178 - val_acc: 0.7410\n",
            "Epoch 18/40\n",
            "255/289 [=========================>....] - ETA: 0s - loss: 0.6393 - acc: 0.7843\n",
            "Epoch 00018: val_acc did not improve from 0.75540\n",
            "\n",
            "Epoch 00018: val_loss did not improve from 0.71306\n",
            "289/289 [==============================] - 0s 606us/sample - loss: 0.6372 - acc: 0.7820 - val_loss: 0.7231 - val_acc: 0.6835\n",
            "Epoch 19/40\n",
            "255/289 [=========================>....] - ETA: 0s - loss: 0.6216 - acc: 0.7882\n",
            "Epoch 00019: val_acc did not improve from 0.75540\n",
            "\n",
            "Epoch 00019: val_loss did not improve from 0.71306\n",
            "289/289 [==============================] - 0s 584us/sample - loss: 0.6118 - acc: 0.7889 - val_loss: 0.7145 - val_acc: 0.7554\n",
            "Epoch 20/40\n",
            "238/289 [=======================>......] - ETA: 0s - loss: 0.5867 - acc: 0.7941\n",
            "Epoch 00020: val_acc did not improve from 0.75540\n",
            "\n",
            "Epoch 00020: val_loss did not improve from 0.71306\n",
            "289/289 [==============================] - 0s 633us/sample - loss: 0.6024 - acc: 0.7855 - val_loss: 0.7194 - val_acc: 0.7554\n",
            "Epoch 21/40\n",
            "238/289 [=======================>......] - ETA: 0s - loss: 0.5925 - acc: 0.7899\n",
            "Epoch 00021: val_acc did not improve from 0.75540\n",
            "\n",
            "Epoch 00021: val_loss did not improve from 0.71306\n",
            "289/289 [==============================] - 0s 649us/sample - loss: 0.5807 - acc: 0.7958 - val_loss: 0.7166 - val_acc: 0.7482\n",
            "Epoch 22/40\n",
            "255/289 [=========================>....] - ETA: 0s - loss: 0.5788 - acc: 0.7725\n",
            "Epoch 00022: val_acc did not improve from 0.75540\n",
            "\n",
            "Epoch 00022: val_loss did not improve from 0.71306\n",
            "289/289 [==============================] - 0s 602us/sample - loss: 0.5622 - acc: 0.7855 - val_loss: 0.7796 - val_acc: 0.7554\n",
            "Epoch 23/40\n",
            "255/289 [=========================>....] - ETA: 0s - loss: 0.6088 - acc: 0.7686\n",
            "Epoch 00023: val_acc did not improve from 0.75540\n",
            "\n",
            "Epoch 00023: val_loss did not improve from 0.71306\n",
            "289/289 [==============================] - 0s 578us/sample - loss: 0.5845 - acc: 0.7820 - val_loss: 0.7344 - val_acc: 0.7266\n",
            "Epoch 24/40\n",
            "255/289 [=========================>....] - ETA: 0s - loss: 0.5967 - acc: 0.7882\n",
            "Epoch 00024: val_acc did not improve from 0.75540\n",
            "\n",
            "Epoch 00024: val_loss improved from 0.71306 to 0.71242, saving model to drive/My Drive/INSA/ASI 5/EDTS/best_loss.hdf5\n",
            "289/289 [==============================] - 0s 804us/sample - loss: 0.6025 - acc: 0.7855 - val_loss: 0.7124 - val_acc: 0.7122\n",
            "Epoch 25/40\n",
            "238/289 [=======================>......] - ETA: 0s - loss: 0.5207 - acc: 0.8193\n",
            "Epoch 00025: val_acc did not improve from 0.75540\n",
            "\n",
            "Epoch 00025: val_loss improved from 0.71242 to 0.70286, saving model to drive/My Drive/INSA/ASI 5/EDTS/best_loss.hdf5\n",
            "289/289 [==============================] - 0s 1ms/sample - loss: 0.5478 - acc: 0.8028 - val_loss: 0.7029 - val_acc: 0.7266\n",
            "Epoch 26/40\n",
            "255/289 [=========================>....] - ETA: 0s - loss: 0.5211 - acc: 0.8078\n",
            "Epoch 00026: val_acc did not improve from 0.75540\n",
            "\n",
            "Epoch 00026: val_loss improved from 0.70286 to 0.69134, saving model to drive/My Drive/INSA/ASI 5/EDTS/best_loss.hdf5\n",
            "289/289 [==============================] - 0s 790us/sample - loss: 0.5213 - acc: 0.8062 - val_loss: 0.6913 - val_acc: 0.7338\n",
            "Epoch 27/40\n",
            "255/289 [=========================>....] - ETA: 0s - loss: 0.5267 - acc: 0.8078\n",
            "Epoch 00027: val_acc did not improve from 0.75540\n",
            "\n",
            "Epoch 00027: val_loss did not improve from 0.69134\n",
            "289/289 [==============================] - 0s 593us/sample - loss: 0.5328 - acc: 0.8097 - val_loss: 0.7044 - val_acc: 0.7266\n",
            "Epoch 28/40\n",
            "255/289 [=========================>....] - ETA: 0s - loss: 0.5275 - acc: 0.7961\n",
            "Epoch 00028: val_acc did not improve from 0.75540\n",
            "\n",
            "Epoch 00028: val_loss did not improve from 0.69134\n",
            "289/289 [==============================] - 0s 610us/sample - loss: 0.5273 - acc: 0.7958 - val_loss: 0.7705 - val_acc: 0.6978\n",
            "Epoch 29/40\n",
            "255/289 [=========================>....] - ETA: 0s - loss: 0.5595 - acc: 0.7882\n",
            "Epoch 00029: val_acc did not improve from 0.75540\n",
            "\n",
            "Epoch 00029: val_loss did not improve from 0.69134\n",
            "289/289 [==============================] - 0s 578us/sample - loss: 0.5601 - acc: 0.7924 - val_loss: 0.7041 - val_acc: 0.7410\n",
            "Epoch 30/40\n",
            "255/289 [=========================>....] - ETA: 0s - loss: 0.6433 - acc: 0.7451\n",
            "Epoch 00030: val_acc did not improve from 0.75540\n",
            "\n",
            "Epoch 00030: val_loss did not improve from 0.69134\n",
            "289/289 [==============================] - 0s 611us/sample - loss: 0.6331 - acc: 0.7509 - val_loss: 1.0122 - val_acc: 0.7194\n",
            "Epoch 31/40\n",
            "255/289 [=========================>....] - ETA: 0s - loss: 0.5556 - acc: 0.7922\n",
            "Epoch 00031: val_acc did not improve from 0.75540\n",
            "\n",
            "Epoch 00031: val_loss did not improve from 0.69134\n",
            "289/289 [==============================] - 0s 598us/sample - loss: 0.5433 - acc: 0.7993 - val_loss: 0.7801 - val_acc: 0.7482\n",
            "Epoch 32/40\n",
            "255/289 [=========================>....] - ETA: 0s - loss: 0.5302 - acc: 0.8000\n",
            "Epoch 00032: val_acc did not improve from 0.75540\n",
            "\n",
            "Epoch 00032: val_loss did not improve from 0.69134\n",
            "289/289 [==============================] - 0s 579us/sample - loss: 0.5473 - acc: 0.7855 - val_loss: 0.7740 - val_acc: 0.7410\n",
            "Epoch 33/40\n",
            "255/289 [=========================>....] - ETA: 0s - loss: 0.5083 - acc: 0.8078\n",
            "Epoch 00033: val_acc did not improve from 0.75540\n",
            "\n",
            "Epoch 00033: val_loss did not improve from 0.69134\n",
            "289/289 [==============================] - 0s 618us/sample - loss: 0.5320 - acc: 0.8028 - val_loss: 0.7742 - val_acc: 0.7482\n",
            "Epoch 34/40\n",
            "255/289 [=========================>....] - ETA: 0s - loss: 0.4963 - acc: 0.8235\n",
            "Epoch 00034: val_acc did not improve from 0.75540\n",
            "\n",
            "Epoch 00034: val_loss did not improve from 0.69134\n",
            "289/289 [==============================] - 0s 588us/sample - loss: 0.5028 - acc: 0.8201 - val_loss: 0.7490 - val_acc: 0.7554\n",
            "Epoch 35/40\n",
            "255/289 [=========================>....] - ETA: 0s - loss: 0.4118 - acc: 0.8392\n",
            "Epoch 00035: val_acc did not improve from 0.75540\n",
            "\n",
            "Epoch 00035: val_loss did not improve from 0.69134\n",
            "289/289 [==============================] - 0s 587us/sample - loss: 0.4265 - acc: 0.8304 - val_loss: 0.7590 - val_acc: 0.7410\n",
            "Epoch 36/40\n",
            "238/289 [=======================>......] - ETA: 0s - loss: 0.4012 - acc: 0.8361\n",
            "Epoch 00036: val_acc did not improve from 0.75540\n",
            "\n",
            "Epoch 00036: val_loss did not improve from 0.69134\n",
            "289/289 [==============================] - 0s 625us/sample - loss: 0.4128 - acc: 0.8304 - val_loss: 0.7806 - val_acc: 0.6906\n",
            "Epoch 37/40\n",
            "255/289 [=========================>....] - ETA: 0s - loss: 0.3864 - acc: 0.8549\n",
            "Epoch 00037: val_acc did not improve from 0.75540\n",
            "\n",
            "Epoch 00037: val_loss did not improve from 0.69134\n",
            "289/289 [==============================] - 0s 609us/sample - loss: 0.3913 - acc: 0.8512 - val_loss: 0.7728 - val_acc: 0.7410\n",
            "Epoch 38/40\n",
            "255/289 [=========================>....] - ETA: 0s - loss: 0.3618 - acc: 0.8392\n",
            "Epoch 00038: val_acc did not improve from 0.75540\n",
            "\n",
            "Epoch 00038: val_loss did not improve from 0.69134\n",
            "289/289 [==============================] - 0s 594us/sample - loss: 0.3699 - acc: 0.8408 - val_loss: 0.8069 - val_acc: 0.7194\n",
            "Epoch 39/40\n",
            "255/289 [=========================>....] - ETA: 0s - loss: 0.3681 - acc: 0.8667\n",
            "Epoch 00039: val_acc did not improve from 0.75540\n",
            "\n",
            "Epoch 00039: val_loss did not improve from 0.69134\n",
            "289/289 [==============================] - 0s 596us/sample - loss: 0.3693 - acc: 0.8685 - val_loss: 0.8121 - val_acc: 0.7050\n",
            "Epoch 40/40\n",
            "255/289 [=========================>....] - ETA: 0s - loss: 0.3284 - acc: 0.8784\n",
            "Epoch 00040: val_acc did not improve from 0.75540\n",
            "\n",
            "Epoch 00040: val_loss did not improve from 0.69134\n",
            "289/289 [==============================] - 0s 579us/sample - loss: 0.3213 - acc: 0.8789 - val_loss: 0.8051 - val_acc: 0.7338\n"
          ],
          "name": "stdout"
        }
      ]
    },
    {
      "cell_type": "code",
      "metadata": {
        "id": "uvVbRfa26lpf",
        "colab_type": "code",
        "outputId": "f53744e9-9da2-440e-9e8a-790090143c11",
        "colab": {
          "base_uri": "https://localhost:8080/",
          "height": 562
        }
      },
      "source": [
        "# Affichage des courbes d'apprentissage\n",
        "plt.figure()\n",
        "plt.plot(history.history['acc'])\n",
        "plt.plot(history.history['val_acc'])\n",
        "plt.legend([\"Training\", \"Validation\"])\n",
        "plt.title(\"Accuracy\")\n",
        "plt.figure()\n",
        "plt.plot(np.log(history.history['loss']))\n",
        "plt.plot(np.log(history.history['val_loss']))\n",
        "plt.legend([\"Training\", \"Validation\"])\n",
        "plt.title(\"LogLoss\")"
      ],
      "execution_count": 0,
      "outputs": [
        {
          "output_type": "execute_result",
          "data": {
            "text/plain": [
              "Text(0.5, 1.0, 'LogLoss')"
            ]
          },
          "metadata": {
            "tags": []
          },
          "execution_count": 22
        },
        {
          "output_type": "display_data",
          "data": {
            "image/png": "[encoded data removed]",
            "text/plain": [
              "<Figure size 432x288 with 1 Axes>"
            ]
          },
          "metadata": {
            "tags": []
          }
        },
        {
          "output_type": "display_data",
          "data": {
            "image/png": "[encoded data removed]",
            "text/plain": [
              "<Figure size 432x288 with 1 Axes>"
            ]
          },
          "metadata": {
            "tags": []
          }
        }
      ]
    },
    {
      "cell_type": "code",
      "metadata": {
        "id": "8o1Hnc_0-faj",
        "colab_type": "code",
        "colab": {}
      },
      "source": [
        "from tensorflow.keras.models import load_model"
      ],
      "execution_count": 0,
      "outputs": []
    },
    {
      "cell_type": "code",
      "metadata": {
        "id": "14aIbSvnBZnP",
        "colab_type": "code",
        "colab": {}
      },
      "source": [
        "# Chargement du modèle d'entropie minimale précédemment sauvegardé\n",
        "mdl = load_model(path + \"best_loss.hdf5\")"
      ],
      "execution_count": 0,
      "outputs": []
    },
    {
      "cell_type": "code",
      "metadata": {
        "id": "k3lOp4OIBjbw",
        "colab_type": "code",
        "outputId": "b0a407ef-e830-4413-ff63-f05130c37030",
        "colab": {
          "base_uri": "https://localhost:8080/",
          "height": 51
        }
      },
      "source": [
        "# Calcul du score de précision de ce modèle sur le jeu de test\n",
        "print(mdl.evaluate(x_test, to_categorical(y_test)))"
      ],
      "execution_count": 0,
      "outputs": [
        {
          "output_type": "stream",
          "text": [
            "33/33 [==============================] - 0s 2ms/sample - loss: 0.4795 - acc: 0.8485\n"
          ],
          "name": "stdout"
        },
        {
          "output_type": "execute_result",
          "data": {
            "text/plain": [
              "[0.479492979519295, 0.8484849]"
            ]
          },
          "metadata": {
            "tags": []
          },
          "execution_count": 34
        }
      ]
    },
    {
      "cell_type": "code",
      "metadata": {
        "id": "QNkXKrBwGqIU",
        "colab_type": "code",
        "colab": {}
      },
      "source": [
        "y_pred = mdl.predict_classes(x_test)"
      ],
      "execution_count": 0,
      "outputs": []
    },
    {
      "cell_type": "code",
      "metadata": {
        "id": "b5-pirp1Gm4c",
        "colab_type": "code",
        "outputId": "353ca524-87f6-496e-c6a9-715e65ead91c",
        "colab": {
          "base_uri": "https://localhost:8080/",
          "height": 241
        }
      },
      "source": [
        "print(classification_report(y_test, y_pred))"
      ],
      "execution_count": 0,
      "outputs": [
        {
          "output_type": "stream",
          "text": [
            "              precision    recall  f1-score   support\n",
            "\n",
            "           0       0.85      0.96      0.90        23\n",
            "           1       0.86      0.86      0.86         7\n",
            "           2       0.00      0.00      0.00         3\n",
            "\n",
            "    accuracy                           0.85        33\n",
            "   macro avg       0.57      0.60      0.59        33\n",
            "weighted avg       0.77      0.85      0.81        33\n",
            "\n"
          ],
          "name": "stdout"
        },
        {
          "output_type": "stream",
          "text": [
            "/usr/local/lib/python3.6/dist-packages/sklearn/metrics/classification.py:1437: UndefinedMetricWarning: Precision and F-score are ill-defined and being set to 0.0 in labels with no predicted samples.\n",
            "  'precision', 'predicted', average, warn_for)\n"
          ],
          "name": "stderr"
        }
      ]
    },
    {
      "cell_type": "markdown",
      "metadata": {
        "id": "moc6tlRTFWxG",
        "colab_type": "text"
      },
      "source": [
        "# KFold"
      ]
    },
    {
      "cell_type": "code",
      "metadata": {
        "colab_type": "code",
        "id": "H4A1AfRZBKBS",
        "colab": {}
      },
      "source": [
        "# StratifiedKFold => chaque sous ensemble possède la même répartition de classes que les autres => représentativité\n",
        "fold = StratifiedKFold(n_splits=5, shuffle=True)"
      ],
      "execution_count": 0,
      "outputs": []
    },
    {
      "cell_type": "code",
      "metadata": {
        "colab_type": "code",
        "outputId": "16b479bb-5858-4829-e277-6270028590d5",
        "id": "P8SwbYE_BJic",
        "colab": {
          "base_uri": "https://localhost:8080/",
          "height": 34
        }
      },
      "source": [
        "# Calcul des spectrogrammes de tous les fichiers du dataset\n",
        "cv_all = to_spect(files)"
      ],
      "execution_count": 0,
      "outputs": [
        {
          "output_type": "stream",
          "text": [
            "100%|██████████| 461/461 [03:19<00:00,  2.01it/s]\n"
          ],
          "name": "stderr"
        }
      ]
    },
    {
      "cell_type": "code",
      "metadata": {
        "colab_type": "code",
        "id": "ljURAHw2BJC6",
        "colab": {}
      },
      "source": [
        "# Ajout d'une dimension pour les canaux\n",
        "cv_all = np.expand_dims(cv_all, 3)"
      ],
      "execution_count": 0,
      "outputs": []
    },
    {
      "cell_type": "code",
      "metadata": {
        "id": "Nce6D-29e1K3",
        "colab_type": "code",
        "colab": {}
      },
      "source": [
        "# Callback\n",
        "# Stoppe l'apprentissage quand la fonction de coût n'évolue plus au bout de \"patience\" epochs\n",
        "# À la fin de l'apprentissage, les poids de l'epoch de coût minimal sons restaurés\n",
        "# => Permet de ne pas avoir à sauvegarder le meilleur modèle\n",
        "es = EarlyStopping(monitor=\"val_loss\", patience=40, mode=\"min\", restore_best_weights=True)"
      ],
      "execution_count": 0,
      "outputs": []
    },
    {
      "cell_type": "code",
      "metadata": {
        "id": "cbWZBk2_5g1t",
        "colab_type": "code",
        "outputId": "04360f7d-4734-4946-8b24-8f4897dec62c",
        "colab": {
          "base_uri": "https://localhost:8080/",
          "height": 1000
        }
      },
      "source": [
        "# Boucle de cross-validation\n",
        "cv = [] # Liste contenant les scores de précision de chaque itération\n",
        "for cv_train_idx, cv_val_idx in fold.split(cv_all, cats_files): # Récupération des indices de jeux d'apprentissage, validation et test de l'itération en cours\n",
        "  x_cv_val = cv_all[cv_val_idx] # Jeu de validation\n",
        "  y_cv_val = np.array(cats_files)[cv_val_idx] # Labels de validation\n",
        "  cv_tt_idx, cv_test_idx = train_test_split(cv_train_idx, test_size=33, stratify=np.array(cats_files)[cv_train_idx]) # Indices des jeux d'apprentissage et test\n",
        "  cv_x_train, cv_x_test = cv_all[cv_tt_idx], cv_all[cv_test_idx] # Jeux d'apprentissage et test\n",
        "  cv_y_train, cv_y_test = np.array(cats_files)[cv_tt_idx], np.array(cats_files)[cv_test_idx] # Labels d'apprentissage et test\n",
        "  model = CNN() # Création d'un nouveau modèle\n",
        "  model.compile(loss=\"categorical_crossentropy\", metrics=[\"acc\"], optimizer=\"adam\") # Compilation\n",
        "  model.fit(x_train, to_categorical(y_train), epochs=40, batch_size=17, validation_data=(x_val, to_categorical(y_val)), callbacks=[es]) # Apprentissage\n",
        "  cv.append(model.evaluate(x_test, to_categorical(y_test))[1]) # On ajoute la précision de l'itération à la liste"
      ],
      "execution_count": 0,
      "outputs": [
        {
          "output_type": "stream",
          "text": [
            "Train on 289 samples, validate on 139 samples\n",
            "Epoch 1/40\n",
            "289/289 [==============================] - 0s 2ms/sample - loss: 1.0568 - acc: 0.6436 - val_loss: 0.8423 - val_acc: 0.6906\n",
            "Epoch 2/40\n",
            "289/289 [==============================] - 0s 604us/sample - loss: 0.8664 - acc: 0.6955 - val_loss: 0.8102 - val_acc: 0.6906\n",
            "Epoch 3/40\n",
            "289/289 [==============================] - 0s 620us/sample - loss: 0.8214 - acc: 0.6955 - val_loss: 0.8269 - val_acc: 0.6906\n",
            "Epoch 4/40\n",
            "289/289 [==============================] - 0s 618us/sample - loss: 0.7946 - acc: 0.6955 - val_loss: 0.7881 - val_acc: 0.6906\n",
            "Epoch 5/40\n",
            "289/289 [==============================] - 0s 612us/sample - loss: 0.7866 - acc: 0.7059 - val_loss: 0.7737 - val_acc: 0.6978\n",
            "Epoch 6/40\n",
            "289/289 [==============================] - 0s 599us/sample - loss: 0.7733 - acc: 0.7232 - val_loss: 0.7746 - val_acc: 0.7050\n",
            "Epoch 7/40\n",
            "289/289 [==============================] - 0s 638us/sample - loss: 0.7513 - acc: 0.7370 - val_loss: 0.7991 - val_acc: 0.6906\n",
            "Epoch 8/40\n",
            "289/289 [==============================] - 0s 606us/sample - loss: 0.7252 - acc: 0.7336 - val_loss: 0.7320 - val_acc: 0.7266\n",
            "Epoch 9/40\n",
            "289/289 [==============================] - 0s 613us/sample - loss: 0.6477 - acc: 0.7612 - val_loss: 0.7039 - val_acc: 0.6978\n",
            "Epoch 10/40\n",
            "289/289 [==============================] - 0s 608us/sample - loss: 0.5704 - acc: 0.7855 - val_loss: 0.7011 - val_acc: 0.7266\n",
            "Epoch 11/40\n",
            "289/289 [==============================] - 0s 601us/sample - loss: 0.5180 - acc: 0.8201 - val_loss: 0.8141 - val_acc: 0.7338\n",
            "Epoch 12/40\n",
            "289/289 [==============================] - 0s 584us/sample - loss: 0.4567 - acc: 0.8201 - val_loss: 0.7765 - val_acc: 0.7050\n",
            "Epoch 13/40\n",
            "289/289 [==============================] - 0s 642us/sample - loss: 0.3731 - acc: 0.8754 - val_loss: 0.8483 - val_acc: 0.7194\n",
            "Epoch 14/40\n",
            "289/289 [==============================] - 0s 619us/sample - loss: 0.2961 - acc: 0.8858 - val_loss: 0.9284 - val_acc: 0.6835\n",
            "Epoch 15/40\n",
            "289/289 [==============================] - 0s 606us/sample - loss: 0.1983 - acc: 0.9446 - val_loss: 0.9982 - val_acc: 0.7050\n",
            "Epoch 16/40\n",
            "289/289 [==============================] - 0s 596us/sample - loss: 0.1125 - acc: 0.9689 - val_loss: 1.2739 - val_acc: 0.6475\n",
            "Epoch 17/40\n",
            "289/289 [==============================] - 0s 594us/sample - loss: 0.0931 - acc: 0.9689 - val_loss: 1.3714 - val_acc: 0.6763\n",
            "Epoch 18/40\n",
            "289/289 [==============================] - 0s 639us/sample - loss: 0.0441 - acc: 0.9931 - val_loss: 1.5379 - val_acc: 0.6906\n",
            "Epoch 19/40\n",
            "289/289 [==============================] - 0s 586us/sample - loss: 0.0192 - acc: 1.0000 - val_loss: 1.7685 - val_acc: 0.6691\n",
            "Epoch 20/40\n",
            "289/289 [==============================] - 0s 603us/sample - loss: 0.0085 - acc: 1.0000 - val_loss: 1.9023 - val_acc: 0.6835\n",
            "Epoch 21/40\n",
            "289/289 [==============================] - 0s 599us/sample - loss: 0.0042 - acc: 1.0000 - val_loss: 2.0463 - val_acc: 0.6978\n",
            "Epoch 22/40\n",
            "289/289 [==============================] - 0s 599us/sample - loss: 0.0026 - acc: 1.0000 - val_loss: 2.0882 - val_acc: 0.6906\n",
            "Epoch 23/40\n",
            "289/289 [==============================] - 0s 620us/sample - loss: 0.0019 - acc: 1.0000 - val_loss: 2.1538 - val_acc: 0.6978\n",
            "Epoch 24/40\n",
            "289/289 [==============================] - 0s 641us/sample - loss: 0.0015 - acc: 1.0000 - val_loss: 2.1723 - val_acc: 0.6763\n",
            "Epoch 25/40\n",
            "289/289 [==============================] - 0s 617us/sample - loss: 0.0012 - acc: 1.0000 - val_loss: 2.2352 - val_acc: 0.6906\n",
            "Epoch 26/40\n",
            "289/289 [==============================] - 0s 582us/sample - loss: 0.0011 - acc: 1.0000 - val_loss: 2.2605 - val_acc: 0.6835\n",
            "Epoch 27/40\n",
            "289/289 [==============================] - 0s 592us/sample - loss: 9.2143e-04 - acc: 1.0000 - val_loss: 2.2734 - val_acc: 0.6835\n",
            "Epoch 28/40\n",
            "289/289 [==============================] - 0s 603us/sample - loss: 8.1076e-04 - acc: 1.0000 - val_loss: 2.3116 - val_acc: 0.6835\n",
            "Epoch 29/40\n",
            "289/289 [==============================] - 0s 607us/sample - loss: 7.3006e-04 - acc: 1.0000 - val_loss: 2.3439 - val_acc: 0.6835\n",
            "Epoch 30/40\n",
            "289/289 [==============================] - 0s 643us/sample - loss: 6.5906e-04 - acc: 1.0000 - val_loss: 2.3631 - val_acc: 0.6835\n",
            "Epoch 31/40\n",
            "289/289 [==============================] - 0s 617us/sample - loss: 5.9789e-04 - acc: 1.0000 - val_loss: 2.3880 - val_acc: 0.6835\n",
            "Epoch 32/40\n",
            "289/289 [==============================] - 0s 580us/sample - loss: 5.4016e-04 - acc: 1.0000 - val_loss: 2.4123 - val_acc: 0.6835\n",
            "Epoch 33/40\n",
            "289/289 [==============================] - 0s 555us/sample - loss: 4.9948e-04 - acc: 1.0000 - val_loss: 2.4330 - val_acc: 0.6835\n",
            "Epoch 34/40\n",
            "289/289 [==============================] - 0s 569us/sample - loss: 4.6150e-04 - acc: 1.0000 - val_loss: 2.4530 - val_acc: 0.6835\n",
            "Epoch 35/40\n",
            "289/289 [==============================] - 0s 618us/sample - loss: 4.2513e-04 - acc: 1.0000 - val_loss: 2.4694 - val_acc: 0.6835\n",
            "Epoch 36/40\n",
            "289/289 [==============================] - 0s 625us/sample - loss: 3.9703e-04 - acc: 1.0000 - val_loss: 2.4850 - val_acc: 0.6835\n",
            "Epoch 37/40\n",
            "289/289 [==============================] - 0s 591us/sample - loss: 3.6784e-04 - acc: 1.0000 - val_loss: 2.5125 - val_acc: 0.6835\n",
            "Epoch 38/40\n",
            "289/289 [==============================] - 0s 584us/sample - loss: 3.4353e-04 - acc: 1.0000 - val_loss: 2.5286 - val_acc: 0.6835\n",
            "Epoch 39/40\n",
            "289/289 [==============================] - 0s 628us/sample - loss: 3.2620e-04 - acc: 1.0000 - val_loss: 2.5335 - val_acc: 0.6835\n",
            "Epoch 40/40\n",
            "289/289 [==============================] - 0s 593us/sample - loss: 3.0299e-04 - acc: 1.0000 - val_loss: 2.5640 - val_acc: 0.6835\n",
            "33/33 [==============================] - 0s 429us/sample - loss: 1.1551 - acc: 0.7879\n",
            "Train on 289 samples, validate on 139 samples\n",
            "Epoch 1/40\n",
            "289/289 [==============================] - 1s 2ms/sample - loss: 0.8998 - acc: 0.6955 - val_loss: 0.8136 - val_acc: 0.6906\n",
            "Epoch 2/40\n",
            "289/289 [==============================] - 0s 604us/sample - loss: 0.8416 - acc: 0.6955 - val_loss: 0.8005 - val_acc: 0.6906\n",
            "Epoch 3/40\n",
            "289/289 [==============================] - 0s 590us/sample - loss: 0.7940 - acc: 0.6955 - val_loss: 0.7938 - val_acc: 0.6906\n",
            "Epoch 4/40\n",
            "289/289 [==============================] - 0s 601us/sample - loss: 0.8102 - acc: 0.6782 - val_loss: 0.8428 - val_acc: 0.6906\n",
            "Epoch 5/40\n",
            "289/289 [==============================] - 0s 581us/sample - loss: 0.7854 - acc: 0.7163 - val_loss: 0.7680 - val_acc: 0.6906\n",
            "Epoch 6/40\n",
            "289/289 [==============================] - 0s 633us/sample - loss: 0.7249 - acc: 0.7301 - val_loss: 0.7343 - val_acc: 0.7194\n",
            "Epoch 7/40\n",
            "289/289 [==============================] - 0s 584us/sample - loss: 0.6673 - acc: 0.7543 - val_loss: 0.7473 - val_acc: 0.7122\n",
            "Epoch 8/40\n",
            "289/289 [==============================] - 0s 584us/sample - loss: 0.5681 - acc: 0.7958 - val_loss: 0.9259 - val_acc: 0.6475\n",
            "Epoch 9/40\n",
            "289/289 [==============================] - 0s 596us/sample - loss: 0.4936 - acc: 0.8131 - val_loss: 0.9010 - val_acc: 0.7266\n",
            "Epoch 10/40\n",
            "289/289 [==============================] - 0s 619us/sample - loss: 0.4281 - acc: 0.8512 - val_loss: 0.7828 - val_acc: 0.7194\n",
            "Epoch 11/40\n",
            "289/289 [==============================] - 0s 603us/sample - loss: 0.3314 - acc: 0.8685 - val_loss: 0.8916 - val_acc: 0.6619\n",
            "Epoch 12/40\n",
            "289/289 [==============================] - 0s 607us/sample - loss: 0.2186 - acc: 0.9377 - val_loss: 1.0067 - val_acc: 0.6403\n",
            "Epoch 13/40\n",
            "289/289 [==============================] - 0s 605us/sample - loss: 0.1505 - acc: 0.9446 - val_loss: 1.3166 - val_acc: 0.6043\n",
            "Epoch 14/40\n",
            "289/289 [==============================] - 0s 584us/sample - loss: 0.1317 - acc: 0.9654 - val_loss: 1.3330 - val_acc: 0.6691\n",
            "Epoch 15/40\n",
            "289/289 [==============================] - 0s 562us/sample - loss: 0.0983 - acc: 0.9689 - val_loss: 1.6226 - val_acc: 0.6763\n",
            "Epoch 16/40\n",
            "289/289 [==============================] - 0s 586us/sample - loss: 0.0554 - acc: 0.9896 - val_loss: 1.7188 - val_acc: 0.6187\n",
            "Epoch 17/40\n",
            "289/289 [==============================] - 0s 606us/sample - loss: 0.0342 - acc: 0.9896 - val_loss: 1.6878 - val_acc: 0.6763\n",
            "Epoch 18/40\n",
            "289/289 [==============================] - 0s 627us/sample - loss: 0.0143 - acc: 0.9965 - val_loss: 1.8263 - val_acc: 0.6835\n",
            "Epoch 19/40\n",
            "289/289 [==============================] - 0s 606us/sample - loss: 0.0052 - acc: 1.0000 - val_loss: 2.0004 - val_acc: 0.6547\n",
            "Epoch 20/40\n",
            "289/289 [==============================] - 0s 571us/sample - loss: 0.0026 - acc: 1.0000 - val_loss: 2.0691 - val_acc: 0.6475\n",
            "Epoch 21/40\n",
            "289/289 [==============================] - 0s 555us/sample - loss: 0.0016 - acc: 1.0000 - val_loss: 2.1093 - val_acc: 0.6475\n",
            "Epoch 22/40\n",
            "289/289 [==============================] - 0s 562us/sample - loss: 0.0012 - acc: 1.0000 - val_loss: 2.1455 - val_acc: 0.6475\n",
            "Epoch 23/40\n",
            "289/289 [==============================] - 0s 559us/sample - loss: 0.0010 - acc: 1.0000 - val_loss: 2.1791 - val_acc: 0.6475\n",
            "Epoch 24/40\n",
            "289/289 [==============================] - 0s 606us/sample - loss: 8.6402e-04 - acc: 1.0000 - val_loss: 2.2034 - val_acc: 0.6475\n",
            "Epoch 25/40\n",
            "289/289 [==============================] - 0s 599us/sample - loss: 7.5591e-04 - acc: 1.0000 - val_loss: 2.2299 - val_acc: 0.6475\n",
            "Epoch 26/40\n",
            "289/289 [==============================] - 0s 613us/sample - loss: 6.6728e-04 - acc: 1.0000 - val_loss: 2.2537 - val_acc: 0.6475\n",
            "Epoch 27/40\n",
            "289/289 [==============================] - 0s 605us/sample - loss: 5.9892e-04 - acc: 1.0000 - val_loss: 2.2762 - val_acc: 0.6475\n",
            "Epoch 28/40\n",
            "289/289 [==============================] - 0s 617us/sample - loss: 5.4204e-04 - acc: 1.0000 - val_loss: 2.2972 - val_acc: 0.6403\n",
            "Epoch 29/40\n",
            "289/289 [==============================] - 0s 649us/sample - loss: 4.9381e-04 - acc: 1.0000 - val_loss: 2.3160 - val_acc: 0.6403\n",
            "Epoch 30/40\n",
            "289/289 [==============================] - 0s 626us/sample - loss: 4.5278e-04 - acc: 1.0000 - val_loss: 2.3335 - val_acc: 0.6403\n",
            "Epoch 31/40\n",
            "289/289 [==============================] - 0s 602us/sample - loss: 4.1766e-04 - acc: 1.0000 - val_loss: 2.3513 - val_acc: 0.6403\n",
            "Epoch 32/40\n",
            "289/289 [==============================] - 0s 604us/sample - loss: 3.8391e-04 - acc: 1.0000 - val_loss: 2.3684 - val_acc: 0.6403\n",
            "Epoch 33/40\n",
            "289/289 [==============================] - 0s 585us/sample - loss: 3.5857e-04 - acc: 1.0000 - val_loss: 2.3838 - val_acc: 0.6403\n",
            "Epoch 34/40\n",
            "289/289 [==============================] - 0s 565us/sample - loss: 3.3400e-04 - acc: 1.0000 - val_loss: 2.3991 - val_acc: 0.6403\n",
            "Epoch 35/40\n",
            "289/289 [==============================] - 0s 602us/sample - loss: 3.1182e-04 - acc: 1.0000 - val_loss: 2.4143 - val_acc: 0.6475\n",
            "Epoch 36/40\n",
            "289/289 [==============================] - 0s 587us/sample - loss: 2.9318e-04 - acc: 1.0000 - val_loss: 2.4275 - val_acc: 0.6403\n",
            "Epoch 37/40\n",
            "289/289 [==============================] - 0s 591us/sample - loss: 2.7408e-04 - acc: 1.0000 - val_loss: 2.4422 - val_acc: 0.6475\n",
            "Epoch 38/40\n",
            "289/289 [==============================] - 0s 604us/sample - loss: 2.5807e-04 - acc: 1.0000 - val_loss: 2.4560 - val_acc: 0.6403\n",
            "Epoch 39/40\n",
            "289/289 [==============================] - 0s 604us/sample - loss: 2.4352e-04 - acc: 1.0000 - val_loss: 2.4696 - val_acc: 0.6403\n",
            "Epoch 40/40\n",
            "289/289 [==============================] - 0s 581us/sample - loss: 2.3001e-04 - acc: 1.0000 - val_loss: 2.4829 - val_acc: 0.6403\n",
            "33/33 [==============================] - 0s 501us/sample - loss: 1.4771 - acc: 0.7273\n",
            "Train on 289 samples, validate on 139 samples\n",
            "Epoch 1/40\n",
            "289/289 [==============================] - 0s 2ms/sample - loss: 0.9620 - acc: 0.6228 - val_loss: 0.8999 - val_acc: 0.6906\n",
            "Epoch 2/40\n",
            "289/289 [==============================] - 0s 590us/sample - loss: 0.8356 - acc: 0.6955 - val_loss: 0.8558 - val_acc: 0.6906\n",
            "Epoch 3/40\n",
            "289/289 [==============================] - 0s 569us/sample - loss: 0.8349 - acc: 0.6990 - val_loss: 0.8831 - val_acc: 0.6906\n",
            "Epoch 4/40\n",
            "289/289 [==============================] - 0s 593us/sample - loss: 0.8112 - acc: 0.6955 - val_loss: 0.7955 - val_acc: 0.6906\n",
            "Epoch 5/40\n",
            "289/289 [==============================] - 0s 565us/sample - loss: 0.7829 - acc: 0.6955 - val_loss: 0.8052 - val_acc: 0.6906\n",
            "Epoch 6/40\n",
            "289/289 [==============================] - 0s 617us/sample - loss: 0.7782 - acc: 0.6990 - val_loss: 0.7793 - val_acc: 0.7122\n",
            "Epoch 7/40\n",
            "289/289 [==============================] - 0s 615us/sample - loss: 0.6988 - acc: 0.7751 - val_loss: 0.7244 - val_acc: 0.7050\n",
            "Epoch 8/40\n",
            "289/289 [==============================] - 0s 622us/sample - loss: 0.6453 - acc: 0.7716 - val_loss: 0.7362 - val_acc: 0.7194\n",
            "Epoch 9/40\n",
            "289/289 [==============================] - 0s 594us/sample - loss: 0.5839 - acc: 0.7785 - val_loss: 0.7279 - val_acc: 0.7410\n",
            "Epoch 10/40\n",
            "289/289 [==============================] - 0s 576us/sample - loss: 0.4902 - acc: 0.8166 - val_loss: 0.7664 - val_acc: 0.7122\n",
            "Epoch 11/40\n",
            "289/289 [==============================] - 0s 584us/sample - loss: 0.3742 - acc: 0.8685 - val_loss: 0.8504 - val_acc: 0.7050\n",
            "Epoch 12/40\n",
            "289/289 [==============================] - 0s 575us/sample - loss: 0.2964 - acc: 0.8824 - val_loss: 0.9841 - val_acc: 0.6906\n",
            "Epoch 13/40\n",
            "289/289 [==============================] - 0s 579us/sample - loss: 0.1902 - acc: 0.9308 - val_loss: 1.3083 - val_acc: 0.6187\n",
            "Epoch 14/40\n",
            "289/289 [==============================] - 0s 598us/sample - loss: 0.1314 - acc: 0.9689 - val_loss: 1.3207 - val_acc: 0.6978\n",
            "Epoch 15/40\n",
            "289/289 [==============================] - 0s 586us/sample - loss: 0.0498 - acc: 0.9896 - val_loss: 1.4577 - val_acc: 0.6835\n",
            "Epoch 16/40\n",
            "289/289 [==============================] - 0s 595us/sample - loss: 0.0407 - acc: 0.9862 - val_loss: 1.8121 - val_acc: 0.6906\n",
            "Epoch 17/40\n",
            "289/289 [==============================] - 0s 619us/sample - loss: 0.0313 - acc: 0.9896 - val_loss: 2.0245 - val_acc: 0.6835\n",
            "Epoch 18/40\n",
            "289/289 [==============================] - 0s 606us/sample - loss: 0.0192 - acc: 1.0000 - val_loss: 2.0610 - val_acc: 0.6906\n",
            "Epoch 19/40\n",
            "289/289 [==============================] - 0s 594us/sample - loss: 0.0061 - acc: 1.0000 - val_loss: 2.1046 - val_acc: 0.6619\n",
            "Epoch 20/40\n",
            "289/289 [==============================] - 0s 575us/sample - loss: 0.0017 - acc: 1.0000 - val_loss: 2.1464 - val_acc: 0.6906\n",
            "Epoch 21/40\n",
            "289/289 [==============================] - 0s 587us/sample - loss: 0.0012 - acc: 1.0000 - val_loss: 2.1714 - val_acc: 0.6906\n",
            "Epoch 22/40\n",
            "289/289 [==============================] - 0s 631us/sample - loss: 9.4551e-04 - acc: 1.0000 - val_loss: 2.2000 - val_acc: 0.6835\n",
            "Epoch 23/40\n",
            "289/289 [==============================] - 0s 655us/sample - loss: 8.0697e-04 - acc: 1.0000 - val_loss: 2.2259 - val_acc: 0.6835\n",
            "Epoch 24/40\n",
            "289/289 [==============================] - 0s 624us/sample - loss: 7.0360e-04 - acc: 1.0000 - val_loss: 2.2544 - val_acc: 0.6835\n",
            "Epoch 25/40\n",
            "289/289 [==============================] - 0s 630us/sample - loss: 6.2363e-04 - acc: 1.0000 - val_loss: 2.2796 - val_acc: 0.6835\n",
            "Epoch 26/40\n",
            "289/289 [==============================] - 0s 599us/sample - loss: 5.6684e-04 - acc: 1.0000 - val_loss: 2.3087 - val_acc: 0.6906\n",
            "Epoch 27/40\n",
            "289/289 [==============================] - 0s 577us/sample - loss: 5.0220e-04 - acc: 1.0000 - val_loss: 2.3243 - val_acc: 0.6835\n",
            "Epoch 28/40\n",
            "289/289 [==============================] - 0s 585us/sample - loss: 4.6391e-04 - acc: 1.0000 - val_loss: 2.3407 - val_acc: 0.6835\n",
            "Epoch 29/40\n",
            "289/289 [==============================] - 0s 590us/sample - loss: 4.2491e-04 - acc: 1.0000 - val_loss: 2.3686 - val_acc: 0.6906\n",
            "Epoch 30/40\n",
            "289/289 [==============================] - 0s 632us/sample - loss: 3.8821e-04 - acc: 1.0000 - val_loss: 2.3872 - val_acc: 0.6978\n",
            "Epoch 31/40\n",
            "289/289 [==============================] - 0s 589us/sample - loss: 3.5922e-04 - acc: 1.0000 - val_loss: 2.3952 - val_acc: 0.6906\n",
            "Epoch 32/40\n",
            "289/289 [==============================] - 0s 614us/sample - loss: 3.3349e-04 - acc: 1.0000 - val_loss: 2.4197 - val_acc: 0.6978\n",
            "Epoch 33/40\n",
            "289/289 [==============================] - 0s 627us/sample - loss: 3.0913e-04 - acc: 1.0000 - val_loss: 2.4342 - val_acc: 0.6978\n",
            "Epoch 34/40\n",
            "289/289 [==============================] - 0s 633us/sample - loss: 2.8988e-04 - acc: 1.0000 - val_loss: 2.4487 - val_acc: 0.6978\n",
            "Epoch 35/40\n",
            "289/289 [==============================] - 0s 610us/sample - loss: 2.7008e-04 - acc: 1.0000 - val_loss: 2.4669 - val_acc: 0.6978\n",
            "Epoch 36/40\n",
            "289/289 [==============================] - 0s 579us/sample - loss: 2.5341e-04 - acc: 1.0000 - val_loss: 2.4828 - val_acc: 0.6978\n",
            "Epoch 37/40\n",
            "289/289 [==============================] - 0s 588us/sample - loss: 2.3780e-04 - acc: 1.0000 - val_loss: 2.4945 - val_acc: 0.6978\n",
            "Epoch 38/40\n",
            "289/289 [==============================] - 0s 605us/sample - loss: 2.2514e-04 - acc: 1.0000 - val_loss: 2.5070 - val_acc: 0.6978\n",
            "Epoch 39/40\n",
            "289/289 [==============================] - 0s 600us/sample - loss: 2.1297e-04 - acc: 1.0000 - val_loss: 2.5229 - val_acc: 0.6978\n",
            "Epoch 40/40\n",
            "289/289 [==============================] - 0s 611us/sample - loss: 2.0110e-04 - acc: 1.0000 - val_loss: 2.5354 - val_acc: 0.6978\n",
            "33/33 [==============================] - 0s 305us/sample - loss: 1.4217 - acc: 0.7879\n",
            "Train on 289 samples, validate on 139 samples\n",
            "Epoch 1/40\n",
            "289/289 [==============================] - 1s 2ms/sample - loss: 0.9418 - acc: 0.6574 - val_loss: 0.8150 - val_acc: 0.6906\n",
            "Epoch 2/40\n",
            "289/289 [==============================] - 0s 596us/sample - loss: 0.8344 - acc: 0.6782 - val_loss: 0.8377 - val_acc: 0.6906\n",
            "Epoch 3/40\n",
            "289/289 [==============================] - 0s 632us/sample - loss: 0.8231 - acc: 0.6955 - val_loss: 0.8024 - val_acc: 0.6906\n",
            "Epoch 4/40\n",
            "289/289 [==============================] - 0s 643us/sample - loss: 0.8061 - acc: 0.6955 - val_loss: 0.8263 - val_acc: 0.6906\n",
            "Epoch 5/40\n",
            "289/289 [==============================] - 0s 604us/sample - loss: 0.8093 - acc: 0.6955 - val_loss: 0.8170 - val_acc: 0.6906\n",
            "Epoch 6/40\n",
            "289/289 [==============================] - 0s 589us/sample - loss: 0.7558 - acc: 0.7370 - val_loss: 0.7730 - val_acc: 0.6906\n",
            "Epoch 7/40\n",
            "289/289 [==============================] - 0s 606us/sample - loss: 0.6973 - acc: 0.7266 - val_loss: 0.9215 - val_acc: 0.5755\n",
            "Epoch 8/40\n",
            "289/289 [==============================] - 0s 592us/sample - loss: 0.6614 - acc: 0.7474 - val_loss: 0.9199 - val_acc: 0.6475\n",
            "Epoch 9/40\n",
            "289/289 [==============================] - 0s 590us/sample - loss: 0.5797 - acc: 0.7889 - val_loss: 0.7145 - val_acc: 0.7338\n",
            "Epoch 10/40\n",
            "289/289 [==============================] - 0s 616us/sample - loss: 0.5580 - acc: 0.7993 - val_loss: 0.6819 - val_acc: 0.7194\n",
            "Epoch 11/40\n",
            "289/289 [==============================] - 0s 581us/sample - loss: 0.4393 - acc: 0.8339 - val_loss: 0.7407 - val_acc: 0.7482\n",
            "Epoch 12/40\n",
            "289/289 [==============================] - 0s 580us/sample - loss: 0.4474 - acc: 0.8304 - val_loss: 0.7848 - val_acc: 0.7266\n",
            "Epoch 13/40\n",
            "289/289 [==============================] - 0s 617us/sample - loss: 0.3497 - acc: 0.8789 - val_loss: 0.8434 - val_acc: 0.7266\n",
            "Epoch 14/40\n",
            "289/289 [==============================] - 0s 599us/sample - loss: 0.2471 - acc: 0.9170 - val_loss: 1.0525 - val_acc: 0.7338\n",
            "Epoch 15/40\n",
            "289/289 [==============================] - 0s 570us/sample - loss: 0.2098 - acc: 0.9343 - val_loss: 1.0583 - val_acc: 0.6978\n",
            "Epoch 16/40\n",
            "289/289 [==============================] - 0s 596us/sample - loss: 0.0943 - acc: 0.9792 - val_loss: 1.2257 - val_acc: 0.6835\n",
            "Epoch 17/40\n",
            "289/289 [==============================] - 0s 571us/sample - loss: 0.0353 - acc: 1.0000 - val_loss: 1.3992 - val_acc: 0.6978\n",
            "Epoch 18/40\n",
            "289/289 [==============================] - 0s 587us/sample - loss: 0.0116 - acc: 1.0000 - val_loss: 1.5232 - val_acc: 0.7050\n",
            "Epoch 19/40\n",
            "289/289 [==============================] - 0s 600us/sample - loss: 0.0060 - acc: 1.0000 - val_loss: 1.6580 - val_acc: 0.7050\n",
            "Epoch 20/40\n",
            "289/289 [==============================] - 0s 603us/sample - loss: 0.0037 - acc: 1.0000 - val_loss: 1.7417 - val_acc: 0.6906\n",
            "Epoch 21/40\n",
            "289/289 [==============================] - 0s 638us/sample - loss: 0.0026 - acc: 1.0000 - val_loss: 1.8085 - val_acc: 0.7050\n",
            "Epoch 22/40\n",
            "289/289 [==============================] - 0s 601us/sample - loss: 0.0021 - acc: 1.0000 - val_loss: 1.8572 - val_acc: 0.7050\n",
            "Epoch 23/40\n",
            "289/289 [==============================] - 0s 590us/sample - loss: 0.0017 - acc: 1.0000 - val_loss: 1.8979 - val_acc: 0.7050\n",
            "Epoch 24/40\n",
            "289/289 [==============================] - 0s 569us/sample - loss: 0.0015 - acc: 1.0000 - val_loss: 1.9364 - val_acc: 0.7050\n",
            "Epoch 25/40\n",
            "289/289 [==============================] - 0s 572us/sample - loss: 0.0013 - acc: 1.0000 - val_loss: 1.9759 - val_acc: 0.6978\n",
            "Epoch 26/40\n",
            "289/289 [==============================] - 0s 607us/sample - loss: 0.0011 - acc: 1.0000 - val_loss: 2.0142 - val_acc: 0.7050\n",
            "Epoch 27/40\n",
            "289/289 [==============================] - 0s 631us/sample - loss: 9.5848e-04 - acc: 1.0000 - val_loss: 2.0362 - val_acc: 0.6978\n",
            "Epoch 28/40\n",
            "289/289 [==============================] - 0s 612us/sample - loss: 8.6203e-04 - acc: 1.0000 - val_loss: 2.0705 - val_acc: 0.6978\n",
            "Epoch 29/40\n",
            "289/289 [==============================] - 0s 578us/sample - loss: 7.7329e-04 - acc: 1.0000 - val_loss: 2.0947 - val_acc: 0.6978\n",
            "Epoch 30/40\n",
            "289/289 [==============================] - 0s 589us/sample - loss: 6.9498e-04 - acc: 1.0000 - val_loss: 2.1237 - val_acc: 0.7050\n",
            "Epoch 31/40\n",
            "289/289 [==============================] - 0s 593us/sample - loss: 6.3373e-04 - acc: 1.0000 - val_loss: 2.1437 - val_acc: 0.6978\n",
            "Epoch 32/40\n",
            "289/289 [==============================] - 0s 599us/sample - loss: 5.7708e-04 - acc: 1.0000 - val_loss: 2.1673 - val_acc: 0.6978\n",
            "Epoch 33/40\n",
            "289/289 [==============================] - 0s 597us/sample - loss: 5.2858e-04 - acc: 1.0000 - val_loss: 2.1926 - val_acc: 0.6978\n",
            "Epoch 34/40\n",
            "289/289 [==============================] - 0s 577us/sample - loss: 4.8922e-04 - acc: 1.0000 - val_loss: 2.2098 - val_acc: 0.6978\n",
            "Epoch 35/40\n",
            "289/289 [==============================] - 0s 608us/sample - loss: 4.5273e-04 - acc: 1.0000 - val_loss: 2.2305 - val_acc: 0.6978\n",
            "Epoch 36/40\n",
            "289/289 [==============================] - 0s 631us/sample - loss: 4.2100e-04 - acc: 1.0000 - val_loss: 2.2523 - val_acc: 0.6978\n",
            "Epoch 37/40\n",
            "289/289 [==============================] - 0s 614us/sample - loss: 3.9041e-04 - acc: 1.0000 - val_loss: 2.2666 - val_acc: 0.6978\n",
            "Epoch 38/40\n",
            "289/289 [==============================] - 0s 623us/sample - loss: 3.6621e-04 - acc: 1.0000 - val_loss: 2.2829 - val_acc: 0.6978\n",
            "Epoch 39/40\n",
            "289/289 [==============================] - 0s 601us/sample - loss: 3.4377e-04 - acc: 1.0000 - val_loss: 2.2987 - val_acc: 0.6978\n",
            "Epoch 40/40\n",
            "289/289 [==============================] - 0s 580us/sample - loss: 3.2144e-04 - acc: 1.0000 - val_loss: 2.3212 - val_acc: 0.6978\n",
            "33/33 [==============================] - 0s 307us/sample - loss: 1.3767 - acc: 0.7879\n",
            "Train on 289 samples, validate on 139 samples\n",
            "Epoch 1/40\n",
            "289/289 [==============================] - 1s 2ms/sample - loss: 0.8752 - acc: 0.6540 - val_loss: 0.8187 - val_acc: 0.6906\n",
            "Epoch 2/40\n",
            "289/289 [==============================] - 0s 589us/sample - loss: 0.8291 - acc: 0.6955 - val_loss: 0.8433 - val_acc: 0.6906\n",
            "Epoch 3/40\n",
            "289/289 [==============================] - 0s 615us/sample - loss: 0.8185 - acc: 0.6990 - val_loss: 0.7871 - val_acc: 0.6906\n",
            "Epoch 4/40\n",
            "289/289 [==============================] - 0s 598us/sample - loss: 0.7996 - acc: 0.6920 - val_loss: 0.7798 - val_acc: 0.6906\n",
            "Epoch 5/40\n",
            "289/289 [==============================] - 0s 596us/sample - loss: 0.7614 - acc: 0.7163 - val_loss: 0.8122 - val_acc: 0.7122\n",
            "Epoch 6/40\n",
            "289/289 [==============================] - 0s 631us/sample - loss: 0.6767 - acc: 0.7612 - val_loss: 0.7225 - val_acc: 0.7410\n",
            "Epoch 7/40\n",
            "289/289 [==============================] - 0s 614us/sample - loss: 0.6118 - acc: 0.7993 - val_loss: 0.6712 - val_acc: 0.7410\n",
            "Epoch 8/40\n",
            "289/289 [==============================] - 0s 649us/sample - loss: 0.5081 - acc: 0.8270 - val_loss: 0.7523 - val_acc: 0.7338\n",
            "Epoch 9/40\n",
            "289/289 [==============================] - 0s 611us/sample - loss: 0.4162 - acc: 0.8478 - val_loss: 0.9598 - val_acc: 0.7194\n",
            "Epoch 10/40\n",
            "289/289 [==============================] - 0s 565us/sample - loss: 0.3195 - acc: 0.8927 - val_loss: 0.8575 - val_acc: 0.7410\n",
            "Epoch 11/40\n",
            "289/289 [==============================] - 0s 604us/sample - loss: 0.2211 - acc: 0.9239 - val_loss: 1.0401 - val_acc: 0.6978\n",
            "Epoch 12/40\n",
            "289/289 [==============================] - 0s 572us/sample - loss: 0.1316 - acc: 0.9481 - val_loss: 1.1753 - val_acc: 0.6835\n",
            "Epoch 13/40\n",
            "289/289 [==============================] - 0s 630us/sample - loss: 0.0506 - acc: 0.9965 - val_loss: 1.4312 - val_acc: 0.6906\n",
            "Epoch 14/40\n",
            "289/289 [==============================] - 0s 630us/sample - loss: 0.0158 - acc: 1.0000 - val_loss: 1.6558 - val_acc: 0.7050\n",
            "Epoch 15/40\n",
            "289/289 [==============================] - 0s 624us/sample - loss: 0.0067 - acc: 1.0000 - val_loss: 1.7894 - val_acc: 0.7122\n",
            "Epoch 16/40\n",
            "289/289 [==============================] - 0s 570us/sample - loss: 0.0034 - acc: 1.0000 - val_loss: 1.9190 - val_acc: 0.7050\n",
            "Epoch 17/40\n",
            "289/289 [==============================] - 0s 591us/sample - loss: 0.0024 - acc: 1.0000 - val_loss: 1.9655 - val_acc: 0.7122\n",
            "Epoch 18/40\n",
            "289/289 [==============================] - 0s 606us/sample - loss: 0.0017 - acc: 1.0000 - val_loss: 2.0222 - val_acc: 0.7122\n",
            "Epoch 19/40\n",
            "289/289 [==============================] - 0s 579us/sample - loss: 0.0013 - acc: 1.0000 - val_loss: 2.0768 - val_acc: 0.7122\n",
            "Epoch 20/40\n",
            "289/289 [==============================] - 0s 594us/sample - loss: 0.0011 - acc: 1.0000 - val_loss: 2.1168 - val_acc: 0.7050\n",
            "Epoch 21/40\n",
            "289/289 [==============================] - 0s 596us/sample - loss: 9.4090e-04 - acc: 1.0000 - val_loss: 2.1535 - val_acc: 0.7122\n",
            "Epoch 22/40\n",
            "289/289 [==============================] - 0s 615us/sample - loss: 8.2349e-04 - acc: 1.0000 - val_loss: 2.1944 - val_acc: 0.7122\n",
            "Epoch 23/40\n",
            "289/289 [==============================] - 0s 594us/sample - loss: 7.2122e-04 - acc: 1.0000 - val_loss: 2.2207 - val_acc: 0.7122\n",
            "Epoch 24/40\n",
            "289/289 [==============================] - 0s 616us/sample - loss: 6.4529e-04 - acc: 1.0000 - val_loss: 2.2580 - val_acc: 0.7122\n",
            "Epoch 25/40\n",
            "289/289 [==============================] - 0s 653us/sample - loss: 5.8789e-04 - acc: 1.0000 - val_loss: 2.2887 - val_acc: 0.7122\n",
            "Epoch 26/40\n",
            "289/289 [==============================] - 0s 584us/sample - loss: 5.1721e-04 - acc: 1.0000 - val_loss: 2.3104 - val_acc: 0.7122\n",
            "Epoch 27/40\n",
            "289/289 [==============================] - 0s 593us/sample - loss: 4.7160e-04 - acc: 1.0000 - val_loss: 2.3322 - val_acc: 0.7050\n",
            "Epoch 28/40\n",
            "289/289 [==============================] - 0s 574us/sample - loss: 4.3481e-04 - acc: 1.0000 - val_loss: 2.3629 - val_acc: 0.7122\n",
            "Epoch 29/40\n",
            "289/289 [==============================] - 0s 612us/sample - loss: 3.9245e-04 - acc: 1.0000 - val_loss: 2.3811 - val_acc: 0.7122\n",
            "Epoch 30/40\n",
            "289/289 [==============================] - 0s 599us/sample - loss: 3.6173e-04 - acc: 1.0000 - val_loss: 2.4048 - val_acc: 0.7122\n",
            "Epoch 31/40\n",
            "289/289 [==============================] - 0s 652us/sample - loss: 3.3413e-04 - acc: 1.0000 - val_loss: 2.4251 - val_acc: 0.7122\n",
            "Epoch 32/40\n",
            "289/289 [==============================] - 0s 598us/sample - loss: 3.1411e-04 - acc: 1.0000 - val_loss: 2.4516 - val_acc: 0.7122\n",
            "Epoch 33/40\n",
            "289/289 [==============================] - 0s 611us/sample - loss: 2.8888e-04 - acc: 1.0000 - val_loss: 2.4659 - val_acc: 0.7122\n",
            "Epoch 34/40\n",
            "289/289 [==============================] - 0s 585us/sample - loss: 2.6874e-04 - acc: 1.0000 - val_loss: 2.4844 - val_acc: 0.7122\n",
            "Epoch 35/40\n",
            "289/289 [==============================] - 0s 589us/sample - loss: 2.5112e-04 - acc: 1.0000 - val_loss: 2.5047 - val_acc: 0.7122\n",
            "Epoch 36/40\n",
            "289/289 [==============================] - 0s 583us/sample - loss: 2.3462e-04 - acc: 1.0000 - val_loss: 2.5196 - val_acc: 0.7122\n",
            "Epoch 37/40\n",
            "289/289 [==============================] - 0s 632us/sample - loss: 2.2135e-04 - acc: 1.0000 - val_loss: 2.5385 - val_acc: 0.7122\n",
            "Epoch 38/40\n",
            "289/289 [==============================] - 0s 586us/sample - loss: 2.0749e-04 - acc: 1.0000 - val_loss: 2.5500 - val_acc: 0.7122\n",
            "Epoch 39/40\n",
            "289/289 [==============================] - 0s 588us/sample - loss: 1.9615e-04 - acc: 1.0000 - val_loss: 2.5702 - val_acc: 0.7122\n",
            "Epoch 40/40\n",
            "289/289 [==============================] - 0s 583us/sample - loss: 1.8464e-04 - acc: 1.0000 - val_loss: 2.5834 - val_acc: 0.7050\n",
            "33/33 [==============================] - 0s 299us/sample - loss: 1.7450 - acc: 0.8182\n"
          ],
          "name": "stdout"
        }
      ]
    },
    {
      "cell_type": "code",
      "metadata": {
        "id": "wukhArOZ60a3",
        "colab_type": "code",
        "outputId": "2b7b4c4b-e847-401e-9880-17de11535c2a",
        "colab": {
          "base_uri": "https://localhost:8080/",
          "height": 34
        }
      },
      "source": [
        "# Calcul de la moyenne des précisions de chaque itération\n",
        "print(\"Précision en cross-validation :\", np.mean(cv))"
      ],
      "execution_count": 0,
      "outputs": [
        {
          "output_type": "stream",
          "text": [
            "0.78181815\n"
          ],
          "name": "stdout"
        }
      ]
    }
  ]
}