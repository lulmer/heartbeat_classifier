{
 "cells": [
  {
   "cell_type": "markdown",
   "metadata": {
    "colab_type": "text",
    "id": "view-in-github"
   },
   "source": [
    "<a href=\"https://colab.research.google.com/github/lulmer/heartbeat_classifier/blob/master/model_lstm_heartbeat.ipynb\" target=\"_parent\"><img src=\"https://colab.research.google.com/assets/colab-badge.svg\" alt=\"Open In Colab\"/></a>"
   ]
  },
  {
   "cell_type": "markdown",
   "metadata": {
    "colab_type": "text",
    "id": "XIlwMopOC0YJ"
   },
   "source": [
    "# Projet EDTS | Classification des battements de coeur \n",
    "---\n",
    "\n",
    "### Arnaud QUILLENT et Louis ULMER"
   ]
  },
  {
   "cell_type": "markdown",
   "metadata": {},
   "source": [
    "#  Ad LSTM"
   ]
  },
  {
   "cell_type": "code",
   "execution_count": 6,
   "metadata": {
    "colab": {
     "base_uri": "https://localhost:8080/",
     "height": 54
    },
    "colab_type": "code",
    "id": "pvVUe_xTDrK9",
    "outputId": "356ebae5-d124-4e46-b7e4-04d1a1ac2362"
   },
   "outputs": [
    {
     "name": "stdout",
     "output_type": "stream",
     "text": [
      "Drive already mounted at /content/drive; to attempt to forcibly remount, call drive.mount(\"/content/drive\", force_remount=True).\n"
     ]
    }
   ],
   "source": [
    "from google.colab import drive\n",
    "drive.mount('/content/drive')"
   ]
  },
  {
   "cell_type": "code",
   "execution_count": 0,
   "metadata": {
    "colab": {},
    "colab_type": "code",
    "id": "eMq7ar4rC0YM"
   },
   "outputs": [],
   "source": [
    "from scipy.io import wavfile\n",
    "import os\n",
    "import numpy as np\n",
    "import matplotlib.pyplot as plt\n",
    "from scipy.signal import lfilter,butter,resample\n",
    "from sklearn.model_selection import train_test_split\n",
    "from sklearn.utils import shuffle\n",
    "from sklearn.preprocessing import OneHotEncoder\n",
    "from keras.utils import to_categorical\n",
    "from sklearn.metrics import classification_report\n",
    "import scipy\n",
    "from sklearn.utils import class_weight\n",
    "import progressbar"
   ]
  },
  {
   "cell_type": "code",
   "execution_count": 0,
   "metadata": {
    "colab": {},
    "colab_type": "code",
    "id": "2c5uxmpJC0YQ"
   },
   "outputs": [],
   "source": [
    "def load_data(path): #Fonction de chargement des données\n",
    "    frame=[]\n",
    "    for filename in os.listdir(path):\n",
    "        if filename[-3:]=='wav':\n",
    "          frame.append(wavfile.read(path+filename))\n",
    "    print('Data Importation Succeeded')\n",
    "    return frame\n",
    "\n",
    "def apply_filter(signal, filt_freqs, freq):\n",
    "  '''\n",
    "  Cette fonction applique un filtre a une frequence donnée \n",
    "  '''\n",
    "    b, a = scipy.signal.butter(5, filt_freqs, btype=\"band\", fs=freq)\n",
    "    return scipy.signal.lfilter(b, a, signal)\n",
    "\n",
    "def data_framing(serie, nb_framing):\n",
    "  '''\n",
    "  Cette fonction duplique et concatene des morceaux de signaux jusqu'a ce qu'il\n",
    "  atteingnent 50 000 frames commme cela est preconisé dans le papier.\n",
    "  '''\n",
    "    while len(serie)<nb_framing:\n",
    "        serie=np.concatenate((serie, serie), axis=None)\n",
    "    return serie[0:nb_framing]\n",
    "\n",
    "def downsample_signal(signal):\n",
    "  '''\n",
    "  Cette fonction applique un double filtre d'ordre 4 et de facteur 8\n",
    "  '''\n",
    "    return scipy.signal.decimate(scipy.signal.decimate(signal, 8, 4), 8, 4)"
   ]
  },
  {
   "cell_type": "code",
   "execution_count": 0,
   "metadata": {
    "colab": {},
    "colab_type": "code",
    "id": "iUaG4nv6C0YS"
   },
   "outputs": [],
   "source": [
    "def load_and_process(path,label):\n",
    "  '''\n",
    "  On charge les données pour un path donné, on lui applique l'ensemble des\n",
    "  preprossessing et on annote en parallele une liste au label donné.\n",
    "  '''\n",
    "    list=load_data(path)\n",
    "    X=[]\n",
    "    for i in range(0,len(list)):\n",
    "        processed_list=data_framing(\n",
    "                       apply_filter(\n",
    "                       list[i][1],[50,800],list[i][0]),50000)\n",
    "\n",
    "        processed_list=downsample_signal(processed_list)\n",
    "        processed_list=processed_list/max(abs(processed_list))\n",
    "        X.append(processed_list)\n",
    "\n",
    "    X=np.array(X)\n",
    "    y=np.ones(X.shape[0])*label\n",
    "\n",
    "    return X, y.astype(int)\n"
   ]
  },
  {
   "cell_type": "code",
   "execution_count": 10,
   "metadata": {
    "colab": {
     "base_uri": "https://localhost:8080/",
     "height": 221
    },
    "colab_type": "code",
    "id": "xXtLEJQRC0YU",
    "outputId": "59b39e34-e681-410e-d522-6497cb211010"
   },
   "outputs": [
    {
     "name": "stdout",
     "output_type": "stream",
     "text": [
      "Data Importation Succeeded\n",
      "Data Importation Succeeded\n",
      "Data Importation Succeeded\n",
      "Data Importation Succeeded\n",
      "Data Importation Succeeded\n",
      "Xi Shapes:  (461, 782) (200, 782) (66, 782) (46, 782)\n",
      "Yi Shapes:  (461,) (200,) (66,) (46,)\n",
      "X_concat Shape:  (461, 782)\n",
      "y_concat Shape:  (461,)\n",
      "X_train Shape:  (289, 782)\n",
      "X_test Shape:  (33, 782)\n",
      "X_val Shape:  (139, 782)\n"
     ]
    }
   ],
   "source": [
    "rootpath='drive/My Drive/Colab Notebooks/Heartbeat_proj/'\n",
    "# Ici on extrait l'ensemble des données dans plusieurs dossiers\n",
    "X1,y1=load_and_process(rootpath+'dataset/Btraining_normal/',0)\n",
    "X11,y11=load_and_process(rootpath+'dataset/Btraining_normal/Btraining_noisynormal/',0)\n",
    "X2,y2=load_and_process(rootpath+'dataset/Btraining_murmur/',1)\n",
    "X22,y22=load_and_process(rootpath+'dataset/Btraining_murmur/Btraining_noisymurmur/',1)\n",
    "X3,y3=load_and_process(rootpath+'dataset/Btraining_extrasystole/',2)\n",
    "# On concatene l'ensemble de ces données\n",
    "X=np.concatenate((X1,X11,X2,X22,X3), axis=0)\n",
    "y=np.concatenate((y1,y11,y2,y22,y3), axis=0)\n",
    "print('Xi Shapes: ',X.shape,X1.shape,X2.shape,X3.shape)\n",
    "print('Yi Shapes: ',y.shape,y1.shape,y2.shape,y3.shape)\n",
    "print('X_concat Shape: ',X.shape)\n",
    "print('y_concat Shape: ',y.shape)\n",
    "# On melange les données\n",
    "X,y=shuffle(X,y)\n",
    "X_train, X_val, y_train, y_val = train_test_split(\n",
    "                                    X, y, test_size=0.3)\n",
    "X_train, X_test, y_train, y_test = train_test_split(\n",
    "                                    X_train,y_train, test_size=33)\n",
    "# On Affiche les tailles du jeu de donnée pour s'assurer du decoupage\n",
    "print('X_train Shape: ',X_train.shape)\n",
    "print('X_test Shape: ',X_test.shape)\n",
    "print('X_val Shape: ',X_val.shape)"
   ]
  },
  {
   "cell_type": "code",
   "execution_count": 0,
   "metadata": {
    "colab": {},
    "colab_type": "code",
    "id": "iNJltwcyC0YX"
   },
   "outputs": [],
   "source": [
    "from keras.layers import LSTM, Dropout, Dense, Input\n",
    "from keras.models import Model\n",
    "from keras.callbacks import ModelCheckpoint\n",
    "def lstm_net(input_size=(782,1)):\n",
    "    \"\"\"\n",
    "    Architecture du modele LSTM\n",
    "    \n",
    "    Parametres\n",
    "    ----------\n",
    "    input_size: input shape\n",
    "    \n",
    "    Sorties\n",
    "    -------\n",
    "    model: compiled model\n",
    "    \"\"\"\n",
    "    input_model = Input(input_size)\n",
    "    # Ici return_sequences = True pour suivre les dimensions du papier\n",
    "    res = LSTM(units=64, return_sequences=True, input_shape=(782, 1))(input_model)\n",
    "    res = Dropout(0.35)(res)\n",
    "    res = LSTM(units=32, return_sequences=False)(res)\n",
    "    res = Dropout(0.35)(res)\n",
    "    res = Dense(3,activation='softmax')(res)\n",
    "    model= Model(inputs=input_model,outputs=res)\n",
    "    \n",
    "    model.compile(loss=\"categorical_crossentropy\", optimizer='adam', metrics=['mae', 'acc'])\n",
    "    return model\n",
    "    \n",
    "    "
   ]
  },
  {
   "cell_type": "code",
   "execution_count": 12,
   "metadata": {
    "colab": {
     "base_uri": "https://localhost:8080/",
     "height": 853
    },
    "colab_type": "code",
    "id": "AjG8p06-C0Ya",
    "outputId": "2bffe33a-d44b-420e-9876-2c6492f3f760"
   },
   "outputs": [
    {
     "name": "stdout",
     "output_type": "stream",
     "text": [
      "(289, 782, 1)\n",
      "WARNING:tensorflow:From /usr/local/lib/python3.6/dist-packages/keras/backend/tensorflow_backend.py:66: The name tf.get_default_graph is deprecated. Please use tf.compat.v1.get_default_graph instead.\n",
      "\n",
      "WARNING:tensorflow:From /usr/local/lib/python3.6/dist-packages/keras/backend/tensorflow_backend.py:541: The name tf.placeholder is deprecated. Please use tf.compat.v1.placeholder instead.\n",
      "\n",
      "WARNING:tensorflow:From /usr/local/lib/python3.6/dist-packages/keras/backend/tensorflow_backend.py:4432: The name tf.random_uniform is deprecated. Please use tf.random.uniform instead.\n",
      "\n",
      "WARNING:tensorflow:From /usr/local/lib/python3.6/dist-packages/keras/backend/tensorflow_backend.py:148: The name tf.placeholder_with_default is deprecated. Please use tf.compat.v1.placeholder_with_default instead.\n",
      "\n",
      "WARNING:tensorflow:From /usr/local/lib/python3.6/dist-packages/keras/backend/tensorflow_backend.py:3733: calling dropout (from tensorflow.python.ops.nn_ops) with keep_prob is deprecated and will be removed in a future version.\n",
      "Instructions for updating:\n",
      "Please use `rate` instead of `keep_prob`. Rate should be set to `rate = 1 - keep_prob`.\n",
      "WARNING:tensorflow:From /usr/local/lib/python3.6/dist-packages/keras/optimizers.py:793: The name tf.train.Optimizer is deprecated. Please use tf.compat.v1.train.Optimizer instead.\n",
      "\n",
      "WARNING:tensorflow:From /usr/local/lib/python3.6/dist-packages/keras/backend/tensorflow_backend.py:3576: The name tf.log is deprecated. Please use tf.math.log instead.\n",
      "\n",
      "Model: \"model_1\"\n",
      "_________________________________________________________________\n",
      "Layer (type)                 Output Shape              Param #   \n",
      "=================================================================\n",
      "input_1 (InputLayer)         (None, 782, 1)            0         \n",
      "_________________________________________________________________\n",
      "lstm_1 (LSTM)                (None, 782, 64)           16896     \n",
      "_________________________________________________________________\n",
      "dropout_1 (Dropout)          (None, 782, 64)           0         \n",
      "_________________________________________________________________\n",
      "lstm_2 (LSTM)                (None, 32)                12416     \n",
      "_________________________________________________________________\n",
      "dropout_2 (Dropout)          (None, 32)                0         \n",
      "_________________________________________________________________\n",
      "dense_1 (Dense)              (None, 3)                 99        \n",
      "=================================================================\n",
      "Total params: 29,411\n",
      "Trainable params: 29,411\n",
      "Non-trainable params: 0\n",
      "_________________________________________________________________\n",
      "WARNING:tensorflow:From /usr/local/lib/python3.6/dist-packages/keras/backend/tensorflow_backend.py:190: The name tf.get_default_session is deprecated. Please use tf.compat.v1.get_default_session instead.\n",
      "\n",
      "WARNING:tensorflow:From /usr/local/lib/python3.6/dist-packages/keras/backend/tensorflow_backend.py:197: The name tf.ConfigProto is deprecated. Please use tf.compat.v1.ConfigProto instead.\n",
      "\n",
      "WARNING:tensorflow:From /usr/local/lib/python3.6/dist-packages/keras/backend/tensorflow_backend.py:203: The name tf.Session is deprecated. Please use tf.compat.v1.Session instead.\n",
      "\n",
      "WARNING:tensorflow:From /usr/local/lib/python3.6/dist-packages/keras/backend/tensorflow_backend.py:207: The name tf.global_variables is deprecated. Please use tf.compat.v1.global_variables instead.\n",
      "\n",
      "WARNING:tensorflow:From /usr/local/lib/python3.6/dist-packages/keras/backend/tensorflow_backend.py:216: The name tf.is_variable_initialized is deprecated. Please use tf.compat.v1.is_variable_initialized instead.\n",
      "\n",
      "WARNING:tensorflow:From /usr/local/lib/python3.6/dist-packages/keras/backend/tensorflow_backend.py:223: The name tf.variables_initializer is deprecated. Please use tf.compat.v1.variables_initializer instead.\n",
      "\n"
     ]
    }
   ],
   "source": [
    "training = False\n",
    "X_input=np.expand_dims(X_train,axis=2)\n",
    "y_input=to_categorical(y_train)\n",
    "X_input_val=np.expand_dims(X_val,axis=2)\n",
    "y_input_val=to_categorical(y_val)\n",
    "# Les classes ne sont pas equilibrées on cherche a ponderer les sorties du\n",
    "# classifieurs pour qu'il adapte les points en consequence \n",
    "class_weights = class_weight.compute_class_weight('balanced',\n",
    "                                                 np.unique(y_train),\n",
    "                                                 y_train)\n",
    "\n",
    "\n",
    "print(X_input.shape)\n",
    "model=lstm_net()\n",
    "model.summary() # affichage du modèle\n",
    "filepath=\"drive/My Drive/Colab Notebooks/Heartbeat_proj/best_model.hdf5\"\n",
    "# Chargement des checkpoints pour sauvegarder le meilleur modèle\n",
    "checkpoint = ModelCheckpoint(filepath=filepath, \n",
    "                             monitor='val_loss', \n",
    "                             verbose=1, \n",
    "                             save_best_only=True, \n",
    "                             mode='auto')\n",
    "callbacks_list = [checkpoint]\n",
    "\n",
    "\n",
    "batch_size = 25\n",
    "epochs = 10\n",
    "# Apprentissage du modèle\n",
    "if training :\n",
    "  history = model.fit(x=X_input,\n",
    "                      y=y_input,\n",
    "                      batch_size=batch_size, \n",
    "                      epochs=epochs, \n",
    "                      class_weight=class_weights,\n",
    "                      validation_data = [X_input_val, y_input_val],\n",
    "                      callbacks =callbacks_list,\n",
    "                      verbose=1)\n",
    "else :\n",
    "  model.load_weights(filepath)"
   ]
  },
  {
   "cell_type": "code",
   "execution_count": 0,
   "metadata": {
    "colab": {
     "base_uri": "https://localhost:8080/",
     "height": 295
    },
    "colab_type": "code",
    "id": "0xUhvuMJDkQS",
    "outputId": "65de3a51-ba13-443d-c23c-9399b0c362f3"
   },
   "outputs": [
    {
     "data": {
      "image/png": "[encoded data removed]",
      "text/plain": [
       "<Figure size 432x288 with 1 Axes>"
      ]
     },
     "metadata": {
      "tags": []
     },
     "output_type": "display_data"
    }
   ],
   "source": [
    "# Affichage courbes de loss apprentissage et validation\n",
    "plt.plot(history.history['loss'])\n",
    "plt.plot(history.history['val_loss'])\n",
    "plt.title('model loss')\n",
    "plt.ylabel('loss')\n",
    "plt.xlabel('epoch')\n",
    "plt.legend(['train', 'val'], loc='upper left')\n",
    "plt.show()"
   ]
  },
  {
   "cell_type": "code",
   "execution_count": 0,
   "metadata": {
    "colab": {
     "base_uri": "https://localhost:8080/",
     "height": 295
    },
    "colab_type": "code",
    "id": "3pnVb7yVC0Yc",
    "outputId": "5a7d5969-2a2d-4814-be05-01f1e432fa5f"
   },
   "outputs": [
    {
     "data": {
      "image/png": "[encoded data removed]",
      "text/plain": [
       "<Figure size 432x288 with 1 Axes>"
      ]
     },
     "metadata": {
      "tags": []
     },
     "output_type": "display_data"
    }
   ],
   "source": [
    "# Affichage courbes d'accuracy d'apprentissage et validation\n",
    "plt.plot(history.history['acc'])\n",
    "plt.plot(history.history['val_acc'])\n",
    "plt.title('model accuracy')\n",
    "plt.ylabel('accuracy')\n",
    "plt.xlabel('epoch')\n",
    "plt.legend(['train', 'val'], loc='upper left')\n",
    "plt.show()"
   ]
  },
  {
   "cell_type": "code",
   "execution_count": 13,
   "metadata": {
    "colab": {
     "base_uri": "https://localhost:8080/",
     "height": 241
    },
    "colab_type": "code",
    "id": "nULLmw7HC0Ye",
    "outputId": "ce4d8102-2b5b-4bef-e998-dd494ff9b2ae"
   },
   "outputs": [
    {
     "name": "stdout",
     "output_type": "stream",
     "text": [
      "              precision    recall  f1-score   support\n",
      "\n",
      "           0       0.70      1.00      0.82        23\n",
      "           1       0.00      0.00      0.00         8\n",
      "           2       0.00      0.00      0.00         2\n",
      "\n",
      "    accuracy                           0.70        33\n",
      "   macro avg       0.23      0.33      0.27        33\n",
      "weighted avg       0.49      0.70      0.57        33\n",
      "\n"
     ]
    },
    {
     "name": "stderr",
     "output_type": "stream",
     "text": [
      "/usr/local/lib/python3.6/dist-packages/sklearn/metrics/classification.py:1437: UndefinedMetricWarning: Precision and F-score are ill-defined and being set to 0.0 in labels with no predicted samples.\n",
      "  'precision', 'predicted', average, warn_for)\n"
     ]
    }
   ],
   "source": [
    "# Diagnostiques de classification\n",
    "X_input=np.expand_dims(X_test,axis=2)\n",
    "ypred=model.predict(X_input)\n",
    "ypred=np.argmax(ypred, axis=1)\n",
    "print(classification_report(y_test,ypred))"
   ]
  }
 ],
 "metadata": {
  "accelerator": "GPU",
  "colab": {
   "collapsed_sections": [],
   "include_colab_link": true,
   "name": "model_lstm_heartbeat.ipynb",
   "provenance": [],
   "toc_visible": true
  },
  "kernelspec": {
   "display_name": "Python 3",
   "language": "python",
   "name": "python3"
  },
  "language_info": {
   "codemirror_mode": {
    "name": "ipython",
    "version": 3
   },
   "file_extension": ".py",
   "mimetype": "text/x-python",
   "name": "python",
   "nbconvert_exporter": "python",
   "pygments_lexer": "ipython3",
   "version": "3.7.3"
  }
 },
 "nbformat": 4,
 "nbformat_minor": 1
}
