{
  "nbformat": 4,
  "nbformat_minor": 0,
  "metadata": {
    "kernelspec": {
      "name": "python3",
      "display_name": "Python 3"
    },
    "language_info": {
      "codemirror_mode": {
        "name": "ipython",
        "version": 3
      },
      "file_extension": ".py",
      "mimetype": "text/x-python",
      "name": "python",
      "nbconvert_exporter": "python",
      "pygments_lexer": "ipython3",
      "version": "3.7.5"
    },
    "colab": {
      "name": "model.ipynb",
      "provenance": [],
      "collapsed_sections": [],
      "toc_visible": true
    },
    "accelerator": "GPU"
  },
  "cells": [
    {
      "cell_type": "markdown",
      "metadata": {
        "id": "XIlwMopOC0YJ",
        "colab_type": "text"
      },
      "source": [
        "# Heartbeat Classification\n",
        "## Implementation"
      ]
    },
    {
      "cell_type": "code",
      "metadata": {
        "id": "pvVUe_xTDrK9",
        "colab_type": "code",
        "colab": {
          "base_uri": "https://localhost:8080/",
          "height": 54
        },
        "outputId": "48fbe02c-1edd-4e2f-f693-6680f14f6494"
      },
      "source": [
        "from google.colab import drive\n",
        "drive.mount('/content/gdrive')"
      ],
      "execution_count": 16,
      "outputs": [
        {
          "output_type": "stream",
          "text": [
            "Drive already mounted at /content/gdrive; to attempt to forcibly remount, call drive.mount(\"/content/gdrive\", force_remount=True).\n"
          ],
          "name": "stdout"
        }
      ]
    },
    {
      "cell_type": "code",
      "metadata": {
        "id": "eMq7ar4rC0YM",
        "colab_type": "code",
        "colab": {}
      },
      "source": [
        "from scipy.io import wavfile\n",
        "import os\n",
        "import numpy as np\n",
        "import matplotlib.pyplot as plt\n",
        "from scipy.signal import lfilter,butter,resample\n",
        "from sklearn.model_selection import train_test_split\n",
        "from sklearn.utils import shuffle\n",
        "from sklearn.preprocessing import OneHotEncoder\n",
        "from keras.utils import to_categorical\n",
        "from sklearn.metrics import classification_report"
      ],
      "execution_count": 0,
      "outputs": []
    },
    {
      "cell_type": "code",
      "metadata": {
        "id": "2c5uxmpJC0YQ",
        "colab_type": "code",
        "colab": {}
      },
      "source": [
        "def load_data(path):\n",
        "    frame=[]\n",
        "    for filename in os.listdir(path):\n",
        "        if filename[-3:]=='wav':\n",
        "            frame.append(wavfile.read(path+filename))\n",
        "    print('Data Importation Succeeded')\n",
        "    return frame\n",
        "\n",
        "def butter_bandpass(lowcut, highcut, fs, order=5):\n",
        "    nyq = 0.5 * fs\n",
        "    low = lowcut / nyq\n",
        "    high = highcut / nyq\n",
        "    b, a = butter(order, [low, high], btype='band')\n",
        "    return b, a\n",
        "\n",
        "def butter_bandpass_filter(data, lowcut, highcut, fs, order=5):\n",
        "    b, a = butter_bandpass(lowcut, highcut, fs, order=order)\n",
        "    y = lfilter(b, a, data)\n",
        "    return y\n",
        "\n",
        "def data_framing(serie, nb_framing):\n",
        "    while len(serie)<nb_framing:\n",
        "        serie=np.concatenate((serie, serie), axis=None)\n",
        "    return serie[0:nb_framing]"
      ],
      "execution_count": 0,
      "outputs": []
    },
    {
      "cell_type": "code",
      "metadata": {
        "id": "iUaG4nv6C0YS",
        "colab_type": "code",
        "colab": {}
      },
      "source": [
        "def load_and_process(path,label):\n",
        "    list=load_data(path)\n",
        "    X=[]\n",
        "    for i in range(0,len(list)):\n",
        "        processed_list=data_framing(\n",
        "                       butter_bandpass_filter(\n",
        "                       list[i][1],50,800,4000),50000)\n",
        "\n",
        "        processed_list=resample(processed_list,782)\n",
        "        processed_list=processed_list/max(abs(processed_list))\n",
        "        X.append(processed_list)\n",
        "\n",
        "    X=np.array(X)\n",
        "    y=np.ones(X.shape[0])*label\n",
        "\n",
        "    return X, y.astype(int)\n"
      ],
      "execution_count": 0,
      "outputs": []
    },
    {
      "cell_type": "code",
      "metadata": {
        "id": "xXtLEJQRC0YU",
        "colab_type": "code",
        "colab": {
          "base_uri": "https://localhost:8080/",
          "height": 136
        },
        "outputId": "e55fe7c6-e5ca-4ecd-ed44-1124910385bc"
      },
      "source": [
        "rootpath='gdrive/My Drive/Colab Notebooks/Heartbeat_proj/'\n",
        "X1,y1=load_and_process(rootpath+'data/Training B Normal/',0)\n",
        "X2,y2=load_and_process(rootpath+'data/Btraining_murmur/',1)\n",
        "X3,y3=load_and_process(rootpath+'data/Btraining_extrastole/',2)\n",
        "print('Xi Shapes: ',X1.shape,X2.shape,X3.shape)\n",
        "print('Yi Shapes: ',y1.shape,y2.shape,y3.shape)\n",
        "X=np.concatenate((X1,X2,X3), axis=0)\n",
        "y=np.concatenate((y1,y2,y3), axis=0)\n",
        "print('X_concat Shape: ',X.shape)\n",
        "print('y_concat Shape: ',y.shape)\n",
        "X,y=shuffle(X,y)\n",
        "X_train, X_test, y_train, y_test = train_test_split(\n",
        "                                    X, y, test_size=0.33, random_state=42)\n",
        "X_train, X_val, y_train, y_val = train_test_split(\n",
        "                                    X_train,y_train, test_size=0.33, random_state=42)"
      ],
      "execution_count": 24,
      "outputs": [
        {
          "output_type": "stream",
          "text": [
            "Data Importation Succeeded\n",
            "Data Importation Succeeded\n",
            "Data Importation Succeeded\n",
            "Xi Shapes:  (200, 782) (66, 782) (46, 782)\n",
            "Yi Shapes:  (200,) (66,) (46,)\n",
            "X_concat Shape:  (312, 782)\n",
            "y_concat Shape:  (312,)\n"
          ],
          "name": "stdout"
        }
      ]
    },
    {
      "cell_type": "code",
      "metadata": {
        "id": "Nm8GCrmRE6gu",
        "colab_type": "code",
        "colab": {
          "base_uri": "https://localhost:8080/",
          "height": 374
        },
        "outputId": "367db168-a2b5-4527-cbc0-d62b30027e63"
      },
      "source": [
        "whos"
      ],
      "execution_count": 12,
      "outputs": [
        {
          "output_type": "stream",
          "text": [
            "Variable                 Type        Data/Info\n",
            "----------------------------------------------\n",
            "OneHotEncoder            type        <class 'sklearn.preproces<...>_encoders.OneHotEncoder'>\n",
            "butter                   function    <function butter at 0x7f7391f81d08>\n",
            "butter_bandpass          function    <function butter_bandpass at 0x7f7355eb6e18>\n",
            "butter_bandpass_filter   function    <function butter_bandpass<...>filter at 0x7f7355eb6ea0>\n",
            "classification_report    function    <function classification_<...>report at 0x7f738df610d0>\n",
            "data_framing             function    <function data_framing at 0x7f7355eb6f28>\n",
            "drive                    module      <module 'google.colab.dri<...>s/google/colab/drive.py'>\n",
            "lfilter                  function    <function lfilter at 0x7f7390821048>\n",
            "load_and_process         function    <function load_and_process at 0x7f7355edf400>\n",
            "load_data                function    <function load_data at 0x7f7355eb6d90>\n",
            "np                       module      <module 'numpy' from '/us<...>kages/numpy/__init__.py'>\n",
            "os                       module      <module 'os' from '/usr/lib/python3.6/os.py'>\n",
            "plt                      module      <module 'matplotlib.pyplo<...>es/matplotlib/pyplot.py'>\n",
            "resample                 function    <function resample at 0x7f7390821620>\n",
            "rootpath                 str         ./My drive/Colab Notebooks/Heartbeat_proj/\n",
            "shuffle                  function    <function shuffle at 0x7f738e93e8c8>\n",
            "to_categorical           function    <function to_categorical at 0x7f738d65f400>\n",
            "train_test_split         function    <function train_test_split at 0x7f738e8ec598>\n",
            "wavfile                  module      <module 'scipy.io.wavfile<...>ges/scipy/io/wavfile.py'>\n"
          ],
          "name": "stdout"
        }
      ]
    },
    {
      "cell_type": "code",
      "metadata": {
        "id": "iNJltwcyC0YX",
        "colab_type": "code",
        "colab": {}
      },
      "source": [
        "from keras.layers import LSTM, Dropout, Dense, Input\n",
        "from keras.models import Model\n",
        "from keras.callbacks import ModelCheckpoint\n",
        "def lstm_net(input_size=(782,1)):\n",
        "    \"\"\"\n",
        "    Définir l'architecture unet\n",
        "    \n",
        "    Parameters\n",
        "    ----------\n",
        "    input_size: input shape\n",
        "    \n",
        "    Returns\n",
        "    -------\n",
        "    model: compiled model\n",
        "    \"\"\"\n",
        "    input_model = Input(input_size)\n",
        "    res = LSTM(units=64, return_sequences=True, input_shape=(782, 1))(input_model)\n",
        "    res = Dropout(0.35)(res)\n",
        "    res = LSTM(units=32, return_sequences=False)(res)\n",
        "    res = Dropout(0.35)(res)\n",
        "    res = Dense(3,activation='softmax')(res)\n",
        "    model= Model(inputs=input_model,outputs=res)\n",
        "    \n",
        "    model.compile(loss=\"categorical_crossentropy\", optimizer='adam', metrics=['mae', 'acc'])\n",
        "    return model\n",
        "    \n",
        "    "
      ],
      "execution_count": 0,
      "outputs": []
    },
    {
      "cell_type": "code",
      "metadata": {
        "id": "AjG8p06-C0Ya",
        "colab_type": "code",
        "colab": {
          "base_uri": "https://localhost:8080/",
          "height": 1000
        },
        "outputId": "1c11503f-6a27-4082-9190-1291660f417b"
      },
      "source": [
        "X_input=np.expand_dims(X_train,axis=2)\n",
        "y_input=to_categorical(y_train)\n",
        "X_input_val=np.expand_dims(X_val,axis=2)\n",
        "y_input_val=to_categorical(y_val)\n",
        "print(X_input.shape)\n",
        "model=lstm_net()\n",
        "model.summary()\n",
        "filepath=\"gdrive/My Drive/Colab Notebooks/Heartbeat_proj/best_model.hdf5\"\n",
        "checkpoint = ModelCheckpoint(filepath=filepath, \n",
        "                             monitor='val_loss', \n",
        "                             verbose=1, \n",
        "                             save_best_only=True, \n",
        "                             mode='auto')\n",
        "callbacks_list = [checkpoint]\n",
        "\n",
        "\n",
        "batch_size = 1\n",
        "epochs = 10\n",
        "history = model.fit(x=X_input,\n",
        "                    y=y_input,\n",
        "                    batch_size=batch_size, \n",
        "                    epochs=epochs, \n",
        "                    validation_data = [X_input_val, y_input_val],\n",
        "                    callbacks =callbacks_list,\n",
        "                    verbose=1)"
      ],
      "execution_count": 33,
      "outputs": [
        {
          "output_type": "stream",
          "text": [
            "(140, 782, 1)\n",
            "Model: \"model_4\"\n",
            "_________________________________________________________________\n",
            "Layer (type)                 Output Shape              Param #   \n",
            "=================================================================\n",
            "input_4 (InputLayer)         (None, 782, 1)            0         \n",
            "_________________________________________________________________\n",
            "lstm_7 (LSTM)                (None, 782, 64)           16896     \n",
            "_________________________________________________________________\n",
            "dropout_7 (Dropout)          (None, 782, 64)           0         \n",
            "_________________________________________________________________\n",
            "lstm_8 (LSTM)                (None, 32)                12416     \n",
            "_________________________________________________________________\n",
            "dropout_8 (Dropout)          (None, 32)                0         \n",
            "_________________________________________________________________\n",
            "dense_4 (Dense)              (None, 3)                 99        \n",
            "=================================================================\n",
            "Total params: 29,411\n",
            "Trainable params: 29,411\n",
            "Non-trainable params: 0\n",
            "_________________________________________________________________\n",
            "WARNING:tensorflow:From /usr/local/lib/python3.6/dist-packages/tensorflow_core/python/ops/math_grad.py:1424: where (from tensorflow.python.ops.array_ops) is deprecated and will be removed in a future version.\n",
            "Instructions for updating:\n",
            "Use tf.where in 2.0, which has the same broadcast rule as np.where\n",
            "WARNING:tensorflow:From /usr/local/lib/python3.6/dist-packages/keras/backend/tensorflow_backend.py:1033: The name tf.assign_add is deprecated. Please use tf.compat.v1.assign_add instead.\n",
            "\n",
            "WARNING:tensorflow:From /usr/local/lib/python3.6/dist-packages/keras/backend/tensorflow_backend.py:1020: The name tf.assign is deprecated. Please use tf.compat.v1.assign instead.\n",
            "\n",
            "WARNING:tensorflow:From /usr/local/lib/python3.6/dist-packages/keras/backend/tensorflow_backend.py:3005: The name tf.Session is deprecated. Please use tf.compat.v1.Session instead.\n",
            "\n",
            "Train on 140 samples, validate on 69 samples\n",
            "Epoch 1/10\n",
            "WARNING:tensorflow:From /usr/local/lib/python3.6/dist-packages/keras/backend/tensorflow_backend.py:190: The name tf.get_default_session is deprecated. Please use tf.compat.v1.get_default_session instead.\n",
            "\n",
            "WARNING:tensorflow:From /usr/local/lib/python3.6/dist-packages/keras/backend/tensorflow_backend.py:197: The name tf.ConfigProto is deprecated. Please use tf.compat.v1.ConfigProto instead.\n",
            "\n",
            "WARNING:tensorflow:From /usr/local/lib/python3.6/dist-packages/keras/backend/tensorflow_backend.py:207: The name tf.global_variables is deprecated. Please use tf.compat.v1.global_variables instead.\n",
            "\n",
            "WARNING:tensorflow:From /usr/local/lib/python3.6/dist-packages/keras/backend/tensorflow_backend.py:216: The name tf.is_variable_initialized is deprecated. Please use tf.compat.v1.is_variable_initialized instead.\n",
            "\n",
            "WARNING:tensorflow:From /usr/local/lib/python3.6/dist-packages/keras/backend/tensorflow_backend.py:223: The name tf.variables_initializer is deprecated. Please use tf.compat.v1.variables_initializer instead.\n",
            "\n",
            "140/140 [==============================] - 349s 2s/step - loss: 0.9949 - mean_absolute_error: 0.3945 - acc: 0.6286 - val_loss: 0.9358 - val_mean_absolute_error: 0.3766 - val_acc: 0.6087\n",
            "\n",
            "Epoch 00001: val_loss improved from inf to 0.93578, saving model to gdrive/My Drive/Colab Notebooks/Heartbeat_proj/best_model.hdf5\n",
            "Epoch 2/10\n",
            "140/140 [==============================] - 348s 2s/step - loss: 0.9217 - mean_absolute_error: 0.3568 - acc: 0.6357 - val_loss: 0.9448 - val_mean_absolute_error: 0.3871 - val_acc: 0.6087\n",
            "\n",
            "Epoch 00002: val_loss did not improve from 0.93578\n",
            "Epoch 3/10\n",
            "140/140 [==============================] - 336s 2s/step - loss: 0.9316 - mean_absolute_error: 0.3582 - acc: 0.6357 - val_loss: 0.9409 - val_mean_absolute_error: 0.3781 - val_acc: 0.6087\n",
            "\n",
            "Epoch 00003: val_loss did not improve from 0.93578\n",
            "Epoch 4/10\n",
            "140/140 [==============================] - 338s 2s/step - loss: 0.9084 - mean_absolute_error: 0.3539 - acc: 0.6357 - val_loss: 0.9413 - val_mean_absolute_error: 0.3800 - val_acc: 0.6087\n",
            "\n",
            "Epoch 00004: val_loss did not improve from 0.93578\n",
            "Epoch 5/10\n",
            "140/140 [==============================] - 336s 2s/step - loss: 0.9362 - mean_absolute_error: 0.3639 - acc: 0.6357 - val_loss: 0.9386 - val_mean_absolute_error: 0.3773 - val_acc: 0.6087\n",
            "\n",
            "Epoch 00005: val_loss did not improve from 0.93578\n",
            "Epoch 6/10\n",
            "140/140 [==============================] - 336s 2s/step - loss: 0.9250 - mean_absolute_error: 0.3642 - acc: 0.6357 - val_loss: 0.9328 - val_mean_absolute_error: 0.3696 - val_acc: 0.6087\n",
            "\n",
            "Epoch 00006: val_loss improved from 0.93578 to 0.93282, saving model to gdrive/My Drive/Colab Notebooks/Heartbeat_proj/best_model.hdf5\n",
            "Epoch 7/10\n",
            "140/140 [==============================] - 337s 2s/step - loss: 0.8917 - mean_absolute_error: 0.3446 - acc: 0.6357 - val_loss: 0.9363 - val_mean_absolute_error: 0.3563 - val_acc: 0.6087\n",
            "\n",
            "Epoch 00007: val_loss did not improve from 0.93282\n",
            "Epoch 8/10\n",
            "140/140 [==============================] - 337s 2s/step - loss: 0.9425 - mean_absolute_error: 0.3619 - acc: 0.6357 - val_loss: 0.9356 - val_mean_absolute_error: 0.3705 - val_acc: 0.6087\n",
            "\n",
            "Epoch 00008: val_loss did not improve from 0.93282\n",
            "Epoch 9/10\n",
            "140/140 [==============================] - 335s 2s/step - loss: 0.9317 - mean_absolute_error: 0.3579 - acc: 0.6357 - val_loss: 0.9340 - val_mean_absolute_error: 0.3737 - val_acc: 0.6087\n",
            "\n",
            "Epoch 00009: val_loss did not improve from 0.93282\n",
            "Epoch 10/10\n",
            "140/140 [==============================] - 334s 2s/step - loss: 0.9179 - mean_absolute_error: 0.3668 - acc: 0.6357 - val_loss: 0.9336 - val_mean_absolute_error: 0.3608 - val_acc: 0.6087\n",
            "\n",
            "Epoch 00010: val_loss did not improve from 0.93282\n"
          ],
          "name": "stdout"
        }
      ]
    },
    {
      "cell_type": "code",
      "metadata": {
        "id": "0xUhvuMJDkQS",
        "colab_type": "code",
        "colab": {
          "base_uri": "https://localhost:8080/",
          "height": 295
        },
        "outputId": "d7d3fe7b-190d-4c5a-cbf4-94b7e2f3ce25"
      },
      "source": [
        "plt.plot(history.history['loss'])\n",
        "plt.plot(history.history['val_loss'])\n",
        "plt.title('model loss')\n",
        "plt.ylabel('loss')\n",
        "plt.xlabel('epoch')\n",
        "plt.legend(['train', 'val'], loc='upper left')\n",
        "plt.show()"
      ],
      "execution_count": 34,
      "outputs": [
        {
          "output_type": "display_data",
          "data": {
            "image/png": "[encoded data removed]",
            "text/plain": [
              "<Figure size 432x288 with 1 Axes>"
            ]
          },
          "metadata": {
            "tags": []
          }
        }
      ]
    },
    {
      "cell_type": "code",
      "metadata": {
        "id": "3pnVb7yVC0Yc",
        "colab_type": "code",
        "colab": {
          "base_uri": "https://localhost:8080/",
          "height": 295
        },
        "outputId": "d8890e76-9a20-4772-9478-04382c557db9"
      },
      "source": [
        "plt.plot(history.history['acc'])\n",
        "plt.plot(history.history['val_acc'])\n",
        "plt.title('model accuracy')\n",
        "plt.ylabel('accuracy')\n",
        "plt.xlabel('epoch')\n",
        "plt.legend(['train', 'val'], loc='upper left')\n",
        "plt.show()"
      ],
      "execution_count": 35,
      "outputs": [
        {
          "output_type": "display_data",
          "data": {
            "image/png": "[encoded data removed]",
            "text/plain": [
              "<Figure size 432x288 with 1 Axes>"
            ]
          },
          "metadata": {
            "tags": []
          }
        }
      ]
    },
    {
      "cell_type": "code",
      "metadata": {
        "id": "nULLmw7HC0Ye",
        "colab_type": "code",
        "colab": {
          "base_uri": "https://localhost:8080/",
          "height": 241
        },
        "outputId": "9a643a2f-e25f-427c-b677-bf98fe8e5d5b"
      },
      "source": [
        "X_input=np.expand_dims(X_test,axis=2)\n",
        "ypred=model.predict(X_input)\n",
        "ypred=np.argmax(ypred, axis=1)\n",
        "print(classification_report(y_test,ypred))"
      ],
      "execution_count": 36,
      "outputs": [
        {
          "output_type": "stream",
          "text": [
            "              precision    recall  f1-score   support\n",
            "\n",
            "           0       0.67      1.00      0.80        69\n",
            "           1       0.00      0.00      0.00        20\n",
            "           2       0.00      0.00      0.00        14\n",
            "\n",
            "    accuracy                           0.67       103\n",
            "   macro avg       0.22      0.33      0.27       103\n",
            "weighted avg       0.45      0.67      0.54       103\n",
            "\n"
          ],
          "name": "stdout"
        },
        {
          "output_type": "stream",
          "text": [
            "/usr/local/lib/python3.6/dist-packages/sklearn/metrics/classification.py:1437: UndefinedMetricWarning: Precision and F-score are ill-defined and being set to 0.0 in labels with no predicted samples.\n",
            "  'precision', 'predicted', average, warn_for)\n"
          ],
          "name": "stderr"
        }
      ]
    },
    {
      "cell_type": "code",
      "metadata": {
        "id": "aCBDpTrpC0Yg",
        "colab_type": "code",
        "colab": {
          "base_uri": "https://localhost:8080/",
          "height": 164
        },
        "outputId": "4eb0cd52-3ac6-4c12-9172-b1b31a925ef6"
      },
      "source": [
        "plt.plot(butter_bandpass_filter(list[2][1],50,800,4000))"
      ],
      "execution_count": 37,
      "outputs": [
        {
          "output_type": "error",
          "ename": "TypeError",
          "evalue": "ignored",
          "traceback": [
            "\u001b[0;31m---------------------------------------------------------------------------\u001b[0m",
            "\u001b[0;31mTypeError\u001b[0m                                 Traceback (most recent call last)",
            "\u001b[0;32m<ipython-input-37-d2b1c9c6203f>\u001b[0m in \u001b[0;36m<module>\u001b[0;34m()\u001b[0m\n\u001b[0;32m----> 1\u001b[0;31m \u001b[0mplt\u001b[0m\u001b[0;34m.\u001b[0m\u001b[0mplot\u001b[0m\u001b[0;34m(\u001b[0m\u001b[0mbutter_bandpass_filter\u001b[0m\u001b[0;34m(\u001b[0m\u001b[0mlist\u001b[0m\u001b[0;34m[\u001b[0m\u001b[0;36m2\u001b[0m\u001b[0;34m]\u001b[0m\u001b[0;34m[\u001b[0m\u001b[0;36m1\u001b[0m\u001b[0;34m]\u001b[0m\u001b[0;34m,\u001b[0m\u001b[0;36m50\u001b[0m\u001b[0;34m,\u001b[0m\u001b[0;36m800\u001b[0m\u001b[0;34m,\u001b[0m\u001b[0;36m4000\u001b[0m\u001b[0;34m)\u001b[0m\u001b[0;34m)\u001b[0m\u001b[0;34m\u001b[0m\u001b[0;34m\u001b[0m\u001b[0m\n\u001b[0m",
            "\u001b[0;31mTypeError\u001b[0m: 'type' object is not subscriptable"
          ]
        }
      ]
    },
    {
      "cell_type": "code",
      "metadata": {
        "id": "8ItFKxqrC0Yi",
        "colab_type": "code",
        "colab": {},
        "outputId": "b4685383-a819-4eb6-e585-b19432839f9a"
      },
      "source": [
        "plt.plot(list[2][1])"
      ],
      "execution_count": 0,
      "outputs": [
        {
          "output_type": "execute_result",
          "data": {
            "text/plain": [
              "[<matplotlib.lines.Line2D at 0x1c1cf4fc50>]"
            ]
          },
          "metadata": {
            "tags": []
          },
          "execution_count": 110
        },
        {
          "output_type": "display_data",
          "data": {
            "image/png": "[encoded data removed]",
            "text/plain": [
              "<Figure size 432x288 with 1 Axes>"
            ]
          },
          "metadata": {
            "tags": [],
            "needs_background": "light"
          }
        }
      ]
    }
  ]
}