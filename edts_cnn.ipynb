{
  "nbformat": 4,
  "nbformat_minor": 0,
  "metadata": {
    "kernelspec": {
      "name": "python3",
      "display_name": "Python 3"
    },
    "language_info": {
      "codemirror_mode": {
        "name": "ipython",
        "version": 3
      },
      "file_extension": ".py",
      "mimetype": "text/x-python",
      "name": "python",
      "nbconvert_exporter": "python",
      "pygments_lexer": "ipython3",
      "version": "3.7.5"
    },
    "colab": {
      "name": "edts_cnn.ipynb",
      "provenance": [],
      "collapsed_sections": [],
      "include_colab_link": true
    },
    "accelerator": "GPU"
  },
  "cells": [
    {
      "cell_type": "markdown",
      "metadata": {
        "id": "view-in-github",
        "colab_type": "text"
      },
      "source": [
        "<a href=\"https://colab.research.google.com/github/lulmer/heartbeat_classifier/blob/master/edts_cnn.ipynb\" target=\"_parent\"><img src=\"https://colab.research.google.com/assets/colab-badge.svg\" alt=\"Open In Colab\"/></a>"
      ]
    },
    {
      "cell_type": "code",
      "metadata": {
        "id": "-O7wI5a06nzy",
        "colab_type": "code",
        "outputId": "189d20f6-cb52-4547-d9a9-6efc3d0b6735",
        "colab": {
          "base_uri": "https://localhost:8080/",
          "height": 127
        }
      },
      "source": [
        "# Montage du disque Google Drive sur le point /content/drive\n",
        "from google.colab import drive\n",
        "drive.mount(\"/content/drive\")"
      ],
      "execution_count": 0,
      "outputs": [
        {
          "output_type": "stream",
          "text": [
            "Go to this URL in a browser: https://accounts.google.com/o/oauth2/auth?client_id=947318989803-6bn6qk8qdgf4n4g3pfee6491hc0brc4i.apps.googleusercontent.com&redirect_uri=urn%3aietf%3awg%3aoauth%3a2.0%3aoob&response_type=code&scope=email%20https%3a%2f%2fwww.googleapis.com%2fauth%2fdocs.test%20https%3a%2f%2fwww.googleapis.com%2fauth%2fdrive%20https%3a%2f%2fwww.googleapis.com%2fauth%2fdrive.photos.readonly%20https%3a%2f%2fwww.googleapis.com%2fauth%2fpeopleapi.readonly\n",
            "\n",
            "Enter your authorization code:\n",
            "··········\n",
            "Mounted at /content/drive\n"
          ],
          "name": "stdout"
        }
      ]
    },
    {
      "cell_type": "code",
      "metadata": {
        "id": "hzBEc6nz7ArN",
        "colab_type": "code",
        "colab": {}
      },
      "source": [
        "# Chemin d'accès au dataset\n",
        "path = \"drive/My Drive/INSA/ASI 5/EDTS/\""
      ],
      "execution_count": 0,
      "outputs": []
    },
    {
      "cell_type": "code",
      "metadata": {
        "id": "uQBfDLc96lod",
        "colab_type": "code",
        "colab": {}
      },
      "source": [
        "# Imports des utilitaires\n",
        "import scipy.io.wavfile\n",
        "import scipy.signal\n",
        "import matplotlib.pyplot as plt\n",
        "from pathlib import Path\n",
        "import numpy as np\n",
        "from sklearn.model_selection import train_test_split\n",
        "from sklearn.model_selection import StratifiedKFold\n",
        "import librosa\n",
        "import librosa.display\n",
        "from tqdm._tqdm_notebook import tqdm"
      ],
      "execution_count": 0,
      "outputs": []
    },
    {
      "cell_type": "code",
      "metadata": {
        "id": "kNALn7ZS6loh",
        "colab_type": "code",
        "colab": {}
      },
      "source": [
        "files = list(Path(path + \"dataset\").rglob(\"Btraining_*/*.wav\")) # Liste contenant le chemin d'accès aux fichiers du dataset"
      ],
      "execution_count": 0,
      "outputs": []
    },
    {
      "cell_type": "code",
      "metadata": {
        "id": "mKD1KU4g6lo1",
        "colab_type": "code",
        "colab": {}
      },
      "source": [
        "# Fonction retournant le label d'un fichier\n",
        "def labelling(cats, file):\n",
        "    for i, cat in enumerate(cats):\n",
        "        if cat in file.parts[6]:\n",
        "            return i"
      ],
      "execution_count": 0,
      "outputs": []
    },
    {
      "cell_type": "code",
      "metadata": {
        "id": "F1Xmuf7Z6lou",
        "colab_type": "code",
        "colab": {}
      },
      "source": [
        "cats = np.unique([file.parts[6] for file in files]) # Noms des différentes classes"
      ],
      "execution_count": 0,
      "outputs": []
    },
    {
      "cell_type": "code",
      "metadata": {
        "id": "_CN_FnOTcRFv",
        "colab_type": "code",
        "colab": {}
      },
      "source": [
        "cats_files = [labelling(cats, file) for file in files] # Liste contenant tous les labels des fichiers du dataset"
      ],
      "execution_count": 0,
      "outputs": []
    },
    {
      "cell_type": "code",
      "metadata": {
        "id": "P7q9agmM6lol",
        "colab_type": "code",
        "colab": {}
      },
      "source": [
        "# Séparation en jeux d'apprentissage, validation et test\n",
        "# Utilisation de stratify = mêmes proportions de classes dans chacun des jeux créés\n",
        "idx_train, idx_val = train_test_split(range(len(files)), test_size=0.3, stratify=cats_files)\n",
        "idx_train, idx_test = train_test_split(idx_train, test_size=33, stratify=np.array(cats_files)[idx_train])"
      ],
      "execution_count": 0,
      "outputs": []
    },
    {
      "cell_type": "code",
      "metadata": {
        "id": "1ALZS_HGc8Eg",
        "colab_type": "code",
        "colab": {}
      },
      "source": [
        "# Récupération des chemins vers les fichiers suivant la répartition en jeux d'apprentissage, validation et test\n",
        "files_train = np.array(files)[idx_train]\n",
        "files_val = np.array(files)[idx_val]\n",
        "files_test = np.array(files)[idx_test]"
      ],
      "execution_count": 0,
      "outputs": []
    },
    {
      "cell_type": "code",
      "metadata": {
        "id": "CFNyyNs938ce",
        "colab_type": "code",
        "colab": {}
      },
      "source": [
        "# Récupération des labels des jeux d'apprentissage, validation et test\n",
        "y_train = np.array(cats_files)[idx_train]\n",
        "y_val = np.array(cats_files)[idx_val]\n",
        "y_test = np.array(cats_files)[idx_test]"
      ],
      "execution_count": 0,
      "outputs": []
    },
    {
      "cell_type": "code",
      "metadata": {
        "id": "Gj_uxEEp6lpJ",
        "colab_type": "code",
        "outputId": "4a53baac-ef38-4c7c-cdab-dd2417a236e1",
        "colab": {
          "base_uri": "https://localhost:8080/",
          "height": 64
        }
      },
      "source": [
        "# Imports des modules de Deep Learning\n",
        "from tensorflow.keras.layers import InputLayer, Dense, Dropout, Softmax, Conv2D, MaxPool2D, Flatten \n",
        "from tensorflow.keras.models import Sequential\n",
        "from tensorflow.keras.utils import to_categorical\n",
        "from tensorflow.keras.optimizers import Adam\n",
        "from tensorflow.keras.callbacks import ModelCheckpoint, History, EarlyStopping"
      ],
      "execution_count": 0,
      "outputs": [
        {
          "output_type": "display_data",
          "data": {
            "text/html": [
              "<p style=\"color: red;\">\n",
              "The default version of TensorFlow in Colab will soon switch to TensorFlow 2.x.<br>\n",
              "We recommend you <a href=\"https://www.tensorflow.org/guide/migrate\" target=\"_blank\">upgrade</a> now \n",
              "or ensure your notebook will continue to use TensorFlow 1.x via the <code>%tensorflow_version 1.x</code> magic:\n",
              "<a href=\"https://colab.research.google.com/notebooks/tensorflow_version.ipynb\" target=\"_blank\">more info</a>.</p>\n"
            ],
            "text/plain": [
              "<IPython.core.display.HTML object>"
            ]
          },
          "metadata": {
            "tags": []
          }
        }
      ]
    },
    {
      "cell_type": "code",
      "metadata": {
        "id": "n452TQCyZ86i",
        "colab_type": "code",
        "colab": {}
      },
      "source": [
        "# Fonction convertissant une liste de fichiers en liste de spectrogrammes de Mel\n",
        "def to_image(files):\n",
        "  x = np.empty((len(files), 128, 98)) # Initialisation de la matrice\n",
        "  for i, file in enumerate(tqdm(files)): # Pour chaque fichier de la liste (tqdm => affichage d'une barre de progression)\n",
        "    y, sr = librosa.load(file) # Ouverture du fichier, y = signal, sr = fréquence d'échantillonnage\n",
        "    # Pour que les spectrogrammes fassent tous la même taille, on fixe la longueur des signaux\n",
        "    if len(y) > 50000: # Si le signal est plus grand que 50000 valeurs\n",
        "      y = y[:50000] # On ne prend que les 50000 premières\n",
        "    elif len(y) < 50000: # Sinon\n",
        "      n_repet = int(np.ceil(50000/len(y))) # On calcule le nombre de répétitions du signal nécessaires\n",
        "      y = np.tile(y, n_repet)[:50000] # On répète le signal suivant ce nombre, et on en garde les 50000 premières valeurs\n",
        "    S = librosa.feature.melspectrogram(y, sr=sr, n_fft=2048, hop_length=512) # Calcul du spectrogramme de Mel (taille de fenêtre FFT = 2048, temps entre 2 frames = 512)(cf. papiers)\n",
        "    S_DB = librosa.power_to_db(S, ref=np.max) # Conversion en décibels\n",
        "    ss = (S_DB - np.min(S_DB))/(np.max(S_DB)-np.min(S_DB)) # Normalisation min-max du spectrogramme => valeurs dans [0..1]\n",
        "    x[i,:,:] = ss # On ajoute le spectrogramme à la matrice\n",
        "  return x"
      ],
      "execution_count": 0,
      "outputs": []
    },
    {
      "cell_type": "code",
      "metadata": {
        "id": "41HOvbGjbHKC",
        "colab_type": "code",
        "outputId": "3d3ce351-8467-471d-ccd6-fb4ed116225f",
        "colab": {
          "base_uri": "https://localhost:8080/",
          "height": 71
        }
      },
      "source": [
        "# Création des matrices d'apprentissage, validation et test\n",
        "x_train = to_image(files_train)\n",
        "x_val = to_image(files_val)\n",
        "x_test = to_image(files_test)"
      ],
      "execution_count": 0,
      "outputs": [
        {
          "output_type": "stream",
          "text": [
            "100%|██████████| 289/289 [02:53<00:00,  1.62it/s]\n",
            "100%|██████████| 139/139 [01:23<00:00,  1.63it/s]\n",
            "100%|██████████| 33/33 [00:20<00:00,  1.35it/s]\n"
          ],
          "name": "stderr"
        }
      ]
    },
    {
      "cell_type": "code",
      "metadata": {
        "id": "u7JMSG-sgk5t",
        "colab_type": "code",
        "colab": {}
      },
      "source": [
        "# CNN attendent une entrée de taille (TAILLE_BATCH, HAUTEUR, LARGEUR, CANAUX) => on ajoute une dimension de 1 pour nos canaux\n",
        "x_train = np.expand_dims(x_train, 3)\n",
        "x_val = np.expand_dims(x_val, 3)\n",
        "x_test = np.expand_dims(x_test, 3)"
      ],
      "execution_count": 0,
      "outputs": []
    },
    {
      "cell_type": "code",
      "metadata": {
        "id": "vsbKTIeJstSm",
        "colab_type": "code",
        "colab": {}
      },
      "source": [
        "# Modèle de CNN\n",
        "cnn = Sequential()\n",
        "cnn.add(InputLayer(input_shape=(128, 98, 1)))\n",
        "cnn.add(Conv2D(32, 3))\n",
        "cnn.add(MaxPool2D(2))\n",
        "cnn.add(Conv2D(64, 3))\n",
        "cnn.add(MaxPool2D(2))\n",
        "cnn.add(Conv2D(128, 3))\n",
        "cnn.add(MaxPool2D(2))\n",
        "cnn.add(Conv2D(256, 3))\n",
        "cnn.add(MaxPool2D(2))\n",
        "cnn.add(Flatten())\n",
        "cnn.add(Dense(3))\n",
        "cnn.add(Softmax())"
      ],
      "execution_count": 0,
      "outputs": []
    },
    {
      "cell_type": "code",
      "metadata": {
        "id": "ath0uw2Usgnx",
        "colab_type": "code",
        "outputId": "33d8d31c-f44e-4ab7-f1eb-8364c4ba84f7",
        "colab": {
          "base_uri": "https://localhost:8080/",
          "height": 557
        }
      },
      "source": [
        "# Affichage des couches, tailles et paramètres du modèle\n",
        "cnn.summary()"
      ],
      "execution_count": 0,
      "outputs": [
        {
          "output_type": "stream",
          "text": [
            "Model: \"sequential_88\"\n",
            "_________________________________________________________________\n",
            "Layer (type)                 Output Shape              Param #   \n",
            "=================================================================\n",
            "conv2d_309 (Conv2D)          (None, 126, 96, 32)       320       \n",
            "_________________________________________________________________\n",
            "max_pooling2d_308 (MaxPoolin (None, 63, 48, 32)        0         \n",
            "_________________________________________________________________\n",
            "conv2d_310 (Conv2D)          (None, 61, 46, 64)        18496     \n",
            "_________________________________________________________________\n",
            "max_pooling2d_309 (MaxPoolin (None, 30, 23, 64)        0         \n",
            "_________________________________________________________________\n",
            "conv2d_311 (Conv2D)          (None, 28, 21, 128)       73856     \n",
            "_________________________________________________________________\n",
            "max_pooling2d_310 (MaxPoolin (None, 14, 10, 128)       0         \n",
            "_________________________________________________________________\n",
            "conv2d_312 (Conv2D)          (None, 12, 8, 256)        295168    \n",
            "_________________________________________________________________\n",
            "max_pooling2d_311 (MaxPoolin (None, 6, 4, 256)         0         \n",
            "_________________________________________________________________\n",
            "flatten_87 (Flatten)         (None, 6144)              0         \n",
            "_________________________________________________________________\n",
            "dense_87 (Dense)             (None, 3)                 18435     \n",
            "_________________________________________________________________\n",
            "softmax_87 (Softmax)         (None, 3)                 0         \n",
            "=================================================================\n",
            "Total params: 406,275\n",
            "Trainable params: 406,275\n",
            "Non-trainable params: 0\n",
            "_________________________________________________________________\n"
          ],
          "name": "stdout"
        }
      ]
    },
    {
      "cell_type": "code",
      "metadata": {
        "id": "LEJEQG4M6lpU",
        "colab_type": "code",
        "colab": {}
      },
      "source": [
        "# Utilisation de l'optimiseur Adam, car propose un taux d'apprentissage adaptatif\n",
        "opti = Adam(lr=0.01)"
      ],
      "execution_count": 0,
      "outputs": []
    },
    {
      "cell_type": "code",
      "metadata": {
        "id": "xd9LtbnX6lpY",
        "colab_type": "code",
        "colab": {}
      },
      "source": [
        "# Compilation du graphe du modèle\n",
        "# Classification => Crossentropy\n",
        "# On cherche à maximiser la précision du modèle, en minimisant son entropie croisée\n",
        "cnn.compile(loss=\"categorical_crossentropy\", metrics=[\"acc\"], optimizer=opti)"
      ],
      "execution_count": 0,
      "outputs": []
    },
    {
      "cell_type": "code",
      "metadata": {
        "id": "MAernj9mIlrN",
        "colab_type": "code",
        "colab": {}
      },
      "source": [
        "# Callbacks Keras\n",
        "# Sauvegarde les poids du modèle à l'epoch où la précision est maximal\n",
        "chkpt_acc = ModelCheckpoint(filepath=path+\"best_acc.hdf5\", monitor=\"val_acc\", save_best_only=True, mode=\"max\", verbose=1)\n",
        "# Sauvegarde les poids du modèle à l'epoch où la fonction de coût est minimale\n",
        "chkpt_loss = ModelCheckpoint(filepath=path+\"best_loss.hdf5\", monitor=\"val_loss\", save_best_only=True, mode=\"min\", verbose=1)"
      ],
      "execution_count": 0,
      "outputs": []
    },
    {
      "cell_type": "code",
      "metadata": {
        "id": "qlOx9EZ56lpb",
        "colab_type": "code",
        "outputId": "aaeb0d8d-d68c-46a1-d5c1-4a5dd7d486cf",
        "colab": {
          "base_uri": "https://localhost:8080/",
          "height": 1000
        }
      },
      "source": [
        "# Apprentissage\n",
        "# Hyperparamètres choisis suite à plusieurs essais\n",
        "history = cnn.fit(x=x_train, y=to_categorical(y_train), epochs=40, batch_size=17, validation_data=(x_val, to_categorical(y_val)), callbacks=[chkpt_acc, chkpt_loss])"
      ],
      "execution_count": 0,
      "outputs": [
        {
          "output_type": "stream",
          "text": [
            "Train on 289 samples, validate on 139 samples\n",
            "Epoch 1/40\n",
            "288/289 [============================>.] - ETA: 0s - loss: 180.0770 - acc: 0.4757\n",
            "Epoch 00001: val_acc improved from -inf to 0.69065, saving model to drive/My Drive/INSA/ASI 5/EDTS/best_acc.hdf5\n",
            "\n",
            "Epoch 00001: val_loss improved from inf to 61.20735, saving model to drive/My Drive/INSA/ASI 5/EDTS/best_loss.hdf5\n",
            "289/289 [==============================] - 28s 98ms/sample - loss: 179.4727 - acc: 0.4740 - val_loss: 61.2073 - val_acc: 0.6906\n",
            "Epoch 2/40\n",
            "252/289 [=========================>....] - ETA: 0s - loss: 74.2897 - acc: 0.5000\n",
            "Epoch 00002: val_acc did not improve from 0.69065\n",
            "\n",
            "Epoch 00002: val_loss improved from 61.20735 to 15.82359, saving model to drive/My Drive/INSA/ASI 5/EDTS/best_loss.hdf5\n",
            "289/289 [==============================] - 1s 2ms/sample - loss: 66.1196 - acc: 0.5121 - val_loss: 15.8236 - val_acc: 0.6906\n",
            "Epoch 3/40\n",
            "240/289 [=======================>......] - ETA: 0s - loss: 22.7012 - acc: 0.5500\n",
            "Epoch 00003: val_acc did not improve from 0.69065\n",
            "\n",
            "Epoch 00003: val_loss improved from 15.82359 to 11.50334, saving model to drive/My Drive/INSA/ASI 5/EDTS/best_loss.hdf5\n",
            "289/289 [==============================] - 1s 2ms/sample - loss: 21.0552 - acc: 0.5363 - val_loss: 11.5033 - val_acc: 0.1007\n",
            "Epoch 4/40\n",
            "252/289 [=========================>....] - ETA: 0s - loss: 4.9087 - acc: 0.5873\n",
            "Epoch 00004: val_acc did not improve from 0.69065\n",
            "\n",
            "Epoch 00004: val_loss improved from 11.50334 to 1.05548, saving model to drive/My Drive/INSA/ASI 5/EDTS/best_loss.hdf5\n",
            "289/289 [==============================] - 0s 2ms/sample - loss: 4.4599 - acc: 0.5952 - val_loss: 1.0555 - val_acc: 0.4029\n",
            "Epoch 5/40\n",
            "252/289 [=========================>....] - ETA: 0s - loss: 0.9224 - acc: 0.6667\n",
            "Epoch 00005: val_acc did not improve from 0.69065\n",
            "\n",
            "Epoch 00005: val_loss improved from 1.05548 to 0.86435, saving model to drive/My Drive/INSA/ASI 5/EDTS/best_loss.hdf5\n",
            "289/289 [==============================] - 0s 2ms/sample - loss: 0.9072 - acc: 0.6644 - val_loss: 0.8644 - val_acc: 0.6906\n",
            "Epoch 6/40\n",
            "252/289 [=========================>....] - ETA: 0s - loss: 0.8603 - acc: 0.7103\n",
            "Epoch 00006: val_acc improved from 0.69065 to 0.72662, saving model to drive/My Drive/INSA/ASI 5/EDTS/best_acc.hdf5\n",
            "\n",
            "Epoch 00006: val_loss improved from 0.86435 to 0.82177, saving model to drive/My Drive/INSA/ASI 5/EDTS/best_loss.hdf5\n",
            "289/289 [==============================] - 1s 2ms/sample - loss: 0.8573 - acc: 0.6990 - val_loss: 0.8218 - val_acc: 0.7266\n",
            "Epoch 7/40\n",
            "240/289 [=======================>......] - ETA: 0s - loss: 0.8598 - acc: 0.6667\n",
            "Epoch 00007: val_acc did not improve from 0.72662\n",
            "\n",
            "Epoch 00007: val_loss improved from 0.82177 to 0.75486, saving model to drive/My Drive/INSA/ASI 5/EDTS/best_loss.hdf5\n",
            "289/289 [==============================] - 0s 2ms/sample - loss: 0.8482 - acc: 0.6678 - val_loss: 0.7549 - val_acc: 0.6906\n",
            "Epoch 8/40\n",
            "252/289 [=========================>....] - ETA: 0s - loss: 0.8091 - acc: 0.6944\n",
            "Epoch 00008: val_acc did not improve from 0.72662\n",
            "\n",
            "Epoch 00008: val_loss did not improve from 0.75486\n",
            "289/289 [==============================] - 0s 1ms/sample - loss: 0.7905 - acc: 0.7128 - val_loss: 0.7625 - val_acc: 0.6978\n",
            "Epoch 9/40\n",
            "240/289 [=======================>......] - ETA: 0s - loss: 0.8039 - acc: 0.6875\n",
            "Epoch 00009: val_acc did not improve from 0.72662\n",
            "\n",
            "Epoch 00009: val_loss did not improve from 0.75486\n",
            "289/289 [==============================] - 0s 1ms/sample - loss: 0.7951 - acc: 0.6955 - val_loss: 0.8206 - val_acc: 0.6906\n",
            "Epoch 10/40\n",
            "252/289 [=========================>....] - ETA: 0s - loss: 0.7882 - acc: 0.6905\n",
            "Epoch 00010: val_acc did not improve from 0.72662\n",
            "\n",
            "Epoch 00010: val_loss improved from 0.75486 to 0.72921, saving model to drive/My Drive/INSA/ASI 5/EDTS/best_loss.hdf5\n",
            "289/289 [==============================] - 0s 2ms/sample - loss: 0.7765 - acc: 0.7024 - val_loss: 0.7292 - val_acc: 0.7050\n",
            "Epoch 11/40\n",
            "252/289 [=========================>....] - ETA: 0s - loss: 0.7654 - acc: 0.7222\n",
            "Epoch 00011: val_acc improved from 0.72662 to 0.74101, saving model to drive/My Drive/INSA/ASI 5/EDTS/best_acc.hdf5\n",
            "\n",
            "Epoch 00011: val_loss improved from 0.72921 to 0.72328, saving model to drive/My Drive/INSA/ASI 5/EDTS/best_loss.hdf5\n",
            "289/289 [==============================] - 1s 2ms/sample - loss: 0.7705 - acc: 0.7163 - val_loss: 0.7233 - val_acc: 0.7410\n",
            "Epoch 12/40\n",
            "252/289 [=========================>....] - ETA: 0s - loss: 0.7082 - acc: 0.7460\n",
            "Epoch 00012: val_acc improved from 0.74101 to 0.74820, saving model to drive/My Drive/INSA/ASI 5/EDTS/best_acc.hdf5\n",
            "\n",
            "Epoch 00012: val_loss did not improve from 0.72328\n",
            "289/289 [==============================] - 0s 2ms/sample - loss: 0.7356 - acc: 0.7301 - val_loss: 0.7625 - val_acc: 0.7482\n",
            "Epoch 13/40\n",
            "240/289 [=======================>......] - ETA: 0s - loss: 0.7536 - acc: 0.7250\n",
            "Epoch 00013: val_acc did not improve from 0.74820\n",
            "\n",
            "Epoch 00013: val_loss did not improve from 0.72328\n",
            "289/289 [==============================] - 0s 1ms/sample - loss: 0.7663 - acc: 0.7128 - val_loss: 0.7295 - val_acc: 0.7338\n",
            "Epoch 14/40\n",
            "252/289 [=========================>....] - ETA: 0s - loss: 0.7091 - acc: 0.7302\n",
            "Epoch 00014: val_acc did not improve from 0.74820\n",
            "\n",
            "Epoch 00014: val_loss improved from 0.72328 to 0.69786, saving model to drive/My Drive/INSA/ASI 5/EDTS/best_loss.hdf5\n",
            "289/289 [==============================] - 0s 2ms/sample - loss: 0.7326 - acc: 0.7266 - val_loss: 0.6979 - val_acc: 0.7482\n",
            "Epoch 15/40\n",
            "240/289 [=======================>......] - ETA: 0s - loss: 0.7021 - acc: 0.7292\n",
            "Epoch 00015: val_acc did not improve from 0.74820\n",
            "\n",
            "Epoch 00015: val_loss did not improve from 0.69786\n",
            "289/289 [==============================] - 0s 1ms/sample - loss: 0.7098 - acc: 0.7266 - val_loss: 0.7108 - val_acc: 0.7122\n",
            "Epoch 16/40\n",
            "252/289 [=========================>....] - ETA: 0s - loss: 0.6928 - acc: 0.7500\n",
            "Epoch 00016: val_acc improved from 0.74820 to 0.75540, saving model to drive/My Drive/INSA/ASI 5/EDTS/best_acc.hdf5\n",
            "\n",
            "Epoch 00016: val_loss improved from 0.69786 to 0.67797, saving model to drive/My Drive/INSA/ASI 5/EDTS/best_loss.hdf5\n",
            "289/289 [==============================] - 1s 2ms/sample - loss: 0.6917 - acc: 0.7509 - val_loss: 0.6780 - val_acc: 0.7554\n",
            "Epoch 17/40\n",
            "252/289 [=========================>....] - ETA: 0s - loss: 0.6562 - acc: 0.7579\n",
            "Epoch 00017: val_acc did not improve from 0.75540\n",
            "\n",
            "Epoch 00017: val_loss did not improve from 0.67797\n",
            "289/289 [==============================] - 0s 1ms/sample - loss: 0.6731 - acc: 0.7405 - val_loss: 0.8115 - val_acc: 0.6547\n",
            "Epoch 18/40\n",
            "252/289 [=========================>....] - ETA: 0s - loss: 0.7756 - acc: 0.6667\n",
            "Epoch 00018: val_acc did not improve from 0.75540\n",
            "\n",
            "Epoch 00018: val_loss did not improve from 0.67797\n",
            "289/289 [==============================] - 0s 1ms/sample - loss: 0.7662 - acc: 0.6747 - val_loss: 0.7227 - val_acc: 0.7266\n",
            "Epoch 19/40\n",
            "252/289 [=========================>....] - ETA: 0s - loss: 0.8079 - acc: 0.7103\n",
            "Epoch 00019: val_acc did not improve from 0.75540\n",
            "\n",
            "Epoch 00019: val_loss did not improve from 0.67797\n",
            "289/289 [==============================] - 0s 1ms/sample - loss: 0.8094 - acc: 0.6920 - val_loss: 0.7791 - val_acc: 0.6763\n",
            "Epoch 20/40\n",
            "252/289 [=========================>....] - ETA: 0s - loss: 0.7212 - acc: 0.7262\n",
            "Epoch 00020: val_acc did not improve from 0.75540\n",
            "\n",
            "Epoch 00020: val_loss did not improve from 0.67797\n",
            "289/289 [==============================] - 0s 1ms/sample - loss: 0.7135 - acc: 0.7301 - val_loss: 0.6838 - val_acc: 0.7482\n",
            "Epoch 21/40\n",
            "240/289 [=======================>......] - ETA: 0s - loss: 0.6732 - acc: 0.7625\n",
            "Epoch 00021: val_acc did not improve from 0.75540\n",
            "\n",
            "Epoch 00021: val_loss did not improve from 0.67797\n",
            "289/289 [==============================] - 0s 1ms/sample - loss: 0.6541 - acc: 0.7751 - val_loss: 0.6981 - val_acc: 0.7482\n",
            "Epoch 22/40\n",
            "252/289 [=========================>....] - ETA: 0s - loss: 0.6337 - acc: 0.7778\n",
            "Epoch 00022: val_acc did not improve from 0.75540\n",
            "\n",
            "Epoch 00022: val_loss did not improve from 0.67797\n",
            "289/289 [==============================] - 0s 1ms/sample - loss: 0.6477 - acc: 0.7647 - val_loss: 0.8733 - val_acc: 0.6619\n",
            "Epoch 23/40\n",
            "252/289 [=========================>....] - ETA: 0s - loss: 0.7602 - acc: 0.7262\n",
            "Epoch 00023: val_acc did not improve from 0.75540\n",
            "\n",
            "Epoch 00023: val_loss improved from 0.67797 to 0.67162, saving model to drive/My Drive/INSA/ASI 5/EDTS/best_loss.hdf5\n",
            "289/289 [==============================] - 0s 2ms/sample - loss: 0.7438 - acc: 0.7370 - val_loss: 0.6716 - val_acc: 0.7554\n",
            "Epoch 24/40\n",
            "252/289 [=========================>....] - ETA: 0s - loss: 0.6298 - acc: 0.7500\n",
            "Epoch 00024: val_acc did not improve from 0.75540\n",
            "\n",
            "Epoch 00024: val_loss did not improve from 0.67162\n",
            "289/289 [==============================] - 0s 1ms/sample - loss: 0.6485 - acc: 0.7474 - val_loss: 0.8040 - val_acc: 0.6475\n",
            "Epoch 25/40\n",
            "252/289 [=========================>....] - ETA: 0s - loss: 0.6969 - acc: 0.7103\n",
            "Epoch 00025: val_acc did not improve from 0.75540\n",
            "\n",
            "Epoch 00025: val_loss did not improve from 0.67162\n",
            "289/289 [==============================] - 0s 1ms/sample - loss: 0.6562 - acc: 0.7370 - val_loss: 0.8487 - val_acc: 0.7554\n",
            "Epoch 26/40\n",
            "240/289 [=======================>......] - ETA: 0s - loss: 0.6549 - acc: 0.7583\n",
            "Epoch 00026: val_acc did not improve from 0.75540\n",
            "\n",
            "Epoch 00026: val_loss did not improve from 0.67162\n",
            "289/289 [==============================] - 0s 1ms/sample - loss: 0.6262 - acc: 0.7751 - val_loss: 0.6841 - val_acc: 0.7482\n",
            "Epoch 27/40\n",
            "252/289 [=========================>....] - ETA: 0s - loss: 0.6238 - acc: 0.7540\n",
            "Epoch 00027: val_acc improved from 0.75540 to 0.76978, saving model to drive/My Drive/INSA/ASI 5/EDTS/best_acc.hdf5\n",
            "\n",
            "Epoch 00027: val_loss improved from 0.67162 to 0.64615, saving model to drive/My Drive/INSA/ASI 5/EDTS/best_loss.hdf5\n",
            "289/289 [==============================] - 1s 2ms/sample - loss: 0.6120 - acc: 0.7578 - val_loss: 0.6461 - val_acc: 0.7698\n",
            "Epoch 28/40\n",
            "252/289 [=========================>....] - ETA: 0s - loss: 0.6271 - acc: 0.7540\n",
            "Epoch 00028: val_acc did not improve from 0.76978\n",
            "\n",
            "Epoch 00028: val_loss did not improve from 0.64615\n",
            "289/289 [==============================] - 0s 1ms/sample - loss: 0.6307 - acc: 0.7509 - val_loss: 0.7402 - val_acc: 0.7482\n",
            "Epoch 29/40\n",
            "252/289 [=========================>....] - ETA: 0s - loss: 0.5914 - acc: 0.7659\n",
            "Epoch 00029: val_acc did not improve from 0.76978\n",
            "\n",
            "Epoch 00029: val_loss improved from 0.64615 to 0.63312, saving model to drive/My Drive/INSA/ASI 5/EDTS/best_loss.hdf5\n",
            "289/289 [==============================] - 0s 2ms/sample - loss: 0.5833 - acc: 0.7716 - val_loss: 0.6331 - val_acc: 0.7626\n",
            "Epoch 30/40\n",
            "252/289 [=========================>....] - ETA: 0s - loss: 0.5584 - acc: 0.7937\n",
            "Epoch 00030: val_acc did not improve from 0.76978\n",
            "\n",
            "Epoch 00030: val_loss improved from 0.63312 to 0.62423, saving model to drive/My Drive/INSA/ASI 5/EDTS/best_loss.hdf5\n",
            "289/289 [==============================] - 0s 2ms/sample - loss: 0.5676 - acc: 0.7889 - val_loss: 0.6242 - val_acc: 0.7554\n",
            "Epoch 31/40\n",
            "240/289 [=======================>......] - ETA: 0s - loss: 0.5533 - acc: 0.7708\n",
            "Epoch 00031: val_acc improved from 0.76978 to 0.79856, saving model to drive/My Drive/INSA/ASI 5/EDTS/best_acc.hdf5\n",
            "\n",
            "Epoch 00031: val_loss did not improve from 0.62423\n",
            "289/289 [==============================] - 1s 2ms/sample - loss: 0.5388 - acc: 0.7820 - val_loss: 0.6284 - val_acc: 0.7986\n",
            "Epoch 32/40\n",
            "252/289 [=========================>....] - ETA: 0s - loss: 0.4674 - acc: 0.8135\n",
            "Epoch 00032: val_acc improved from 0.79856 to 0.81295, saving model to drive/My Drive/INSA/ASI 5/EDTS/best_acc.hdf5\n",
            "\n",
            "Epoch 00032: val_loss improved from 0.62423 to 0.61787, saving model to drive/My Drive/INSA/ASI 5/EDTS/best_loss.hdf5\n",
            "289/289 [==============================] - 1s 2ms/sample - loss: 0.5062 - acc: 0.7924 - val_loss: 0.6179 - val_acc: 0.8129\n",
            "Epoch 33/40\n",
            "252/289 [=========================>....] - ETA: 0s - loss: 0.5143 - acc: 0.8135\n",
            "Epoch 00033: val_acc did not improve from 0.81295\n",
            "\n",
            "Epoch 00033: val_loss improved from 0.61787 to 0.60705, saving model to drive/My Drive/INSA/ASI 5/EDTS/best_loss.hdf5\n",
            "289/289 [==============================] - 0s 2ms/sample - loss: 0.5018 - acc: 0.8201 - val_loss: 0.6071 - val_acc: 0.7770\n",
            "Epoch 34/40\n",
            "252/289 [=========================>....] - ETA: 0s - loss: 0.4913 - acc: 0.8016\n",
            "Epoch 00034: val_acc did not improve from 0.81295\n",
            "\n",
            "Epoch 00034: val_loss did not improve from 0.60705\n",
            "289/289 [==============================] - 0s 1ms/sample - loss: 0.4801 - acc: 0.8097 - val_loss: 0.6176 - val_acc: 0.7770\n",
            "Epoch 35/40\n",
            "252/289 [=========================>....] - ETA: 0s - loss: 0.5116 - acc: 0.7857\n",
            "Epoch 00035: val_acc did not improve from 0.81295\n",
            "\n",
            "Epoch 00035: val_loss did not improve from 0.60705\n",
            "289/289 [==============================] - 0s 1ms/sample - loss: 0.4968 - acc: 0.7993 - val_loss: 0.6827 - val_acc: 0.7626\n",
            "Epoch 36/40\n",
            "252/289 [=========================>....] - ETA: 0s - loss: 0.4924 - acc: 0.8214\n",
            "Epoch 00036: val_acc did not improve from 0.81295\n",
            "\n",
            "Epoch 00036: val_loss did not improve from 0.60705\n",
            "289/289 [==============================] - 0s 1ms/sample - loss: 0.4952 - acc: 0.8131 - val_loss: 0.6389 - val_acc: 0.7698\n",
            "Epoch 37/40\n",
            "252/289 [=========================>....] - ETA: 0s - loss: 0.4688 - acc: 0.8135\n",
            "Epoch 00037: val_acc did not improve from 0.81295\n",
            "\n",
            "Epoch 00037: val_loss did not improve from 0.60705\n",
            "289/289 [==============================] - 0s 1ms/sample - loss: 0.4631 - acc: 0.8166 - val_loss: 0.6090 - val_acc: 0.7914\n",
            "Epoch 38/40\n",
            "252/289 [=========================>....] - ETA: 0s - loss: 0.4455 - acc: 0.8254\n",
            "Epoch 00038: val_acc did not improve from 0.81295\n",
            "\n",
            "Epoch 00038: val_loss did not improve from 0.60705\n",
            "289/289 [==============================] - 0s 1ms/sample - loss: 0.4602 - acc: 0.8201 - val_loss: 0.6210 - val_acc: 0.7626\n",
            "Epoch 39/40\n",
            "252/289 [=========================>....] - ETA: 0s - loss: 0.4538 - acc: 0.8294\n",
            "Epoch 00039: val_acc did not improve from 0.81295\n",
            "\n",
            "Epoch 00039: val_loss did not improve from 0.60705\n",
            "289/289 [==============================] - 0s 1ms/sample - loss: 0.4699 - acc: 0.8201 - val_loss: 0.8621 - val_acc: 0.5468\n",
            "Epoch 40/40\n",
            "240/289 [=======================>......] - ETA: 0s - loss: 0.9948 - acc: 0.6917\n",
            "Epoch 00040: val_acc did not improve from 0.81295\n",
            "\n",
            "Epoch 00040: val_loss did not improve from 0.60705\n",
            "289/289 [==============================] - 0s 1ms/sample - loss: 0.8906 - acc: 0.7266 - val_loss: 1.3676 - val_acc: 0.7554\n"
          ],
          "name": "stdout"
        }
      ]
    },
    {
      "cell_type": "code",
      "metadata": {
        "id": "uvVbRfa26lpf",
        "colab_type": "code",
        "outputId": "f9dc3a01-bc34-49c6-fbae-af287dae9767",
        "colab": {
          "base_uri": "https://localhost:8080/",
          "height": 563
        }
      },
      "source": [
        "# Affichage des courbes d'apprentissage\n",
        "plt.figure()\n",
        "plt.plot(history.history['acc'])\n",
        "plt.plot(history.history['val_acc'])\n",
        "plt.legend([\"Training\", \"Validation\"])\n",
        "plt.title(\"Accuracy\")\n",
        "plt.figure()\n",
        "plt.plot(np.log(history.history['loss']))\n",
        "plt.plot(np.log(history.history['val_loss']))\n",
        "plt.legend([\"Training\", \"Validation\"])\n",
        "plt.title(\"LogLoss\")"
      ],
      "execution_count": 0,
      "outputs": [
        {
          "output_type": "execute_result",
          "data": {
            "text/plain": [
              "Text(0.5, 1.0, 'LogLoss')"
            ]
          },
          "metadata": {
            "tags": []
          },
          "execution_count": 624
        },
        {
          "output_type": "display_data",
          "data": {
            "image/png": "[encoded data removed]",
            "text/plain": [
              "<Figure size 432x288 with 1 Axes>"
            ]
          },
          "metadata": {
            "tags": []
          }
        },
        {
          "output_type": "display_data",
          "data": {
            "image/png": "[encoded data removed]",
            "text/plain": [
              "<Figure size 432x288 with 1 Axes>"
            ]
          },
          "metadata": {
            "tags": []
          }
        }
      ]
    },
    {
      "cell_type": "code",
      "metadata": {
        "id": "14aIbSvnBZnP",
        "colab_type": "code",
        "colab": {}
      },
      "source": [
        "# Chargement du modèle de fonction de coût minime\n",
        "mdl = load_model(path + \"best_loss.hdf5\")"
      ],
      "execution_count": 0,
      "outputs": []
    },
    {
      "cell_type": "code",
      "metadata": {
        "id": "k3lOp4OIBjbw",
        "colab_type": "code",
        "outputId": "7ab21603-7191-4d0b-e37d-a3cbf28c09f1",
        "colab": {
          "base_uri": "https://localhost:8080/",
          "height": 53
        }
      },
      "source": [
        "# Calcul du score de précision de ce modèle sur le jeu de test\n",
        "mdl.evaluate(x_test, to_categorical(y_test))"
      ],
      "execution_count": 0,
      "outputs": [
        {
          "output_type": "stream",
          "text": [
            "33/33 [==============================] - 2s 62ms/sample - loss: 0.7193 - acc: 0.7879\n"
          ],
          "name": "stdout"
        },
        {
          "output_type": "execute_result",
          "data": {
            "text/plain": [
              "[0.7192944541121974, 0.7878788]"
            ]
          },
          "metadata": {
            "tags": []
          },
          "execution_count": 622
        }
      ]
    },
    {
      "cell_type": "markdown",
      "metadata": {
        "id": "moc6tlRTFWxG",
        "colab_type": "text"
      },
      "source": [
        "# KFold"
      ]
    },
    {
      "cell_type": "code",
      "metadata": {
        "colab_type": "code",
        "id": "H4A1AfRZBKBS",
        "colab": {}
      },
      "source": [
        "# StratifiedKFold => chaque sous ensemble possède la même répartition de classes que les autres => représentativité\n",
        "fold = StratifiedKFold(n_splits=5, shuffle=True)"
      ],
      "execution_count": 0,
      "outputs": []
    },
    {
      "cell_type": "code",
      "metadata": {
        "colab_type": "code",
        "outputId": "ed3ee68b-f12f-4ed6-ebd7-da3662ad424a",
        "id": "P8SwbYE_BJic",
        "colab": {
          "base_uri": "https://localhost:8080/",
          "height": 35
        }
      },
      "source": [
        "# Calcul des spectrogrammes de tous les fichiers du dataset\n",
        "cv_all = to_image(files)"
      ],
      "execution_count": 0,
      "outputs": [
        {
          "output_type": "stream",
          "text": [
            "100%|██████████| 461/461 [04:11<00:00,  1.71it/s]\n"
          ],
          "name": "stderr"
        }
      ]
    },
    {
      "cell_type": "code",
      "metadata": {
        "colab_type": "code",
        "id": "ljURAHw2BJC6",
        "colab": {}
      },
      "source": [
        "# Ajout d'une dimension pour les canaux\n",
        "cv_all = np.expand_dims(cv_all, 3)"
      ],
      "execution_count": 0,
      "outputs": []
    },
    {
      "cell_type": "code",
      "metadata": {
        "id": "x9XT0az76TYf",
        "colab_type": "code",
        "colab": {}
      },
      "source": [
        "# Modèle CNN\n",
        "def CNN():\n",
        "  cnn = Sequential()\n",
        "  cnn.add(InputLayer(input_shape=(128, 98, 1)))\n",
        "  cnn.add(Conv2D(32, 3))\n",
        "  cnn.add(MaxPool2D(2))\n",
        "  cnn.add(Conv2D(64, 3))\n",
        "  cnn.add(MaxPool2D(2))\n",
        "  cnn.add(Conv2D(128, 3))\n",
        "  cnn.add(MaxPool2D(2))\n",
        "  cnn.add(Conv2D(256, 3))\n",
        "  cnn.add(MaxPool2D(2))\n",
        "  cnn.add(Flatten())\n",
        "  cnn.add(Dense(3))\n",
        "  cnn.add(Softmax())\n",
        "  return cnn"
      ],
      "execution_count": 0,
      "outputs": []
    },
    {
      "cell_type": "code",
      "metadata": {
        "id": "Nce6D-29e1K3",
        "colab_type": "code",
        "colab": {}
      },
      "source": [
        "# Callback\n",
        "# Stoppe l'apprentissage quand la fonction de coût n'évolue plus au bout de \"patience\" epochs\n",
        "# À la fin de l'apprentissage, les poids de l'epoch de coût minimal sons restaurés\n",
        "# => Permet de ne pas avoir à sauvegarder le meilleur modèle\n",
        "es = EarlyStopping(monitor=\"val_loss\", patience=40, mode=\"min\", restore_best_weights=True)"
      ],
      "execution_count": 0,
      "outputs": []
    },
    {
      "cell_type": "code",
      "metadata": {
        "id": "cbWZBk2_5g1t",
        "colab_type": "code",
        "outputId": "408d14ae-841f-4d53-fc7e-c31e09b4d366",
        "colab": {
          "base_uri": "https://localhost:8080/",
          "height": 1000
        }
      },
      "source": [
        "# Boucle de cross-validation\n",
        "cv = [] # Liste contenant les scores de précision de chaque itération\n",
        "for cv_train_idx, cv_val_idx in fold.split(cv_all, cats_files): # Récupération des indices de jeux d'apprentissage, validation et test de l'itération en cours\n",
        "  x_cv_val = cv_all[cv_val_idx] # Jeu de validation\n",
        "  y_cv_val = np.array(cats_files)[cv_val_idx] # Labels de validation\n",
        "  cv_tt_idx, cv_tt_idx = train_test_split(cv_train_idx, test_size=0.2, stratify=np.array(cats_files)[cv_tt_idx]) # Indices des jeux d'apprentissage et test\n",
        "  cv_x_train, cv_x_test = cv_all[cv_tt_idx], cv_all[cv_tt_idx] # Jeux d'apprentissage et test\n",
        "  cv_y_train, cv_y_test = np.array(cats_files)[cv_tt_idx], np.array(cats_files)[cv_tt_idx] # Labels d'apprentissage et test\n",
        "  model = CNN() # Création d'un nouveau modèle\n",
        "  model.compile(loss=\"categorical_crossentropy\", metrics=[\"acc\"], optimizer=\"adam\") # Compilation\n",
        "  model.fit(x_train, to_categorical(y_train), epochs=40, batch_size=17, validation_data=(x_val, to_categorical(y_val)), callbacks=[es]) # Apprentissage\n",
        "  cv.append(model.evaluate(x_test, to_categorical(y_test))[1]) # On ajoute la précision de l'itération à la liste"
      ],
      "execution_count": 0,
      "outputs": [
        {
          "output_type": "stream",
          "text": [
            "Train on 294 samples, validate on 93 samples\n",
            "Epoch 1/40\n",
            "294/294 [==============================] - 9s 29ms/sample - loss: 0.9684 - acc: 0.6054 - val_loss: 0.9034 - val_acc: 0.6882\n",
            "Epoch 2/40\n",
            "294/294 [==============================] - 0s 1ms/sample - loss: 0.8354 - acc: 0.6769 - val_loss: 0.8506 - val_acc: 0.6882\n",
            "Epoch 3/40\n",
            "294/294 [==============================] - 0s 968us/sample - loss: 0.7993 - acc: 0.6939 - val_loss: 0.8662 - val_acc: 0.6882\n",
            "Epoch 4/40\n",
            "294/294 [==============================] - 0s 909us/sample - loss: 0.8158 - acc: 0.6939 - val_loss: 0.8961 - val_acc: 0.6882\n",
            "Epoch 5/40\n",
            "294/294 [==============================] - 0s 899us/sample - loss: 0.7876 - acc: 0.6939 - val_loss: 0.8003 - val_acc: 0.6882\n",
            "Epoch 6/40\n",
            "294/294 [==============================] - 0s 865us/sample - loss: 0.7449 - acc: 0.7245 - val_loss: 0.8639 - val_acc: 0.6882\n",
            "Epoch 7/40\n",
            "294/294 [==============================] - 0s 856us/sample - loss: 0.7928 - acc: 0.7007 - val_loss: 0.7787 - val_acc: 0.7204\n",
            "Epoch 8/40\n",
            "294/294 [==============================] - 0s 863us/sample - loss: 0.6868 - acc: 0.7415 - val_loss: 0.7417 - val_acc: 0.7742\n",
            "Epoch 9/40\n",
            "294/294 [==============================] - 0s 871us/sample - loss: 0.6061 - acc: 0.7789 - val_loss: 0.6308 - val_acc: 0.7849\n",
            "Epoch 10/40\n",
            "294/294 [==============================] - 0s 872us/sample - loss: 0.5417 - acc: 0.8027 - val_loss: 0.6186 - val_acc: 0.7742\n",
            "Epoch 11/40\n",
            "294/294 [==============================] - 0s 842us/sample - loss: 0.4670 - acc: 0.8231 - val_loss: 0.6826 - val_acc: 0.7634\n",
            "Epoch 12/40\n",
            "294/294 [==============================] - 0s 824us/sample - loss: 0.3938 - acc: 0.8503 - val_loss: 0.6483 - val_acc: 0.7957\n",
            "Epoch 13/40\n",
            "294/294 [==============================] - 0s 826us/sample - loss: 0.3143 - acc: 0.8741 - val_loss: 1.2897 - val_acc: 0.7527\n",
            "Epoch 14/40\n",
            "294/294 [==============================] - 0s 834us/sample - loss: 0.4431 - acc: 0.8537 - val_loss: 0.8308 - val_acc: 0.7312\n",
            "Epoch 15/40\n",
            "294/294 [==============================] - 0s 831us/sample - loss: 0.2415 - acc: 0.9116 - val_loss: 1.0037 - val_acc: 0.7312\n",
            "Epoch 16/40\n",
            "294/294 [==============================] - 0s 817us/sample - loss: 0.1310 - acc: 0.9592 - val_loss: 1.1352 - val_acc: 0.6989\n",
            "Epoch 17/40\n",
            "294/294 [==============================] - 0s 824us/sample - loss: 0.0785 - acc: 0.9762 - val_loss: 1.3535 - val_acc: 0.7204\n",
            "Epoch 18/40\n",
            "294/294 [==============================] - 0s 846us/sample - loss: 0.0425 - acc: 0.9932 - val_loss: 1.5772 - val_acc: 0.6989\n",
            "Epoch 19/40\n",
            "294/294 [==============================] - 0s 843us/sample - loss: 0.0679 - acc: 0.9728 - val_loss: 1.4848 - val_acc: 0.6452\n",
            "Epoch 20/40\n",
            "294/294 [==============================] - 0s 818us/sample - loss: 0.0397 - acc: 0.9932 - val_loss: 1.9635 - val_acc: 0.7097\n",
            "Epoch 21/40\n",
            "294/294 [==============================] - 0s 834us/sample - loss: 0.0256 - acc: 0.9932 - val_loss: 1.7896 - val_acc: 0.7097\n",
            "Epoch 22/40\n",
            "294/294 [==============================] - 0s 849us/sample - loss: 0.0097 - acc: 1.0000 - val_loss: 1.8763 - val_acc: 0.7204\n",
            "Epoch 23/40\n",
            "294/294 [==============================] - 0s 815us/sample - loss: 0.0045 - acc: 1.0000 - val_loss: 1.9465 - val_acc: 0.7204\n",
            "Epoch 24/40\n",
            "294/294 [==============================] - 0s 825us/sample - loss: 0.0027 - acc: 1.0000 - val_loss: 2.0200 - val_acc: 0.7204\n",
            "Epoch 25/40\n",
            "294/294 [==============================] - 0s 832us/sample - loss: 0.0019 - acc: 1.0000 - val_loss: 2.0468 - val_acc: 0.7097\n",
            "Epoch 26/40\n",
            "294/294 [==============================] - 0s 831us/sample - loss: 0.0014 - acc: 1.0000 - val_loss: 2.1263 - val_acc: 0.7097\n",
            "Epoch 27/40\n",
            "294/294 [==============================] - 0s 839us/sample - loss: 0.0012 - acc: 1.0000 - val_loss: 2.1841 - val_acc: 0.7097\n",
            "Epoch 28/40\n",
            "294/294 [==============================] - 0s 825us/sample - loss: 0.0010 - acc: 1.0000 - val_loss: 2.1939 - val_acc: 0.7097\n",
            "Epoch 29/40\n",
            "294/294 [==============================] - 0s 835us/sample - loss: 9.1285e-04 - acc: 1.0000 - val_loss: 2.2299 - val_acc: 0.7097\n",
            "Epoch 30/40\n",
            "294/294 [==============================] - 0s 823us/sample - loss: 8.1299e-04 - acc: 1.0000 - val_loss: 2.2923 - val_acc: 0.7097\n",
            "Epoch 31/40\n",
            "294/294 [==============================] - 0s 870us/sample - loss: 7.2401e-04 - acc: 1.0000 - val_loss: 2.2951 - val_acc: 0.7097\n",
            "Epoch 32/40\n",
            "294/294 [==============================] - 0s 828us/sample - loss: 6.5780e-04 - acc: 1.0000 - val_loss: 2.3158 - val_acc: 0.7204\n",
            "Epoch 33/40\n",
            "294/294 [==============================] - 0s 849us/sample - loss: 5.8798e-04 - acc: 1.0000 - val_loss: 2.3525 - val_acc: 0.7204\n",
            "Epoch 34/40\n",
            "294/294 [==============================] - 0s 811us/sample - loss: 5.4197e-04 - acc: 1.0000 - val_loss: 2.3788 - val_acc: 0.7204\n",
            "Epoch 35/40\n",
            "294/294 [==============================] - 0s 857us/sample - loss: 4.9909e-04 - acc: 1.0000 - val_loss: 2.4126 - val_acc: 0.7097\n",
            "Epoch 36/40\n",
            "294/294 [==============================] - 0s 833us/sample - loss: 4.6250e-04 - acc: 1.0000 - val_loss: 2.4314 - val_acc: 0.7312\n",
            "Epoch 37/40\n",
            "294/294 [==============================] - 0s 802us/sample - loss: 4.2736e-04 - acc: 1.0000 - val_loss: 2.4422 - val_acc: 0.7204\n",
            "Epoch 38/40\n",
            "294/294 [==============================] - 0s 813us/sample - loss: 3.9896e-04 - acc: 1.0000 - val_loss: 2.4693 - val_acc: 0.7204\n",
            "Epoch 39/40\n",
            "294/294 [==============================] - 0s 872us/sample - loss: 3.7193e-04 - acc: 1.0000 - val_loss: 2.4828 - val_acc: 0.7312\n",
            "Epoch 40/40\n",
            "294/294 [==============================] - 0s 838us/sample - loss: 3.5052e-04 - acc: 1.0000 - val_loss: 2.5130 - val_acc: 0.7204\n",
            "74/74 [==============================] - 0s 379us/sample - loss: 2.7768 - acc: 0.7027\n",
            "Train on 295 samples, validate on 92 samples\n",
            "Epoch 1/40\n",
            "295/295 [==============================] - 9s 29ms/sample - loss: 0.8874 - acc: 0.6881 - val_loss: 0.8213 - val_acc: 0.6957\n",
            "Epoch 2/40\n",
            "295/295 [==============================] - 0s 1ms/sample - loss: 0.8353 - acc: 0.6949 - val_loss: 0.8025 - val_acc: 0.6957\n",
            "Epoch 3/40\n",
            "295/295 [==============================] - 0s 950us/sample - loss: 0.8032 - acc: 0.6949 - val_loss: 0.8953 - val_acc: 0.6957\n",
            "Epoch 4/40\n",
            "295/295 [==============================] - 0s 915us/sample - loss: 0.8302 - acc: 0.6983 - val_loss: 0.7913 - val_acc: 0.6957\n",
            "Epoch 5/40\n",
            "295/295 [==============================] - 0s 887us/sample - loss: 0.7416 - acc: 0.7119 - val_loss: 0.7743 - val_acc: 0.7174\n",
            "Epoch 6/40\n",
            "295/295 [==============================] - 0s 897us/sample - loss: 0.6831 - acc: 0.7593 - val_loss: 0.7613 - val_acc: 0.7283\n",
            "Epoch 7/40\n",
            "295/295 [==============================] - 0s 890us/sample - loss: 0.6021 - acc: 0.7729 - val_loss: 0.7110 - val_acc: 0.7283\n",
            "Epoch 8/40\n",
            "295/295 [==============================] - 0s 841us/sample - loss: 0.5512 - acc: 0.7898 - val_loss: 0.7521 - val_acc: 0.7500\n",
            "Epoch 9/40\n",
            "295/295 [==============================] - 0s 839us/sample - loss: 0.4912 - acc: 0.8136 - val_loss: 0.7942 - val_acc: 0.7391\n",
            "Epoch 10/40\n",
            "295/295 [==============================] - 0s 890us/sample - loss: 0.3824 - acc: 0.8610 - val_loss: 0.8684 - val_acc: 0.6413\n",
            "Epoch 11/40\n",
            "295/295 [==============================] - 0s 831us/sample - loss: 0.2830 - acc: 0.8949 - val_loss: 1.0581 - val_acc: 0.5870\n",
            "Epoch 12/40\n",
            "295/295 [==============================] - 0s 811us/sample - loss: 0.2044 - acc: 0.9288 - val_loss: 1.3809 - val_acc: 0.6739\n",
            "Epoch 13/40\n",
            "295/295 [==============================] - 0s 817us/sample - loss: 0.1531 - acc: 0.9424 - val_loss: 1.4200 - val_acc: 0.6304\n",
            "Epoch 14/40\n",
            "295/295 [==============================] - 0s 825us/sample - loss: 0.1070 - acc: 0.9661 - val_loss: 1.7607 - val_acc: 0.5435\n",
            "Epoch 15/40\n",
            "295/295 [==============================] - 0s 823us/sample - loss: 0.0852 - acc: 0.9729 - val_loss: 2.0034 - val_acc: 0.6630\n",
            "Epoch 16/40\n",
            "295/295 [==============================] - 0s 829us/sample - loss: 0.0900 - acc: 0.9627 - val_loss: 2.1277 - val_acc: 0.5109\n",
            "Epoch 17/40\n",
            "295/295 [==============================] - 0s 823us/sample - loss: 0.0812 - acc: 0.9729 - val_loss: 2.3111 - val_acc: 0.6087\n",
            "Epoch 18/40\n",
            "295/295 [==============================] - 0s 833us/sample - loss: 0.0798 - acc: 0.9797 - val_loss: 2.3647 - val_acc: 0.6196\n",
            "Epoch 19/40\n",
            "295/295 [==============================] - 0s 835us/sample - loss: 0.0535 - acc: 0.9831 - val_loss: 2.4301 - val_acc: 0.5978\n",
            "Epoch 20/40\n",
            "295/295 [==============================] - 0s 812us/sample - loss: 0.0131 - acc: 1.0000 - val_loss: 2.5812 - val_acc: 0.6739\n",
            "Epoch 21/40\n",
            "295/295 [==============================] - 0s 813us/sample - loss: 0.0054 - acc: 1.0000 - val_loss: 2.6633 - val_acc: 0.6848\n",
            "Epoch 22/40\n",
            "295/295 [==============================] - 0s 813us/sample - loss: 0.0019 - acc: 1.0000 - val_loss: 2.6915 - val_acc: 0.6848\n",
            "Epoch 23/40\n",
            "295/295 [==============================] - 0s 872us/sample - loss: 0.0013 - acc: 1.0000 - val_loss: 2.7072 - val_acc: 0.6630\n",
            "Epoch 24/40\n",
            "295/295 [==============================] - 0s 812us/sample - loss: 0.0010 - acc: 1.0000 - val_loss: 2.7507 - val_acc: 0.6630\n",
            "Epoch 25/40\n",
            "295/295 [==============================] - 0s 817us/sample - loss: 8.7279e-04 - acc: 1.0000 - val_loss: 2.7936 - val_acc: 0.6739\n",
            "Epoch 26/40\n",
            "295/295 [==============================] - 0s 829us/sample - loss: 7.7590e-04 - acc: 1.0000 - val_loss: 2.8240 - val_acc: 0.6630\n",
            "Epoch 27/40\n",
            "295/295 [==============================] - 0s 855us/sample - loss: 6.8557e-04 - acc: 1.0000 - val_loss: 2.8586 - val_acc: 0.6848\n",
            "Epoch 28/40\n",
            "295/295 [==============================] - 0s 825us/sample - loss: 6.1504e-04 - acc: 1.0000 - val_loss: 2.8868 - val_acc: 0.6848\n",
            "Epoch 29/40\n",
            "295/295 [==============================] - 0s 813us/sample - loss: 5.5594e-04 - acc: 1.0000 - val_loss: 2.9163 - val_acc: 0.6848\n",
            "Epoch 30/40\n",
            "295/295 [==============================] - 0s 816us/sample - loss: 5.0802e-04 - acc: 1.0000 - val_loss: 2.9386 - val_acc: 0.6848\n",
            "Epoch 31/40\n",
            "295/295 [==============================] - 0s 877us/sample - loss: 4.6462e-04 - acc: 1.0000 - val_loss: 2.9607 - val_acc: 0.6848\n",
            "Epoch 32/40\n",
            "295/295 [==============================] - 0s 861us/sample - loss: 4.3028e-04 - acc: 1.0000 - val_loss: 2.9851 - val_acc: 0.6848\n",
            "Epoch 33/40\n",
            "295/295 [==============================] - 0s 838us/sample - loss: 3.9784e-04 - acc: 1.0000 - val_loss: 3.0104 - val_acc: 0.6848\n",
            "Epoch 34/40\n",
            "295/295 [==============================] - 0s 841us/sample - loss: 3.6970e-04 - acc: 1.0000 - val_loss: 3.0342 - val_acc: 0.6848\n",
            "Epoch 35/40\n",
            "295/295 [==============================] - 0s 875us/sample - loss: 3.4373e-04 - acc: 1.0000 - val_loss: 3.0563 - val_acc: 0.6848\n",
            "Epoch 36/40\n",
            "295/295 [==============================] - 0s 832us/sample - loss: 3.2479e-04 - acc: 1.0000 - val_loss: 3.0731 - val_acc: 0.6848\n",
            "Epoch 37/40\n",
            "295/295 [==============================] - 0s 816us/sample - loss: 3.0345e-04 - acc: 1.0000 - val_loss: 3.0930 - val_acc: 0.6848\n",
            "Epoch 38/40\n",
            "295/295 [==============================] - 0s 814us/sample - loss: 2.8438e-04 - acc: 1.0000 - val_loss: 3.1134 - val_acc: 0.6848\n",
            "Epoch 39/40\n",
            "295/295 [==============================] - 0s 851us/sample - loss: 2.6751e-04 - acc: 1.0000 - val_loss: 3.1318 - val_acc: 0.6848\n",
            "Epoch 40/40\n",
            "295/295 [==============================] - 0s 823us/sample - loss: 2.5139e-04 - acc: 1.0000 - val_loss: 3.1500 - val_acc: 0.6848\n",
            "74/74 [==============================] - 0s 380us/sample - loss: 2.2043 - acc: 0.7027\n",
            "Train on 295 samples, validate on 92 samples\n",
            "Epoch 1/40\n",
            "295/295 [==============================] - 9s 29ms/sample - loss: 0.9087 - acc: 0.6746 - val_loss: 0.8828 - val_acc: 0.6957\n",
            "Epoch 2/40\n",
            "295/295 [==============================] - 0s 1ms/sample - loss: 0.8461 - acc: 0.6508 - val_loss: 0.8223 - val_acc: 0.6957\n",
            "Epoch 3/40\n",
            "295/295 [==============================] - 0s 985us/sample - loss: 0.8037 - acc: 0.6949 - val_loss: 0.8193 - val_acc: 0.6957\n",
            "Epoch 4/40\n",
            "295/295 [==============================] - 0s 925us/sample - loss: 0.7939 - acc: 0.6949 - val_loss: 0.7791 - val_acc: 0.6957\n",
            "Epoch 5/40\n",
            "295/295 [==============================] - 0s 967us/sample - loss: 0.7753 - acc: 0.6983 - val_loss: 0.7365 - val_acc: 0.7065\n",
            "Epoch 6/40\n",
            "295/295 [==============================] - 0s 867us/sample - loss: 0.7487 - acc: 0.7186 - val_loss: 0.7678 - val_acc: 0.7174\n",
            "Epoch 7/40\n",
            "295/295 [==============================] - 0s 849us/sample - loss: 0.7087 - acc: 0.7356 - val_loss: 0.8165 - val_acc: 0.6848\n",
            "Epoch 8/40\n",
            "295/295 [==============================] - 0s 885us/sample - loss: 0.6185 - acc: 0.7729 - val_loss: 0.7024 - val_acc: 0.7391\n",
            "Epoch 9/40\n",
            "295/295 [==============================] - 0s 888us/sample - loss: 0.4907 - acc: 0.8068 - val_loss: 0.8281 - val_acc: 0.7391\n",
            "Epoch 10/40\n",
            "295/295 [==============================] - 0s 834us/sample - loss: 0.4297 - acc: 0.8305 - val_loss: 0.8514 - val_acc: 0.6739\n",
            "Epoch 11/40\n",
            "295/295 [==============================] - 0s 833us/sample - loss: 0.3191 - acc: 0.8780 - val_loss: 0.9395 - val_acc: 0.6522\n",
            "Epoch 12/40\n",
            "295/295 [==============================] - 0s 839us/sample - loss: 0.2214 - acc: 0.9254 - val_loss: 1.0717 - val_acc: 0.6630\n",
            "Epoch 13/40\n",
            "295/295 [==============================] - 0s 875us/sample - loss: 0.2366 - acc: 0.9186 - val_loss: 1.3066 - val_acc: 0.6739\n",
            "Epoch 14/40\n",
            "295/295 [==============================] - 0s 818us/sample - loss: 0.1453 - acc: 0.9525 - val_loss: 1.2072 - val_acc: 0.7174\n",
            "Epoch 15/40\n",
            "295/295 [==============================] - 0s 837us/sample - loss: 0.0573 - acc: 0.9898 - val_loss: 1.4762 - val_acc: 0.6957\n",
            "Epoch 16/40\n",
            "295/295 [==============================] - 0s 853us/sample - loss: 0.0210 - acc: 1.0000 - val_loss: 1.5937 - val_acc: 0.6739\n",
            "Epoch 17/40\n",
            "295/295 [==============================] - 0s 912us/sample - loss: 0.0112 - acc: 1.0000 - val_loss: 1.8216 - val_acc: 0.7065\n",
            "Epoch 18/40\n",
            "295/295 [==============================] - 0s 833us/sample - loss: 0.0051 - acc: 1.0000 - val_loss: 1.9050 - val_acc: 0.6957\n",
            "Epoch 19/40\n",
            "295/295 [==============================] - 0s 838us/sample - loss: 0.0026 - acc: 1.0000 - val_loss: 1.9641 - val_acc: 0.7065\n",
            "Epoch 20/40\n",
            "295/295 [==============================] - 0s 829us/sample - loss: 0.0021 - acc: 1.0000 - val_loss: 2.0057 - val_acc: 0.7065\n",
            "Epoch 21/40\n",
            "295/295 [==============================] - 0s 865us/sample - loss: 0.0017 - acc: 1.0000 - val_loss: 2.0533 - val_acc: 0.6957\n",
            "Epoch 22/40\n",
            "295/295 [==============================] - 0s 855us/sample - loss: 0.0014 - acc: 1.0000 - val_loss: 2.0905 - val_acc: 0.7065\n",
            "Epoch 23/40\n",
            "295/295 [==============================] - 0s 848us/sample - loss: 0.0012 - acc: 1.0000 - val_loss: 2.1074 - val_acc: 0.7065\n",
            "Epoch 24/40\n",
            "295/295 [==============================] - 0s 824us/sample - loss: 0.0011 - acc: 1.0000 - val_loss: 2.1469 - val_acc: 0.7065\n",
            "Epoch 25/40\n",
            "295/295 [==============================] - 0s 849us/sample - loss: 9.3536e-04 - acc: 1.0000 - val_loss: 2.1751 - val_acc: 0.7065\n",
            "Epoch 26/40\n",
            "295/295 [==============================] - 0s 832us/sample - loss: 8.5029e-04 - acc: 1.0000 - val_loss: 2.1960 - val_acc: 0.7065\n",
            "Epoch 27/40\n",
            "295/295 [==============================] - 0s 849us/sample - loss: 7.5494e-04 - acc: 1.0000 - val_loss: 2.2249 - val_acc: 0.7065\n",
            "Epoch 28/40\n",
            "295/295 [==============================] - 0s 833us/sample - loss: 6.8481e-04 - acc: 1.0000 - val_loss: 2.2531 - val_acc: 0.7065\n",
            "Epoch 29/40\n",
            "295/295 [==============================] - 0s 858us/sample - loss: 6.2364e-04 - acc: 1.0000 - val_loss: 2.2691 - val_acc: 0.7065\n",
            "Epoch 30/40\n",
            "295/295 [==============================] - 0s 810us/sample - loss: 5.7098e-04 - acc: 1.0000 - val_loss: 2.2874 - val_acc: 0.6957\n",
            "Epoch 31/40\n",
            "295/295 [==============================] - 0s 841us/sample - loss: 5.2427e-04 - acc: 1.0000 - val_loss: 2.3080 - val_acc: 0.7065\n",
            "Epoch 32/40\n",
            "295/295 [==============================] - 0s 820us/sample - loss: 4.8448e-04 - acc: 1.0000 - val_loss: 2.3239 - val_acc: 0.7065\n",
            "Epoch 33/40\n",
            "295/295 [==============================] - 0s 876us/sample - loss: 4.5748e-04 - acc: 1.0000 - val_loss: 2.3595 - val_acc: 0.7065\n",
            "Epoch 34/40\n",
            "295/295 [==============================] - 0s 841us/sample - loss: 4.2744e-04 - acc: 1.0000 - val_loss: 2.3529 - val_acc: 0.6957\n",
            "Epoch 35/40\n",
            "295/295 [==============================] - 0s 839us/sample - loss: 3.8639e-04 - acc: 1.0000 - val_loss: 2.3814 - val_acc: 0.7065\n",
            "Epoch 36/40\n",
            "295/295 [==============================] - 0s 826us/sample - loss: 3.6207e-04 - acc: 1.0000 - val_loss: 2.3908 - val_acc: 0.6957\n",
            "Epoch 37/40\n",
            "295/295 [==============================] - 0s 836us/sample - loss: 3.4079e-04 - acc: 1.0000 - val_loss: 2.4156 - val_acc: 0.6957\n",
            "Epoch 38/40\n",
            "295/295 [==============================] - 0s 821us/sample - loss: 3.1772e-04 - acc: 1.0000 - val_loss: 2.4256 - val_acc: 0.6957\n",
            "Epoch 39/40\n",
            "295/295 [==============================] - 0s 827us/sample - loss: 2.9813e-04 - acc: 1.0000 - val_loss: 2.4364 - val_acc: 0.6957\n",
            "Epoch 40/40\n",
            "295/295 [==============================] - 0s 845us/sample - loss: 2.8446e-04 - acc: 1.0000 - val_loss: 2.4634 - val_acc: 0.7065\n",
            "74/74 [==============================] - 0s 383us/sample - loss: 2.5693 - acc: 0.7703\n",
            "Train on 295 samples, validate on 92 samples\n",
            "Epoch 1/40\n",
            "295/295 [==============================] - 9s 29ms/sample - loss: 0.8907 - acc: 0.6610 - val_loss: 0.8022 - val_acc: 0.6957\n",
            "Epoch 2/40\n",
            "295/295 [==============================] - 0s 1ms/sample - loss: 0.8403 - acc: 0.6949 - val_loss: 0.8257 - val_acc: 0.6957\n",
            "Epoch 3/40\n",
            "295/295 [==============================] - 0s 925us/sample - loss: 0.8297 - acc: 0.6949 - val_loss: 0.9918 - val_acc: 0.2935\n",
            "Epoch 4/40\n",
            "295/295 [==============================] - 0s 933us/sample - loss: 0.8322 - acc: 0.6508 - val_loss: 0.7857 - val_acc: 0.6957\n",
            "Epoch 5/40\n",
            "295/295 [==============================] - 0s 904us/sample - loss: 0.7761 - acc: 0.6949 - val_loss: 0.7495 - val_acc: 0.6957\n",
            "Epoch 6/40\n",
            "295/295 [==============================] - 0s 907us/sample - loss: 0.7149 - acc: 0.7322 - val_loss: 0.7213 - val_acc: 0.7174\n",
            "Epoch 7/40\n",
            "295/295 [==============================] - 0s 861us/sample - loss: 0.6600 - acc: 0.7390 - val_loss: 0.7112 - val_acc: 0.7174\n",
            "Epoch 8/40\n",
            "295/295 [==============================] - 0s 860us/sample - loss: 0.6124 - acc: 0.7627 - val_loss: 0.7469 - val_acc: 0.7391\n",
            "Epoch 9/40\n",
            "295/295 [==============================] - 0s 842us/sample - loss: 0.4923 - acc: 0.8203 - val_loss: 0.7931 - val_acc: 0.7391\n",
            "Epoch 10/40\n",
            "295/295 [==============================] - 0s 863us/sample - loss: 0.4184 - acc: 0.8542 - val_loss: 0.9310 - val_acc: 0.7391\n",
            "Epoch 11/40\n",
            "295/295 [==============================] - 0s 824us/sample - loss: 0.3038 - acc: 0.8780 - val_loss: 1.1393 - val_acc: 0.5978\n",
            "Epoch 12/40\n",
            "295/295 [==============================] - 0s 863us/sample - loss: 0.2453 - acc: 0.9186 - val_loss: 1.1876 - val_acc: 0.6957\n",
            "Epoch 13/40\n",
            "295/295 [==============================] - 0s 832us/sample - loss: 0.1777 - acc: 0.9424 - val_loss: 1.3326 - val_acc: 0.6957\n",
            "Epoch 14/40\n",
            "295/295 [==============================] - 0s 829us/sample - loss: 0.1210 - acc: 0.9525 - val_loss: 1.3356 - val_acc: 0.6739\n",
            "Epoch 15/40\n",
            "295/295 [==============================] - 0s 832us/sample - loss: 0.0627 - acc: 0.9864 - val_loss: 1.4026 - val_acc: 0.6848\n",
            "Epoch 16/40\n",
            "295/295 [==============================] - 0s 857us/sample - loss: 0.0228 - acc: 0.9966 - val_loss: 1.5699 - val_acc: 0.7283\n",
            "Epoch 17/40\n",
            "295/295 [==============================] - 0s 825us/sample - loss: 0.0115 - acc: 1.0000 - val_loss: 1.7108 - val_acc: 0.7174\n",
            "Epoch 18/40\n",
            "295/295 [==============================] - 0s 813us/sample - loss: 0.0050 - acc: 1.0000 - val_loss: 1.7940 - val_acc: 0.7065\n",
            "Epoch 19/40\n",
            "295/295 [==============================] - 0s 823us/sample - loss: 0.0033 - acc: 1.0000 - val_loss: 1.8975 - val_acc: 0.7283\n",
            "Epoch 20/40\n",
            "295/295 [==============================] - 0s 844us/sample - loss: 0.0021 - acc: 1.0000 - val_loss: 1.9757 - val_acc: 0.7174\n",
            "Epoch 21/40\n",
            "295/295 [==============================] - 0s 819us/sample - loss: 0.0016 - acc: 1.0000 - val_loss: 2.0287 - val_acc: 0.7174\n",
            "Epoch 22/40\n",
            "295/295 [==============================] - 0s 804us/sample - loss: 0.0013 - acc: 1.0000 - val_loss: 2.0775 - val_acc: 0.6957\n",
            "Epoch 23/40\n",
            "295/295 [==============================] - 0s 812us/sample - loss: 0.0011 - acc: 1.0000 - val_loss: 2.1195 - val_acc: 0.7065\n",
            "Epoch 24/40\n",
            "295/295 [==============================] - 0s 860us/sample - loss: 9.6417e-04 - acc: 1.0000 - val_loss: 2.1580 - val_acc: 0.7065\n",
            "Epoch 25/40\n",
            "295/295 [==============================] - 0s 819us/sample - loss: 8.4770e-04 - acc: 1.0000 - val_loss: 2.1947 - val_acc: 0.7065\n",
            "Epoch 26/40\n",
            "295/295 [==============================] - 0s 820us/sample - loss: 7.5448e-04 - acc: 1.0000 - val_loss: 2.2283 - val_acc: 0.7065\n",
            "Epoch 27/40\n",
            "295/295 [==============================] - 0s 816us/sample - loss: 6.7835e-04 - acc: 1.0000 - val_loss: 2.2576 - val_acc: 0.7065\n",
            "Epoch 28/40\n",
            "295/295 [==============================] - 0s 871us/sample - loss: 6.1400e-04 - acc: 1.0000 - val_loss: 2.2830 - val_acc: 0.7065\n",
            "Epoch 29/40\n",
            "295/295 [==============================] - 0s 839us/sample - loss: 5.5996e-04 - acc: 1.0000 - val_loss: 2.3080 - val_acc: 0.7065\n",
            "Epoch 30/40\n",
            "295/295 [==============================] - 0s 814us/sample - loss: 5.1281e-04 - acc: 1.0000 - val_loss: 2.3321 - val_acc: 0.7065\n",
            "Epoch 31/40\n",
            "295/295 [==============================] - 0s 815us/sample - loss: 4.8033e-04 - acc: 1.0000 - val_loss: 2.3577 - val_acc: 0.7174\n",
            "Epoch 32/40\n",
            "295/295 [==============================] - 0s 847us/sample - loss: 4.3479e-04 - acc: 1.0000 - val_loss: 2.3763 - val_acc: 0.7065\n",
            "Epoch 33/40\n",
            "295/295 [==============================] - 0s 815us/sample - loss: 4.0530e-04 - acc: 1.0000 - val_loss: 2.3993 - val_acc: 0.7174\n",
            "Epoch 34/40\n",
            "295/295 [==============================] - 0s 810us/sample - loss: 3.7503e-04 - acc: 1.0000 - val_loss: 2.4248 - val_acc: 0.7174\n",
            "Epoch 35/40\n",
            "295/295 [==============================] - 0s 824us/sample - loss: 3.5152e-04 - acc: 1.0000 - val_loss: 2.4449 - val_acc: 0.7174\n",
            "Epoch 36/40\n",
            "295/295 [==============================] - 0s 864us/sample - loss: 3.2871e-04 - acc: 1.0000 - val_loss: 2.4638 - val_acc: 0.7174\n",
            "Epoch 37/40\n",
            "295/295 [==============================] - 0s 829us/sample - loss: 3.0714e-04 - acc: 1.0000 - val_loss: 2.4817 - val_acc: 0.7174\n",
            "Epoch 38/40\n",
            "295/295 [==============================] - 0s 808us/sample - loss: 2.8890e-04 - acc: 1.0000 - val_loss: 2.4981 - val_acc: 0.7174\n",
            "Epoch 39/40\n",
            "295/295 [==============================] - 0s 817us/sample - loss: 2.7360e-04 - acc: 1.0000 - val_loss: 2.5141 - val_acc: 0.7174\n",
            "Epoch 40/40\n",
            "295/295 [==============================] - 0s 850us/sample - loss: 2.5674e-04 - acc: 1.0000 - val_loss: 2.5330 - val_acc: 0.7174\n",
            "74/74 [==============================] - 0s 386us/sample - loss: 1.7828 - acc: 0.6892\n",
            "Train on 295 samples, validate on 92 samples\n",
            "Epoch 1/40\n",
            "295/295 [==============================] - 9s 30ms/sample - loss: 0.9119 - acc: 0.6915 - val_loss: 0.8065 - val_acc: 0.6957\n",
            "Epoch 2/40\n",
            "295/295 [==============================] - 0s 1ms/sample - loss: 0.8429 - acc: 0.6949 - val_loss: 0.8346 - val_acc: 0.6957\n",
            "Epoch 3/40\n",
            "295/295 [==============================] - 0s 1ms/sample - loss: 0.8162 - acc: 0.6949 - val_loss: 0.7816 - val_acc: 0.6957\n",
            "Epoch 4/40\n",
            "295/295 [==============================] - 0s 908us/sample - loss: 0.8091 - acc: 0.7017 - val_loss: 0.8864 - val_acc: 0.6957\n",
            "Epoch 5/40\n",
            "295/295 [==============================] - 0s 948us/sample - loss: 0.7992 - acc: 0.7017 - val_loss: 0.7711 - val_acc: 0.6957\n",
            "Epoch 6/40\n",
            "295/295 [==============================] - 0s 897us/sample - loss: 0.7714 - acc: 0.7220 - val_loss: 0.8330 - val_acc: 0.7500\n",
            "Epoch 7/40\n",
            "295/295 [==============================] - 0s 859us/sample - loss: 0.7600 - acc: 0.7424 - val_loss: 0.6962 - val_acc: 0.7500\n",
            "Epoch 8/40\n",
            "295/295 [==============================] - 0s 914us/sample - loss: 0.6469 - acc: 0.7593 - val_loss: 0.6417 - val_acc: 0.7500\n",
            "Epoch 9/40\n",
            "295/295 [==============================] - 0s 921us/sample - loss: 0.5843 - acc: 0.7763 - val_loss: 0.6782 - val_acc: 0.7174\n",
            "Epoch 10/40\n",
            "295/295 [==============================] - 0s 892us/sample - loss: 0.5361 - acc: 0.8169 - val_loss: 0.6295 - val_acc: 0.7717\n",
            "Epoch 11/40\n",
            "295/295 [==============================] - 0s 857us/sample - loss: 0.4687 - acc: 0.8407 - val_loss: 0.7893 - val_acc: 0.7391\n",
            "Epoch 12/40\n",
            "295/295 [==============================] - 0s 854us/sample - loss: 0.3698 - acc: 0.8542 - val_loss: 0.7855 - val_acc: 0.7500\n",
            "Epoch 13/40\n",
            "295/295 [==============================] - 0s 853us/sample - loss: 0.2564 - acc: 0.9051 - val_loss: 0.9176 - val_acc: 0.7717\n",
            "Epoch 14/40\n",
            "295/295 [==============================] - 0s 864us/sample - loss: 0.1720 - acc: 0.9356 - val_loss: 0.9982 - val_acc: 0.6848\n",
            "Epoch 15/40\n",
            "295/295 [==============================] - 0s 835us/sample - loss: 0.1424 - acc: 0.9424 - val_loss: 1.1334 - val_acc: 0.7500\n",
            "Epoch 16/40\n",
            "295/295 [==============================] - 0s 833us/sample - loss: 0.0720 - acc: 0.9763 - val_loss: 1.3898 - val_acc: 0.7609\n",
            "Epoch 17/40\n",
            "295/295 [==============================] - 0s 832us/sample - loss: 0.0374 - acc: 0.9898 - val_loss: 1.5984 - val_acc: 0.7391\n",
            "Epoch 18/40\n",
            "295/295 [==============================] - 0s 852us/sample - loss: 0.0147 - acc: 1.0000 - val_loss: 1.7089 - val_acc: 0.7174\n",
            "Epoch 19/40\n",
            "295/295 [==============================] - 0s 828us/sample - loss: 0.0053 - acc: 1.0000 - val_loss: 1.8908 - val_acc: 0.7391\n",
            "Epoch 20/40\n",
            "295/295 [==============================] - 0s 831us/sample - loss: 0.0032 - acc: 1.0000 - val_loss: 1.9315 - val_acc: 0.7500\n",
            "Epoch 21/40\n",
            "295/295 [==============================] - 0s 833us/sample - loss: 0.0021 - acc: 1.0000 - val_loss: 1.9993 - val_acc: 0.7500\n",
            "Epoch 22/40\n",
            "295/295 [==============================] - 0s 858us/sample - loss: 0.0017 - acc: 1.0000 - val_loss: 2.0689 - val_acc: 0.7500\n",
            "Epoch 23/40\n",
            "295/295 [==============================] - 0s 845us/sample - loss: 0.0014 - acc: 1.0000 - val_loss: 2.0938 - val_acc: 0.7500\n",
            "Epoch 24/40\n",
            "295/295 [==============================] - 0s 831us/sample - loss: 0.0012 - acc: 1.0000 - val_loss: 2.1342 - val_acc: 0.7500\n",
            "Epoch 25/40\n",
            "295/295 [==============================] - 0s 869us/sample - loss: 0.0010 - acc: 1.0000 - val_loss: 2.1663 - val_acc: 0.7500\n",
            "Epoch 26/40\n",
            "295/295 [==============================] - 0s 862us/sample - loss: 8.7990e-04 - acc: 1.0000 - val_loss: 2.1988 - val_acc: 0.7500\n",
            "Epoch 27/40\n",
            "295/295 [==============================] - 0s 839us/sample - loss: 7.8262e-04 - acc: 1.0000 - val_loss: 2.2313 - val_acc: 0.7500\n",
            "Epoch 28/40\n",
            "295/295 [==============================] - 0s 847us/sample - loss: 6.9534e-04 - acc: 1.0000 - val_loss: 2.2642 - val_acc: 0.7500\n",
            "Epoch 29/40\n",
            "295/295 [==============================] - 0s 852us/sample - loss: 6.3022e-04 - acc: 1.0000 - val_loss: 2.2865 - val_acc: 0.7391\n",
            "Epoch 30/40\n",
            "295/295 [==============================] - 0s 895us/sample - loss: 5.6700e-04 - acc: 1.0000 - val_loss: 2.3120 - val_acc: 0.7391\n",
            "Epoch 31/40\n",
            "295/295 [==============================] - 0s 844us/sample - loss: 5.2023e-04 - acc: 1.0000 - val_loss: 2.3362 - val_acc: 0.7391\n",
            "Epoch 32/40\n",
            "295/295 [==============================] - 0s 836us/sample - loss: 4.7296e-04 - acc: 1.0000 - val_loss: 2.3602 - val_acc: 0.7391\n",
            "Epoch 33/40\n",
            "295/295 [==============================] - 0s 835us/sample - loss: 4.3868e-04 - acc: 1.0000 - val_loss: 2.3818 - val_acc: 0.7391\n",
            "Epoch 34/40\n",
            "295/295 [==============================] - 0s 858us/sample - loss: 3.9759e-04 - acc: 1.0000 - val_loss: 2.3922 - val_acc: 0.7391\n",
            "Epoch 35/40\n",
            "295/295 [==============================] - 0s 834us/sample - loss: 3.7377e-04 - acc: 1.0000 - val_loss: 2.4198 - val_acc: 0.7391\n",
            "Epoch 36/40\n",
            "295/295 [==============================] - 0s 827us/sample - loss: 3.4449e-04 - acc: 1.0000 - val_loss: 2.4386 - val_acc: 0.7391\n",
            "Epoch 37/40\n",
            "295/295 [==============================] - 0s 828us/sample - loss: 3.2075e-04 - acc: 1.0000 - val_loss: 2.4567 - val_acc: 0.7391\n",
            "Epoch 38/40\n",
            "295/295 [==============================] - 0s 890us/sample - loss: 3.0066e-04 - acc: 1.0000 - val_loss: 2.4721 - val_acc: 0.7391\n",
            "Epoch 39/40\n",
            "295/295 [==============================] - 0s 822us/sample - loss: 2.8082e-04 - acc: 1.0000 - val_loss: 2.4924 - val_acc: 0.7391\n",
            "Epoch 40/40\n",
            "295/295 [==============================] - 0s 811us/sample - loss: 2.6360e-04 - acc: 1.0000 - val_loss: 2.5072 - val_acc: 0.7391\n",
            "74/74 [==============================] - 0s 362us/sample - loss: 2.9327 - acc: 0.6486\n"
          ],
          "name": "stdout"
        }
      ]
    },
    {
      "cell_type": "code",
      "metadata": {
        "id": "wukhArOZ60a3",
        "colab_type": "code",
        "outputId": "421557e2-ca3b-4d7a-81b8-a5dbd0e170c2",
        "colab": {
          "base_uri": "https://localhost:8080/",
          "height": 35
        }
      },
      "source": [
        "# Calcul de la moyenne des précisions de chaque itération\n",
        "print(np.mean(cv))"
      ],
      "execution_count": 0,
      "outputs": [
        {
          "output_type": "execute_result",
          "data": {
            "text/plain": [
              "0.7027027"
            ]
          },
          "metadata": {
            "tags": []
          },
          "execution_count": 588
        }
      ]
    }
  ]
}